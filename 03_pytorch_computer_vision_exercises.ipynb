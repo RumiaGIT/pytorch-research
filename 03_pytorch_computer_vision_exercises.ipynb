{
 "cells": [
  {
   "cell_type": "markdown",
   "metadata": {
    "id": "Vex99np2wFVt"
   },
   "source": [
    "# 03. PyTorch Computer Vision Exercises\n",
    "\n",
    "The following is a collection of exercises based on computer vision fundamentals in PyTorch.\n",
    "\n",
    "They're a bunch of fun.\n",
    "\n",
    "You're going to get to write plenty of code!\n",
    "\n",
    "## Resources\n",
    "\n",
    "1. These exercises are based on [notebook 03 of the Learn PyTorch for Deep Learning course](https://www.learnpytorch.io/03_pytorch_computer_vision/). \n",
    "2. See a live [walkthrough of the solutions (errors and all) on YouTube](https://youtu.be/_PibmqpEyhA). \n",
    "  * **Note:** Going through these exercises took me just over 3 hours of solid coding, so you should expect around the same.\n",
    "3. See [other solutions on the course GitHub](https://github.com/mrdbourke/pytorch-deep-learning/tree/main/extras/solutions)."
   ]
  },
  {
   "cell_type": "code",
   "execution_count": 1,
   "metadata": {
    "ExecuteTime": {
     "end_time": "2023-02-23T18:24:34.650671Z",
     "start_time": "2023-02-23T18:24:32.855698Z"
    },
    "colab": {
     "base_uri": "https://localhost:8080/",
     "height": 53
    },
    "id": "DNwZLMbCzJLk",
    "outputId": "9c150c50-a092-4f34-9d33-b45247fb080d"
   },
   "outputs": [
    {
     "name": "stdout",
     "output_type": "stream",
     "text": [
      "1.13.1+cu117\n"
     ]
    }
   ],
   "source": [
    "# Import torch\n",
    "import torch\n",
    "\n",
    "# Exercises require PyTorch > 1.10.0\n",
    "print(torch.__version__)"
   ]
  },
  {
   "cell_type": "markdown",
   "metadata": {
    "id": "FSFX7tc1w-en"
   },
   "source": [
    "## 1. What are 3 areas in industry where computer vision is currently being used?"
   ]
  },
  {
   "cell_type": "markdown",
   "metadata": {
    "id": "VyWRkvWGbCXj"
   },
   "source": [
    "Tesla utilizes computer vision for its self-driving cars. There are also other traffic-related applications such as the detection of parking spaces as free or taken. Computer vision can also be used in medicine and health care to detect abnormalities in x-ray scans. Agriculture can also benefit from computer vision to detect insects, diseases in plants, and other abnormalities if desired."
   ]
  },
  {
   "cell_type": "markdown",
   "metadata": {
    "id": "oBK-WI6YxDYa"
   },
   "source": [
    "## 2. Search \"what is overfitting in machine learning\" and write down a sentence about what you find. "
   ]
  },
  {
   "cell_type": "markdown",
   "metadata": {
    "id": "d1rxD6GObCqh"
   },
   "source": [
    "Overfitting (and underfitting) are deficiencies in a model that affect their performance. An example of overfitting is when the model performs really well on its training data, but performs badly on new data (testing data). There may be various reasons for such an occurrence, depending on how a model is instantiated. This issue is commonly caused by not having enough training data, the model being too complex, or the data being very noisy (having many outliers and erronous values)."
   ]
  },
  {
   "cell_type": "markdown",
   "metadata": {
    "id": "XeYFEqw8xK26"
   },
   "source": [
    "## 3. Search \"ways to prevent overfitting in machine learning\", write down 3 of the things you find and a sentence about each. \n",
    "> **Note:** there are lots of these, so don't worry too much about all of them, just pick 3 and start with those."
   ]
  },
  {
   "cell_type": "markdown",
   "metadata": {
    "id": "ocvOdWKcbEKr"
   },
   "source": [
    "- Using more training data: With an increase in training data, it's possible to extract patterns and relationships that may not be discovered before\n",
    "- Cross-validation: Splitting the training data into smaller train/test splits to tune the model with\n",
    "- Removal or addition of noise: Data that is too noisy with errors will make the model perform poorly, data that is too \"flat\" (and thus not representative of data that is usually more flexible) may cause issues as well. The removal or addition may make amends if applicable"
   ]
  },
  {
   "cell_type": "markdown",
   "metadata": {
    "id": "DKdEEFEqxM-8"
   },
   "source": [
    "## 4. Spend 20-minutes reading and clicking through the [CNN Explainer website](https://poloclub.github.io/cnn-explainer/).\n",
    "\n",
    "* Upload your own example image using the \"upload\" button on the website and see what happens in each layer of a CNN as your image passes through it."
   ]
  },
  {
   "cell_type": "markdown",
   "metadata": {},
   "source": [
    "Image used:"
   ]
  },
  {
   "cell_type": "markdown",
   "metadata": {},
   "source": [
    "<img src=\"images/03_ladybug.png\" />"
   ]
  },
  {
   "cell_type": "markdown",
   "metadata": {
    "id": "TqZaJIRMbFtS"
   },
   "source": [
    "The ladybug image is uploaded into the CNN explainer website. As this neural network expects images in 64x64 pixel format, it is first resized to that size. Then, it is split into 3 separate colour channels based on RGB values. Afterwards, the image goes through several convolution layers, ReLUs, and max pooling layers. \n",
    "\n",
    "For each of the neurons in the layer before a convolution layer, a moving window (kernel) slides across the image, performing an element-wise dot product based on image activation values and kernel weights. The result is an activation map, which are summed together with bias values and given to the next layer. The results and how the kernel behaves depend on several hyperparameters such as kernel size, stride, padding, etc. \n",
    "\n",
    "A ReLU layer looks at all the activation values and sets negative values to 0, while leaving positive values alone.\n",
    "\n",
    "A max pooling layer slides another moving window (kernel) across its inputs and spits out an activation map of the highest found values found across each step of the moving window.\n",
    "\n",
    "Across the convolution layers and max pooling layers, image size is reduced. Compressing the image across the neural network improves performance and allows for the model to better recognize shapes and objects that the input image's subject matter is comprised of. It's also important to note that neurons usually have an activation value between 0 and 1. In a CNN, it's possible for them to exceed this limit due to values being summed together in convolution layers."
   ]
  },
  {
   "cell_type": "markdown",
   "metadata": {
    "id": "lvf-3pODxXYI"
   },
   "source": [
    "## 5. Load the [`torchvision.datasets.MNIST()`](https://pytorch.org/vision/stable/generated/torchvision.datasets.MNIST.html#torchvision.datasets.MNIST) train and test datasets."
   ]
  },
  {
   "cell_type": "code",
   "execution_count": 2,
   "metadata": {
    "ExecuteTime": {
     "end_time": "2023-02-23T18:24:34.978486Z",
     "start_time": "2023-02-23T18:24:34.655670Z"
    }
   },
   "outputs": [],
   "source": [
    "import torchvision\n",
    "from torchvision import datasets, transforms"
   ]
  },
  {
   "cell_type": "code",
   "execution_count": 3,
   "metadata": {
    "ExecuteTime": {
     "end_time": "2023-02-23T18:24:35.054440Z",
     "start_time": "2023-02-23T18:24:34.981495Z"
    },
    "id": "SHjeuN81bHza"
   },
   "outputs": [],
   "source": [
    "train_data = datasets.MNIST(\n",
    "    root=\"data\",\n",
    "    train=True,\n",
    "    download=True,\n",
    "    transform=torchvision.transforms.ToTensor(),\n",
    "    target_transform=None\n",
    ")\n",
    "\n",
    "test_data = datasets.MNIST(\n",
    "    root=\"data\",\n",
    "    train=False,\n",
    "    download=True,\n",
    "    transform=torchvision.transforms.ToTensor(),\n",
    "    target_transform=None\n",
    ")"
   ]
  },
  {
   "cell_type": "markdown",
   "metadata": {
    "id": "qxZW-uAbxe_F"
   },
   "source": [
    "## 6. Visualize at least 5 different samples of the MNIST training dataset."
   ]
  },
  {
   "cell_type": "code",
   "execution_count": 4,
   "metadata": {
    "ExecuteTime": {
     "end_time": "2023-02-23T18:24:35.596141Z",
     "start_time": "2023-02-23T18:24:35.059438Z"
    }
   },
   "outputs": [],
   "source": [
    "import matplotlib.pyplot as plt"
   ]
  },
  {
   "cell_type": "code",
   "execution_count": 5,
   "metadata": {
    "ExecuteTime": {
     "end_time": "2023-02-23T18:24:35.968918Z",
     "start_time": "2023-02-23T18:24:35.599147Z"
    },
    "id": "QVFsYi1PbItE"
   },
   "outputs": [
    {
     "data": {
      "image/png": "[encoded data removed]",
      "text/plain": [
       "<Figure size 900x900 with 9 Axes>"
      ]
     },
     "metadata": {},
     "output_type": "display_data"
    }
   ],
   "source": [
    "fig = plt.figure(figsize=(9, 9))\n",
    "rows, cols = 3, 3\n",
    "for i in range(1, rows * cols + 1):\n",
    "    rnd = torch.randint(0, len(train_data), size=[1]).item()\n",
    "    img, label = train_data[rnd]\n",
    "    fig.add_subplot(rows, cols, i)\n",
    "    plt.imshow(img.squeeze(), cmap=\"gray\")\n",
    "    plt.axis(False)"
   ]
  },
  {
   "cell_type": "markdown",
   "metadata": {
    "id": "JAPDzW0wxhi3"
   },
   "source": [
    "## 7. Turn the MNIST train and test datasets into dataloaders using `torch.utils.data.DataLoader`, set the `batch_size=32`."
   ]
  },
  {
   "cell_type": "code",
   "execution_count": 6,
   "metadata": {
    "ExecuteTime": {
     "end_time": "2023-02-23T18:24:35.983910Z",
     "start_time": "2023-02-23T18:24:35.971916Z"
    }
   },
   "outputs": [],
   "source": [
    "from torch.utils.data import DataLoader"
   ]
  },
  {
   "cell_type": "code",
   "execution_count": 7,
   "metadata": {
    "ExecuteTime": {
     "end_time": "2023-02-23T18:24:35.999899Z",
     "start_time": "2023-02-23T18:24:35.988910Z"
    },
    "id": "ALA6MPcFbJXQ"
   },
   "outputs": [],
   "source": [
    "train_ldr = DataLoader(dataset=train_data, batch_size=32, shuffle=True)\n",
    "test_ldr = DataLoader(dataset=test_data, batch_size=32, shuffle=False)"
   ]
  },
  {
   "cell_type": "markdown",
   "metadata": {
    "id": "bCCVfXk5xjYS"
   },
   "source": [
    "## 8. Recreate `model_2` used in notebook 03 (the same model from the [CNN Explainer website](https://poloclub.github.io/cnn-explainer/), also known as TinyVGG) capable of fitting on the MNIST dataset."
   ]
  },
  {
   "cell_type": "code",
   "execution_count": 8,
   "metadata": {
    "ExecuteTime": {
     "end_time": "2023-02-23T18:24:36.015892Z",
     "start_time": "2023-02-23T18:24:36.003898Z"
    }
   },
   "outputs": [],
   "source": [
    "from torch import nn"
   ]
  },
  {
   "cell_type": "code",
   "execution_count": 9,
   "metadata": {
    "ExecuteTime": {
     "end_time": "2023-02-23T18:24:36.031881Z",
     "start_time": "2023-02-23T18:24:36.019888Z"
    }
   },
   "outputs": [
    {
     "data": {
      "text/plain": [
       "torch.Size([1, 28, 28])"
      ]
     },
     "execution_count": 9,
     "metadata": {},
     "output_type": "execute_result"
    }
   ],
   "source": [
    "train_data[0][0].shape"
   ]
  },
  {
   "cell_type": "markdown",
   "metadata": {},
   "source": [
    "With padding of 1 on the convolutional layers and 2 max pooling layers, the height and width will be reduced from 28 to 14 to 7. Near the end, these 7x7 images will be flattened, resulting in 49 pixels per image. As there are 10 hidden units, this will result in 490 pixels for that layer. As the model will work with batches of 32 images, this results in 32x490 pixels. The final linear layer in the classifier is of size 10x10 when only supplying the hidden units value. Thus, a multiplication of 7 is twice needed to transform the 10x10 into 70x10 and then into 490x10.\n",
    "\n",
    "This turns the final computation into 32x490 by 490x10, which is a valid matrix multiplication as the centre values are identical."
   ]
  },
  {
   "cell_type": "code",
   "execution_count": 10,
   "metadata": {
    "ExecuteTime": {
     "end_time": "2023-02-23T18:24:36.062864Z",
     "start_time": "2023-02-23T18:24:36.040878Z"
    },
    "id": "5IKNF22XbKYS"
   },
   "outputs": [],
   "source": [
    "class TinyVGG(nn.Module):\n",
    "    def __init__(self, in_shape: int, hidden_units: int, out_shape: int):\n",
    "        super().__init__()\n",
    "        self.conv_block_1 = nn.Sequential(\n",
    "            nn.Conv2d(in_channels=in_shape, out_channels=hidden_units, kernel_size=3, stride=1, padding=1),\n",
    "            nn.ReLU(),\n",
    "            nn.Conv2d(in_channels=hidden_units, out_channels=hidden_units, kernel_size=3, stride=1, padding=1),\n",
    "            nn.ReLU(),\n",
    "            nn.MaxPool2d(kernel_size=2)\n",
    "        )\n",
    "        self.conv_block_2 = nn.Sequential(\n",
    "            nn.Conv2d(in_channels=hidden_units,out_channels=hidden_units,kernel_size=3,stride=1, padding=1),\n",
    "            nn.ReLU(),\n",
    "            nn.Conv2d(in_channels=hidden_units,out_channels=hidden_units,kernel_size=3,stride=1, padding=1),\n",
    "            nn.ReLU(),\n",
    "            nn.MaxPool2d(kernel_size=2)\n",
    "        )\n",
    "        self.classifier = nn.Sequential(\n",
    "            nn.Flatten(),\n",
    "            nn.Linear(in_features=hidden_units*7*7, out_features=out_shape)\n",
    "        )\n",
    "    \n",
    "    def forward(self, x: torch.tensor) -> torch.tensor:\n",
    "        return self.classifier(self.conv_block_2(self.conv_block_1(x)))"
   ]
  },
  {
   "cell_type": "code",
   "execution_count": 11,
   "metadata": {
    "ExecuteTime": {
     "end_time": "2023-02-23T18:24:36.078855Z",
     "start_time": "2023-02-23T18:24:36.066862Z"
    }
   },
   "outputs": [],
   "source": [
    "model_mnist = TinyVGG(\n",
    "    in_shape=1,\n",
    "    hidden_units=10,\n",
    "    out_shape=len(train_data.classes)\n",
    ")"
   ]
  },
  {
   "cell_type": "markdown",
   "metadata": {
    "id": "sf_3zUr7xlhy"
   },
   "source": [
    "## 9. Train the model you built in exercise 8. for 5 epochs."
   ]
  },
  {
   "cell_type": "code",
   "execution_count": 12,
   "metadata": {
    "ExecuteTime": {
     "end_time": "2023-02-23T18:24:36.297728Z",
     "start_time": "2023-02-23T18:24:36.082852Z"
    }
   },
   "outputs": [],
   "source": [
    "from torchmetrics import Accuracy"
   ]
  },
  {
   "cell_type": "code",
   "execution_count": 13,
   "metadata": {
    "ExecuteTime": {
     "end_time": "2023-02-23T18:24:36.313720Z",
     "start_time": "2023-02-23T18:24:36.300727Z"
    }
   },
   "outputs": [],
   "source": [
    "loss_fn = nn.CrossEntropyLoss()\n",
    "optimizer = torch.optim.SGD(params=model_mnist.parameters(), lr=0.1)\n",
    "metric_acc = Accuracy(task=\"multiclass\", num_classes=len(train_data.classes))"
   ]
  },
  {
   "cell_type": "code",
   "execution_count": 14,
   "metadata": {
    "ExecuteTime": {
     "end_time": "2023-02-23T18:30:20.607238Z",
     "start_time": "2023-02-23T18:24:36.316719Z"
    },
    "id": "jSo6vVWFbNLD"
   },
   "outputs": [
    {
     "name": "stdout",
     "output_type": "stream",
     "text": [
      "Epoch: 0\n",
      "Train Loss: 0.25495, Train Acc: 0.91\n",
      "Test Loss: 0.07584, Test Acc: 0.98\n",
      "Epoch: 1\n",
      "Train Loss: 0.07490, Train Acc: 0.98\n",
      "Test Loss: 0.04853, Test Acc: 0.98\n",
      "Epoch: 2\n",
      "Train Loss: 0.05977, Train Acc: 0.98\n",
      "Test Loss: 0.04842, Test Acc: 0.98\n",
      "Epoch: 3\n",
      "Train Loss: 0.05144, Train Acc: 0.98\n",
      "Test Loss: 0.05065, Test Acc: 0.98\n",
      "Epoch: 4\n",
      "Train Loss: 0.04566, Train Acc: 0.99\n",
      "Test Loss: 0.04691, Test Acc: 0.99\n"
     ]
    }
   ],
   "source": [
    "torch.manual_seed(42)\n",
    "epochs = 5\n",
    "for epoch in range(epochs):\n",
    "    train_loss, train_acc = 0, 0\n",
    "    test_loss, test_acc = 0, 0\n",
    "    model_mnist.train()\n",
    "    for batch, (X, y) in enumerate(train_ldr):\n",
    "        y_logits = model_mnist(X)\n",
    "        y_pred = torch.softmax(y_logits, dim=1).argmax(dim=1)\n",
    "        loss = loss_fn(y_logits, y)\n",
    "        train_loss += loss\n",
    "        train_acc += metric_acc(y_pred, y)\n",
    "        optimizer.zero_grad()\n",
    "        loss.backward()\n",
    "        optimizer.step()\n",
    "    \n",
    "    model_mnist.eval()\n",
    "    with torch.inference_mode():\n",
    "        for X_, y_ in test_ldr:\n",
    "            test_logits = model_mnist(X_)\n",
    "            test_pred = torch.softmax(test_logits, dim=1).argmax(dim=1)\n",
    "            test_loss += loss_fn(test_logits, y_)\n",
    "            test_acc += metric_acc(test_pred, y_)\n",
    "            \n",
    "        train_loss /= len(train_ldr)\n",
    "        train_acc /= len(train_ldr)\n",
    "        test_loss /= len(test_ldr)\n",
    "        test_acc /= len(test_ldr)\n",
    "    \n",
    "    print(f\"Epoch: {epoch}\")\n",
    "    print(f\"Train Loss: {train_loss:.5f}, Train Acc: {train_acc:.2f}\")\n",
    "    print(f\"Test Loss: {test_loss:.5f}, Test Acc: {test_acc:.2f}\")"
   ]
  },
  {
   "cell_type": "markdown",
   "metadata": {
    "id": "w1CsHhPpxp1w"
   },
   "source": [
    "## 10. Make predictions using your trained model and visualize at least 5 of them comparing the prediction to the target label."
   ]
  },
  {
   "cell_type": "code",
   "execution_count": 15,
   "metadata": {
    "ExecuteTime": {
     "end_time": "2023-02-23T18:30:26.827212Z",
     "start_time": "2023-02-23T18:30:20.612234Z"
    }
   },
   "outputs": [],
   "source": [
    "model_mnist.eval()\n",
    "with torch.inference_mode():\n",
    "    y_preds = []\n",
    "    for batch, (X, y) in test_ldr:\n",
    "        y_logit = model_mnist(X)\n",
    "        y_pred = torch.softmax(y_logit.squeeze(), dim=1).argmax(dim=1)\n",
    "        y_preds.append(y_pred)"
   ]
  },
  {
   "cell_type": "code",
   "execution_count": 16,
   "metadata": {
    "ExecuteTime": {
     "end_time": "2023-02-23T18:30:26.858196Z",
     "start_time": "2023-02-23T18:30:26.832208Z"
    }
   },
   "outputs": [
    {
     "data": {
      "text/plain": [
       "(tensor([7, 2, 1, 0, 4, 1, 4, 9, 5, 9, 0, 6, 9, 0, 1, 5, 9, 7, 8, 4]),\n",
       " tensor([7, 2, 1, 0, 4, 1, 4, 9, 5, 9, 0, 6, 9, 0, 1, 5, 9, 7, 3, 4]))"
      ]
     },
     "execution_count": 16,
     "metadata": {},
     "output_type": "execute_result"
    }
   ],
   "source": [
    "y_preds_tensor = torch.cat(y_preds)\n",
    "y_preds_tensor[:20], test_data.targets[:20]"
   ]
  },
  {
   "cell_type": "code",
   "execution_count": 17,
   "metadata": {
    "ExecuteTime": {
     "end_time": "2023-02-23T18:30:26.873185Z",
     "start_time": "2023-02-23T18:30:26.864190Z"
    }
   },
   "outputs": [],
   "source": [
    "class_names = train_data.classes"
   ]
  },
  {
   "cell_type": "code",
   "execution_count": 18,
   "metadata": {
    "ExecuteTime": {
     "end_time": "2023-02-23T18:30:27.746687Z",
     "start_time": "2023-02-23T18:30:26.877184Z"
    }
   },
   "outputs": [
    {
     "data": {
      "image/png": "[encoded data removed]",
      "text/plain": [
       "<Figure size 900x900 with 9 Axes>"
      ]
     },
     "metadata": {},
     "output_type": "display_data"
    }
   ],
   "source": [
    "fig = plt.figure(figsize=(9, 9))\n",
    "rows, cols = 3, 3\n",
    "for i in range(1, rows * cols + 1):\n",
    "    rnd = torch.randint(0, len(y_preds_tensor), size=[1]).item()\n",
    "    pred_label = y_preds_tensor[rnd]\n",
    "    img, actual_label = test_data[rnd]\n",
    "    fig.add_subplot(rows, cols, i)\n",
    "    plt.imshow(img.squeeze(), cmap=\"gray\")\n",
    "    title = f\"Pred: {pred_label} | Actual: {actual_label}\"\n",
    "    if pred_label == actual_label:\n",
    "        plt.title(title, fontsize=10, c=\"g\")\n",
    "    else:\n",
    "        plt.title(title, fontsize=10, c=\"r\")\n",
    "    plt.axis(False);"
   ]
  },
  {
   "cell_type": "markdown",
   "metadata": {
    "id": "qQwzqlBWxrpG"
   },
   "source": [
    "## 11. Plot a confusion matrix comparing your model's predictions to the truth labels."
   ]
  },
  {
   "cell_type": "code",
   "execution_count": 19,
   "metadata": {
    "ExecuteTime": {
     "end_time": "2023-02-23T18:30:29.671595Z",
     "start_time": "2023-02-23T18:30:27.750711Z"
    },
    "id": "vSrXiT_AbQ6e"
   },
   "outputs": [],
   "source": [
    "from torchmetrics import ConfusionMatrix\n",
    "import mlxtend\n",
    "from mlxtend.plotting import plot_confusion_matrix"
   ]
  },
  {
   "cell_type": "code",
   "execution_count": 20,
   "metadata": {
    "ExecuteTime": {
     "end_time": "2023-02-23T18:30:29.687586Z",
     "start_time": "2023-02-23T18:30:29.674594Z"
    }
   },
   "outputs": [],
   "source": [
    "confmat = ConfusionMatrix(task=\"multiclass\", num_classes=len(class_names))\n",
    "confmat_tensor = confmat(preds=y_preds_tensor, target=test_data.targets)"
   ]
  },
  {
   "cell_type": "code",
   "execution_count": 21,
   "metadata": {
    "ExecuteTime": {
     "end_time": "2023-02-23T18:30:29.702580Z",
     "start_time": "2023-02-23T18:30:29.691585Z"
    }
   },
   "outputs": [
    {
     "data": {
      "text/plain": [
       "tensor([[ 976,    0,    1,    0,    0,    0,    1,    1,    1,    0],\n",
       "        [   0, 1120,    2,    4,    0,    0,    3,    1,    5,    0],\n",
       "        [   1,    1, 1021,    1,    0,    0,    0,    4,    4,    0],\n",
       "        [   0,    0,    2, 1003,    0,    2,    0,    0,    2,    1],\n",
       "        [   0,    0,    1,    1,  961,    0,    2,    1,    2,   14],\n",
       "        [   1,    0,    0,   18,    0,  871,    1,    0,    0,    1],\n",
       "        [   3,    2,    0,    1,    1,    2,  947,    0,    2,    0],\n",
       "        [   0,    1,    5,    6,    0,    1,    0, 1005,    1,    9],\n",
       "        [   1,    0,    3,    5,    0,    3,    0,    0,  960,    2],\n",
       "        [   0,    0,    2,   10,    2,    3,    0,    0,    6,  986]])"
      ]
     },
     "execution_count": 21,
     "metadata": {},
     "output_type": "execute_result"
    }
   ],
   "source": [
    "confmat_tensor"
   ]
  },
  {
   "cell_type": "code",
   "execution_count": 22,
   "metadata": {
    "ExecuteTime": {
     "end_time": "2023-02-23T18:30:30.369197Z",
     "start_time": "2023-02-23T18:30:29.707576Z"
    }
   },
   "outputs": [
    {
     "data": {
      "image/png": "[encoded data removed]",
      "text/plain": [
       "<Figure size 1000x700 with 1 Axes>"
      ]
     },
     "metadata": {},
     "output_type": "display_data"
    }
   ],
   "source": [
    "fig, ax = plot_confusion_matrix(\n",
    "    conf_mat=confmat_tensor.numpy(),\n",
    "    class_names=class_names,\n",
    "    figsize=(10,7)\n",
    ")"
   ]
  },
  {
   "cell_type": "markdown",
   "metadata": {
    "id": "lj6bDhoWxt2y"
   },
   "source": [
    "## 12. Create a random tensor of shape `[1, 3, 64, 64]` and pass it through a `nn.Conv2d()` layer with various hyperparameter settings (these can be any settings you choose), what do you notice if the `kernel_size` parameter goes up and down?"
   ]
  },
  {
   "cell_type": "code",
   "execution_count": 23,
   "metadata": {
    "ExecuteTime": {
     "end_time": "2023-02-23T18:30:30.400178Z",
     "start_time": "2023-02-23T18:30:30.374194Z"
    },
    "id": "leCTsqtSbR5P"
   },
   "outputs": [
    {
     "data": {
      "text/plain": [
       "torch.Size([1, 3, 64, 64])"
      ]
     },
     "execution_count": 23,
     "metadata": {},
     "output_type": "execute_result"
    }
   ],
   "source": [
    "random_tensor = torch.rand([1, 3, 64, 64])\n",
    "random_tensor.shape"
   ]
  },
  {
   "cell_type": "code",
   "execution_count": 24,
   "metadata": {
    "ExecuteTime": {
     "end_time": "2023-02-23T18:30:30.432159Z",
     "start_time": "2023-02-23T18:30:30.405176Z"
    }
   },
   "outputs": [
    {
     "data": {
      "text/plain": [
       "torch.Size([1, 10, 62, 62])"
      ]
     },
     "execution_count": 24,
     "metadata": {},
     "output_type": "execute_result"
    }
   ],
   "source": [
    "conv2d_layer = nn.Conv2d(in_channels=3, out_channels=10, kernel_size=3, stride=1)\n",
    "conv2d_layer(random_tensor).shape"
   ]
  },
  {
   "cell_type": "code",
   "execution_count": 25,
   "metadata": {
    "ExecuteTime": {
     "end_time": "2023-02-23T18:30:30.462142Z",
     "start_time": "2023-02-23T18:30:30.436157Z"
    }
   },
   "outputs": [
    {
     "data": {
      "text/plain": [
       "torch.Size([1, 10, 60, 60])"
      ]
     },
     "execution_count": 25,
     "metadata": {},
     "output_type": "execute_result"
    }
   ],
   "source": [
    "conv2d_layer = nn.Conv2d(in_channels=3, out_channels=10, kernel_size=5, stride=1)\n",
    "conv2d_layer(random_tensor).shape"
   ]
  },
  {
   "cell_type": "code",
   "execution_count": 26,
   "metadata": {
    "ExecuteTime": {
     "end_time": "2023-02-23T18:30:30.493125Z",
     "start_time": "2023-02-23T18:30:30.468144Z"
    }
   },
   "outputs": [
    {
     "data": {
      "text/plain": [
       "torch.Size([1, 10, 58, 58])"
      ]
     },
     "execution_count": 26,
     "metadata": {},
     "output_type": "execute_result"
    }
   ],
   "source": [
    "conv2d_layer = nn.Conv2d(in_channels=3, out_channels=10, kernel_size=7, stride=1)\n",
    "conv2d_layer(random_tensor).shape"
   ]
  },
  {
   "cell_type": "markdown",
   "metadata": {},
   "source": [
    "As the kernel size parameter increases, the output shape of the resulting tensor decreases. This happens as the kernel's window not takes up additional pixel space. An increase in the stride would reduce the resulting dimensions even more. An increase in padding would alleviate the decrease a bit, cushioning the impact or keeping the dimensions the same entirely (depending on hyperparameter)."
   ]
  },
  {
   "cell_type": "markdown",
   "metadata": {
    "id": "VHS20cNTxwSi"
   },
   "source": [
    "## 13. Use a model similar to the trained `model_2` from notebook 03 to make predictions on the test [`torchvision.datasets.FashionMNIST`](https://pytorch.org/vision/main/generated/torchvision.datasets.FashionMNIST.html) dataset. \n",
    "* Then plot some predictions where the model was wrong alongside what the label of the image should've been. \n",
    "* After visualing these predictions do you think it's more of a modelling error or a data error? \n",
    "* As in, could the model do better or are the labels of the data too close to each other (e.g. a \"Shirt\" label is too close to \"T-shirt/top\")?"
   ]
  },
  {
   "cell_type": "code",
   "execution_count": 27,
   "metadata": {
    "ExecuteTime": {
     "end_time": "2023-02-23T18:30:30.586072Z",
     "start_time": "2023-02-23T18:30:30.497122Z"
    }
   },
   "outputs": [],
   "source": [
    "train_data = datasets.FashionMNIST(\n",
    "    root=\"data\",\n",
    "    train=True,\n",
    "    download=True,\n",
    "    transform=torchvision.transforms.ToTensor(),\n",
    "    target_transform=None\n",
    ")\n",
    "\n",
    "test_data = datasets.FashionMNIST(\n",
    "    root=\"data\",\n",
    "    train=False,\n",
    "    download=True,\n",
    "    transform=torchvision.transforms.ToTensor(),\n",
    "    target_transform=None\n",
    ")"
   ]
  },
  {
   "cell_type": "code",
   "execution_count": 28,
   "metadata": {
    "ExecuteTime": {
     "end_time": "2023-02-23T18:30:30.618055Z",
     "start_time": "2023-02-23T18:30:30.600066Z"
    }
   },
   "outputs": [],
   "source": [
    "class_names = train_data.classes"
   ]
  },
  {
   "cell_type": "code",
   "execution_count": 29,
   "metadata": {
    "ExecuteTime": {
     "end_time": "2023-02-23T18:30:30.650035Z",
     "start_time": "2023-02-23T18:30:30.624051Z"
    }
   },
   "outputs": [],
   "source": [
    "train_ldr = DataLoader(dataset=train_data, batch_size=32, shuffle=True)\n",
    "test_ldr = DataLoader(dataset=test_data, batch_size=32, shuffle=False)"
   ]
  },
  {
   "cell_type": "code",
   "execution_count": 30,
   "metadata": {
    "ExecuteTime": {
     "end_time": "2023-02-23T18:30:30.682016Z",
     "start_time": "2023-02-23T18:30:30.655035Z"
    },
    "id": "78a8LjtdbSZj"
   },
   "outputs": [
    {
     "data": {
      "text/plain": [
       "<All keys matched successfully>"
      ]
     },
     "execution_count": 30,
     "metadata": {},
     "output_type": "execute_result"
    }
   ],
   "source": [
    "loaded_model = TinyVGG(\n",
    "    in_shape=1,\n",
    "    hidden_units=10,\n",
    "    out_shape=len(class_names)\n",
    ")\n",
    "loaded_model.load_state_dict(torch.load(\"models/03_pytorch_computer_vision_modelv2.pth\"))"
   ]
  },
  {
   "cell_type": "code",
   "execution_count": 31,
   "metadata": {
    "ExecuteTime": {
     "end_time": "2023-02-23T18:30:30.698007Z",
     "start_time": "2023-02-23T18:30:30.688014Z"
    }
   },
   "outputs": [],
   "source": [
    "loss_fn = nn.CrossEntropyLoss()\n",
    "optimizer = torch.optim.SGD(params=loaded_model.parameters(), lr=0.1)\n",
    "metric_acc = Accuracy(task=\"multiclass\", num_classes=len(train_data.classes))"
   ]
  },
  {
   "cell_type": "code",
   "execution_count": 32,
   "metadata": {
    "ExecuteTime": {
     "end_time": "2023-02-23T18:36:04.278021Z",
     "start_time": "2023-02-23T18:30:30.705004Z"
    }
   },
   "outputs": [
    {
     "name": "stdout",
     "output_type": "stream",
     "text": [
      "Epoch: 0\n",
      "Train Loss: 0.30433, Train Acc: 0.89\n",
      "Test Loss: 0.32191, Test Acc: 0.88\n",
      "Epoch: 1\n",
      "Train Loss: 0.29168, Train Acc: 0.89\n",
      "Test Loss: 0.30395, Test Acc: 0.89\n",
      "Epoch: 2\n",
      "Train Loss: 0.28158, Train Acc: 0.90\n",
      "Test Loss: 0.28971, Test Acc: 0.89\n",
      "Epoch: 3\n",
      "Train Loss: 0.27216, Train Acc: 0.90\n",
      "Test Loss: 0.29652, Test Acc: 0.89\n",
      "Epoch: 4\n",
      "Train Loss: 0.26373, Train Acc: 0.90\n",
      "Test Loss: 0.28544, Test Acc: 0.90\n"
     ]
    }
   ],
   "source": [
    "torch.manual_seed(42)\n",
    "epochs = 5\n",
    "for epoch in range(epochs):\n",
    "    train_loss, train_acc = 0, 0\n",
    "    test_loss, test_acc = 0, 0\n",
    "    loaded_model.train()\n",
    "    for batch, (X, y) in enumerate(train_ldr):\n",
    "        y_logits = loaded_model(X)\n",
    "        y_pred = torch.softmax(y_logits, dim=1).argmax(dim=1)\n",
    "        loss = loss_fn(y_logits, y)\n",
    "        train_loss += loss\n",
    "        train_acc += metric_acc(y_pred, y)\n",
    "        optimizer.zero_grad()\n",
    "        loss.backward()\n",
    "        optimizer.step()\n",
    "    \n",
    "    loaded_model.eval()\n",
    "    with torch.inference_mode():\n",
    "        for X_, y_ in test_ldr:\n",
    "            test_logits = loaded_model(X_)\n",
    "            test_pred = torch.softmax(test_logits, dim=1).argmax(dim=1)\n",
    "            test_loss += loss_fn(test_logits, y_)\n",
    "            test_acc += metric_acc(test_pred, y_)\n",
    "            \n",
    "        train_loss /= len(train_ldr)\n",
    "        train_acc /= len(train_ldr)\n",
    "        test_loss /= len(test_ldr)\n",
    "        test_acc /= len(test_ldr)\n",
    "    \n",
    "    print(f\"Epoch: {epoch}\")\n",
    "    print(f\"Train Loss: {train_loss:.5f}, Train Acc: {train_acc:.2f}\")\n",
    "    print(f\"Test Loss: {test_loss:.5f}, Test Acc: {test_acc:.2f}\")"
   ]
  },
  {
   "cell_type": "code",
   "execution_count": 33,
   "metadata": {
    "ExecuteTime": {
     "end_time": "2023-02-23T18:36:08.954127Z",
     "start_time": "2023-02-23T18:36:04.283018Z"
    }
   },
   "outputs": [],
   "source": [
    "loaded_model.eval()\n",
    "with torch.inference_mode():\n",
    "    y_preds = []\n",
    "    for batch, (X, y) in test_ldr:\n",
    "        y_logit = loaded_model(X)\n",
    "        y_pred = torch.softmax(y_logit.squeeze(), dim=1).argmax(dim=1)\n",
    "        y_preds.append(y_pred)"
   ]
  },
  {
   "cell_type": "code",
   "execution_count": 34,
   "metadata": {
    "ExecuteTime": {
     "end_time": "2023-02-23T18:36:08.970116Z",
     "start_time": "2023-02-23T18:36:08.959122Z"
    }
   },
   "outputs": [],
   "source": [
    "y_preds_tensor = torch.cat(y_preds)"
   ]
  },
  {
   "cell_type": "code",
   "execution_count": 35,
   "metadata": {
    "ExecuteTime": {
     "end_time": "2023-02-23T18:36:09.965758Z",
     "start_time": "2023-02-23T18:36:08.975114Z"
    }
   },
   "outputs": [
    {
     "data": {
      "image/png": "[encoded data removed]",
      "text/plain": [
       "<Figure size 900x900 with 9 Axes>"
      ]
     },
     "metadata": {},
     "output_type": "display_data"
    }
   ],
   "source": [
    "fig = plt.figure(figsize=(9, 9))\n",
    "rows, cols = 3, 3\n",
    "for i in range(1, rows * cols + 1):\n",
    "    rnd = torch.randint(0, len(y_preds_tensor), size=[1]).item()\n",
    "    pred_label = class_names[y_preds_tensor[rnd]]\n",
    "    actual_label = class_names[test_data[rnd][1]]\n",
    "    img = test_data[rnd][0]\n",
    "    fig.add_subplot(rows, cols, i)\n",
    "    plt.imshow(img.squeeze(), cmap=\"gray\")\n",
    "    title = f\"Pred: {pred_label} | Actual: {actual_label}\"\n",
    "    if pred_label == actual_label:\n",
    "        plt.title(title, fontsize=10, c=\"g\")\n",
    "    else:\n",
    "        plt.title(title, fontsize=10, c=\"r\")\n",
    "    plt.axis(False);"
   ]
  },
  {
   "cell_type": "markdown",
   "metadata": {},
   "source": [
    "Random visualizations, but the cause of wrong predictions was already clear in the computer vision Notebook file. Some of the images are visually very similar to others, but the label will be different. The dataset contains multiple types of shoes, legwear, or shirts. Sometimes the model will simply make mistakes due to these similarities."
   ]
  }
 ],
 "metadata": {
  "accelerator": "GPU",
  "colab": {
   "authorship_tag": "ABX9TyMUsDcN/+FAm9Pf7Ifqs6AZ",
   "collapsed_sections": [],
   "include_colab_link": true,
   "name": "03_pytorch_computer_vision_exercises.ipynb",
   "provenance": []
  },
  "kernelspec": {
   "display_name": "Python 3 (ipykernel)",
   "language": "python",
   "name": "python3"
  },
  "language_info": {
   "codemirror_mode": {
    "name": "ipython",
    "version": 3
   },
   "file_extension": ".py",
   "mimetype": "text/x-python",
   "name": "python",
   "nbconvert_exporter": "python",
   "pygments_lexer": "ipython3",
   "version": "3.9.13"
  }
 },
 "nbformat": 4,
 "nbformat_minor": 1
}
