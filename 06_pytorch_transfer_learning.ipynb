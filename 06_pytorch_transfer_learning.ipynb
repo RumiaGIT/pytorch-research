{
 "cells": [
  {
   "cell_type": "markdown",
   "id": "63f9fdf6",
   "metadata": {},
   "source": [
    "# 06. PyTorch Transfer Learning"
   ]
  },
  {
   "cell_type": "markdown",
   "id": "a59d1373",
   "metadata": {},
   "source": [
    "https://www.learnpytorch.io/06_pytorch_transfer_learning/"
   ]
  },
  {
   "cell_type": "markdown",
   "id": "f3b4ee99",
   "metadata": {},
   "source": [
    "## Table of Contents"
   ]
  },
  {
   "cell_type": "markdown",
   "id": "049328cf",
   "metadata": {},
   "source": [
    "- [All Links in Document](#links)\n",
    "- [PyTorch Transfer Learning](#transfer)"
   ]
  },
  {
   "cell_type": "markdown",
   "id": "7b99674a",
   "metadata": {},
   "source": [
    "## All Links in Document <a name=\"links\" />"
   ]
  },
  {
   "cell_type": "markdown",
   "id": "121137c5",
   "metadata": {},
   "source": [
    "- link\n",
    "- link\n",
    "- link"
   ]
  },
  {
   "cell_type": "markdown",
   "id": "21ea03c8",
   "metadata": {},
   "source": [
    "## PyTorch Transfer Learning <a name=\"transfer\" />"
   ]
  },
  {
   "cell_type": "code",
   "execution_count": null,
   "id": "7ad6511e",
   "metadata": {},
   "outputs": [],
   "source": []
  },
  {
   "cell_type": "code",
   "execution_count": null,
   "id": "b2502d6c",
   "metadata": {},
   "outputs": [],
   "source": []
  }
 ],
 "metadata": {
  "kernelspec": {
   "display_name": "Python 3 (ipykernel)",
   "language": "python",
   "name": "python3"
  },
  "language_info": {
   "codemirror_mode": {
    "name": "ipython",
    "version": 3
   },
   "file_extension": ".py",
   "mimetype": "text/x-python",
   "name": "python",
   "nbconvert_exporter": "python",
   "pygments_lexer": "ipython3",
   "version": "3.9.13"
  }
 },
 "nbformat": 4,
 "nbformat_minor": 5
}
