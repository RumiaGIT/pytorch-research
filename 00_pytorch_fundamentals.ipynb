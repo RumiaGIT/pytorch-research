{
 "cells": [
  {
   "cell_type": "markdown",
   "id": "69ebc210",
   "metadata": {},
   "source": [
    "# 00. PyTorch Fundamentals"
   ]
  },
  {
   "cell_type": "markdown",
   "id": "b4455cc8",
   "metadata": {},
   "source": [
    "https://www.learnpytorch.io/00_pytorch_fundamentals/"
   ]
  },
  {
   "cell_type": "markdown",
   "id": "0509a2b9",
   "metadata": {},
   "source": [
    "## Table of Contents"
   ]
  },
  {
   "cell_type": "markdown",
   "id": "61d28957",
   "metadata": {},
   "source": [
    "- [All Links in Document](#links)\n",
    "- [Theoretical Introduction](#theory)\n",
    "- [Introduction to Tensors](#intro)\n",
    "- [Random Tensors](#random)\n",
    "- [Zeros and Ones](#zeroone)\n",
    "- [Range of Tensors and Tensor-like](#rangelike)\n",
    "- [Tensor Data Types](#datatypes)\n",
    "- [Manipulating Tensors](#manipulate)\n",
    "- [Tensor Aggregation](#tensoragg)\n",
    "- [Indexing](#indexing)\n",
    "- [Reproducability](#reproduce)\n",
    "- [GPU Usage](#gpus)\n",
    "- [Exercises](#exercises)"
   ]
  },
  {
   "cell_type": "markdown",
   "id": "db97cb3d",
   "metadata": {},
   "source": [
    "## All Links in Document <a name=\"links\" />"
   ]
  },
  {
   "cell_type": "markdown",
   "id": "2aeeead9",
   "metadata": {},
   "source": [
    "- https://www.learnpytorch.io/00_pytorch_fundamentals/\n",
    "- https://paperswithcode.com/trends\n",
    "- What's a Tensor? https://www.youtube.com/watch?v=f5liqUk0ZTw\n",
    "- https://pytorch.org/docs/stable/tensors\n",
    "- https://www.mathsisfun.com/algebra/matrix-multiplying\n",
    "- http://matrixmultiplication.xyz/\n",
    "- https://pytorch.org/docs/stable/notes/randomness\n",
    "- https://en.wikipedia.org/wiki/Random_seed\n",
    "- https://pytorch.org/get-started/locally/\n",
    "- https://pytorch.org/docs/stable/notes/cuda#best-practices"
   ]
  },
  {
   "cell_type": "markdown",
   "id": "ba31a8fd",
   "metadata": {},
   "source": [
    "## Theoretical Introduction <a name=\"theory\" />"
   ]
  },
  {
   "cell_type": "markdown",
   "id": "fcf50dd9",
   "metadata": {},
   "source": [
    "PyTorch is very popular! https://paperswithcode.com/trends"
   ]
  },
  {
   "cell_type": "markdown",
   "id": "64548c93",
   "metadata": {},
   "source": [
    "Machine learning can be explained as turning data into into numbers and finding patterns in those numbers. Patterns are found by the computer using code & math. Typically, Artificial Intelligence (AI) is the overarching topic or umbrella term. Within, a subsection of Machine Learning exists, and Deep Learning is another subsection within Machine Learning."
   ]
  },
  {
   "cell_type": "markdown",
   "id": "939fd80a",
   "metadata": {},
   "source": [
    "<img src=\"images/00_difference.png\" width=\"750\"/>"
   ]
  },
  {
   "cell_type": "markdown",
   "id": "31bcf573",
   "metadata": {},
   "source": [
    "The above image shows a typical difference between traditional programming and Machine Learning. With traditional programming, the necessary inputs are given, and what needs to be done with them is designed upfront. The result is always the same, and it's akin to how a human would prepare a dish. With machine learning, it's usually up to the algorithm to discover what the best procedure to follow is. Important to note that the above example is a supervised learning method as the inputs and desired output are already given to the model."
   ]
  },
  {
   "cell_type": "markdown",
   "id": "32251960",
   "metadata": {},
   "source": [
    "But why use Machine Learning or Deep Learning at all? It's possible that for very complex problems, it's not possible to figure out all the rules. This is where Deep Learning can help out. On the flipside, rule 1 of Google's Machine Learning Handbook states: **\"If you can build a simple rule-based system that doesn't require machine learning, do that.\"** Thus, it's important to keep in mind that Deep Learning is not a panacea for every situation. So what should Deep Learning be used for? Examples are:\n",
    "- **Problems with long lists of rules** - when the traditional approach fails, machine learning/deep learning may help\n",
    "- **Continually changing environments** - deep learning can adapt ('learn') to new scenarios\n",
    "- **Discovering insights within large collections of data** - can you imagine trying to hand-craft rules for what 101 different kinds of food look like?"
   ]
  },
  {
   "cell_type": "markdown",
   "id": "ca9710a3",
   "metadata": {},
   "source": [
    "It's also important to zoom in on when Deep Learning tends to not be useful. Examples are:\n",
    "- **When you need explainability** - the patterns learned by a deep learning model are typically uninterpretable by a human\n",
    "- **When the traditional approach is a better option** - if you can accomplish what you need with a simple rule-based system\n",
    "- **When errors are unacceptable** - since the outputs of deep learning model aren't always predictable\n",
    "- **When you don't have much data** - deep learning models usually require a fairly large amount of data to produce great results"
   ]
  },
  {
   "cell_type": "markdown",
   "id": "7fd608b1",
   "metadata": {},
   "source": [
    "While the terms are occasionally used interchangeably, there are some general differences between Machine Learning and Deep Learning. It's also important to note that the fields keep developing and changing. Typically, traditional Machine Learning algorithms are used on structured data such as tables. Typically, Deep Learning tends to be more useful for unstructured data, such as audio files or texts. Note that there are always exceptions to the rules."
   ]
  },
  {
   "cell_type": "markdown",
   "id": "d14f2857",
   "metadata": {},
   "source": [
    "Examples of Machine Learning algorithms are:\n",
    "- Random Forest\n",
    "- Gradient Boosted Models\n",
    "- Naive Bayes\n",
    "- Nearest Neighbour\n",
    "- Support Vector Machine\n",
    "- ...many more"
   ]
  },
  {
   "cell_type": "markdown",
   "id": "31ccd539",
   "metadata": {},
   "source": [
    "Examples of Deep Learning algorithms are:\n",
    "- Neural Networks\n",
    "- Fully Connected Neural Network\n",
    "- Convolutional Neural Network\n",
    "- Recurrent Neural Network\n",
    "- Transformer\n",
    "- ...many more"
   ]
  },
  {
   "cell_type": "markdown",
   "id": "c5e71bed",
   "metadata": {},
   "source": [
    "Depending on how a specific problem is represented, many algorithms can be used for both structured or unstructured data. Working with PyTorch in this research will mainly focus on Neural Networks, Fully Connected Neural Networks, and Convolutional Neural Networks."
   ]
  },
  {
   "cell_type": "markdown",
   "id": "12bbde68",
   "metadata": {},
   "source": [
    "<img src=\"images/00_neural.png\" width=\"750\"/>"
   ]
  },
  {
   "cell_type": "markdown",
   "id": "38f7981e",
   "metadata": {},
   "source": [
    "The above image shows the typical workflow of a typical Neural Network. Input is first given, which can come in various forms. The example image shows unstructured data in the form of a tweet. This data somehow needs to be transformed into numbers through encoding, resulting in arrays (or tensors) of numbers. The Neural Network, through its network of nodes and layers then learns about the data and finds patterns, features, weights, etc. Output is also given in numerical form, requiring a transformation to become legible by human interpretation."
   ]
  },
  {
   "cell_type": "markdown",
   "id": "bf6df963",
   "metadata": {},
   "source": [
    "<img src=\"images/00_anatomy.png\" width=\"750\"/>"
   ]
  },
  {
   "cell_type": "markdown",
   "id": "f8392e65",
   "metadata": {},
   "source": [
    "It's also important to zoom in on the anatomy of a Neural Network. It is highly customizable, but a Neural Network typically consists of an input layer, various hidden layers, and an output layer. As the name suggests, the input layer is responsible for accepting input and transforming the data into a usable format for the Neural Network. In the example image, the input layer has two neurons. The hidden layers are responsible for learning patterns in the data. In the example image, this it shows one hidden layer with 3 neurons. It's possible to have many more layers. The output layer outputs the results of the Neural Network. The image shows an output layer with a single neuron."
   ]
  },
  {
   "cell_type": "markdown",
   "id": "77897457",
   "metadata": {},
   "source": [
    "Some examples of Deep Learning use cases are:\n",
    "- Recommendation\n",
    "- Translation\n",
    "- Speech Recognition\n",
    "- Computer Vision\n",
    "- Natural Language Processing (NLP)"
   ]
  },
  {
   "cell_type": "markdown",
   "id": "6a5e0854",
   "metadata": {},
   "source": [
    "Translation and Speech Recognition are also referred to as \"sequence to sequence\", as a certain sequence (text or audio) is given, which is then transformed into another sequence. Computer Vision and Natural Language Processing use cases fall under the classification or regression categories. For Computer Vision, the coordinates of where to draw the the box corners of an area wherein a certain object is being detected. Classification would then be used to determine what object is visible within the box. Classification is also used in Natural Language Processing. An example is determining whether an e-mail is spam or not."
   ]
  },
  {
   "cell_type": "markdown",
   "id": "07581dfe",
   "metadata": {},
   "source": [
    "What exactly is a tensor? Tensors are the numerical encodings of the input of a model, and the representation outputs of a model. This means that they can be almost anything (numerically), and they are designed for computers to understand. A tensor usually consists of an array of arrays containing said numerical data."
   ]
  },
  {
   "cell_type": "markdown",
   "id": "b80fa922",
   "metadata": {},
   "source": [
    "<img src=\"images/00_tensors.png\" width=\"750\"/>"
   ]
  },
  {
   "cell_type": "markdown",
   "id": "87e66b78",
   "metadata": {},
   "source": [
    "Dan Fleisch's \"What's a Tensor?\": https://www.youtube.com/watch?v=f5liqUk0ZTw"
   ]
  },
  {
   "cell_type": "markdown",
   "id": "61fa9e5a",
   "metadata": {},
   "source": [
    "## Introduction to Tensors <a name=\"intro\" />"
   ]
  },
  {
   "cell_type": "code",
   "execution_count": 1,
   "id": "c041b9ed",
   "metadata": {
    "ExecuteTime": {
     "end_time": "2023-01-15T14:13:30.375052Z",
     "start_time": "2023-01-15T14:13:23.133064Z"
    }
   },
   "outputs": [
    {
     "name": "stdout",
     "output_type": "stream",
     "text": [
      "1.13.1+cu117\n"
     ]
    }
   ],
   "source": [
    "import torch\n",
    "import pandas as pd\n",
    "import numpy as np\n",
    "import matplotlib.pyplot as plt\n",
    "print(torch.__version__)"
   ]
  },
  {
   "cell_type": "code",
   "execution_count": 2,
   "id": "1088c43b",
   "metadata": {
    "ExecuteTime": {
     "end_time": "2023-01-15T14:13:30.470009Z",
     "start_time": "2023-01-15T14:13:30.379051Z"
    },
    "scrolled": true
   },
   "outputs": [
    {
     "data": {
      "text/plain": [
       "True"
      ]
     },
     "execution_count": 2,
     "metadata": {},
     "output_type": "execute_result"
    }
   ],
   "source": [
    "torch.cuda.is_available()"
   ]
  },
  {
   "cell_type": "code",
   "execution_count": 3,
   "id": "a7492ddd",
   "metadata": {
    "ExecuteTime": {
     "end_time": "2023-01-15T14:13:30.517970Z",
     "start_time": "2023-01-15T14:13:30.473998Z"
    }
   },
   "outputs": [
    {
     "data": {
      "text/plain": [
       "tensor(7)"
      ]
     },
     "execution_count": 3,
     "metadata": {},
     "output_type": "execute_result"
    }
   ],
   "source": [
    "# Scalar\n",
    "scalar = torch.tensor(7)\n",
    "scalar"
   ]
  },
  {
   "cell_type": "code",
   "execution_count": 4,
   "id": "93c41d2e",
   "metadata": {
    "ExecuteTime": {
     "end_time": "2023-01-15T14:13:30.533971Z",
     "start_time": "2023-01-15T14:13:30.522968Z"
    },
    "scrolled": true
   },
   "outputs": [
    {
     "data": {
      "text/plain": [
       "0"
      ]
     },
     "execution_count": 4,
     "metadata": {},
     "output_type": "execute_result"
    }
   ],
   "source": [
    "# Number of dimensions of the scalar\n",
    "scalar.ndim"
   ]
  },
  {
   "cell_type": "code",
   "execution_count": 5,
   "id": "8e053e23",
   "metadata": {
    "ExecuteTime": {
     "end_time": "2023-01-15T14:13:30.549953Z",
     "start_time": "2023-01-15T14:13:30.537960Z"
    }
   },
   "outputs": [
    {
     "data": {
      "text/plain": [
       "7"
      ]
     },
     "execution_count": 5,
     "metadata": {},
     "output_type": "execute_result"
    }
   ],
   "source": [
    "# Item inside the scalar as int\n",
    "scalar.item()"
   ]
  },
  {
   "cell_type": "code",
   "execution_count": 6,
   "id": "eb3e34b8",
   "metadata": {
    "ExecuteTime": {
     "end_time": "2023-01-15T14:13:30.565943Z",
     "start_time": "2023-01-15T14:13:30.553950Z"
    }
   },
   "outputs": [
    {
     "data": {
      "text/plain": [
       "tensor([7, 7, 7])"
      ]
     },
     "execution_count": 6,
     "metadata": {},
     "output_type": "execute_result"
    }
   ],
   "source": [
    "# Vector\n",
    "vector = torch.tensor([7, 7, 7])\n",
    "vector"
   ]
  },
  {
   "cell_type": "code",
   "execution_count": 7,
   "id": "dd8dcbab",
   "metadata": {
    "ExecuteTime": {
     "end_time": "2023-01-15T14:13:30.580933Z",
     "start_time": "2023-01-15T14:13:30.568941Z"
    }
   },
   "outputs": [
    {
     "data": {
      "text/plain": [
       "1"
      ]
     },
     "execution_count": 7,
     "metadata": {},
     "output_type": "execute_result"
    }
   ],
   "source": [
    "# Number of dimensions of the vector\n",
    "vector.ndim"
   ]
  },
  {
   "cell_type": "code",
   "execution_count": 8,
   "id": "e93f525b",
   "metadata": {
    "ExecuteTime": {
     "end_time": "2023-01-15T14:13:30.596926Z",
     "start_time": "2023-01-15T14:13:30.584932Z"
    }
   },
   "outputs": [
    {
     "data": {
      "text/plain": [
       "torch.Size([3])"
      ]
     },
     "execution_count": 8,
     "metadata": {},
     "output_type": "execute_result"
    }
   ],
   "source": [
    "# Shape of the vector\n",
    "vector.shape"
   ]
  },
  {
   "cell_type": "code",
   "execution_count": 9,
   "id": "4f0f9700",
   "metadata": {
    "ExecuteTime": {
     "end_time": "2023-01-15T14:13:30.612916Z",
     "start_time": "2023-01-15T14:13:30.599924Z"
    }
   },
   "outputs": [
    {
     "data": {
      "text/plain": [
       "tensor([[ 7,  8],\n",
       "        [ 9, 10]])"
      ]
     },
     "execution_count": 9,
     "metadata": {},
     "output_type": "execute_result"
    }
   ],
   "source": [
    "# Vector\n",
    "matrix = torch.tensor([[7, 8],[9, 10]])\n",
    "matrix"
   ]
  },
  {
   "cell_type": "code",
   "execution_count": 10,
   "id": "55ae3815",
   "metadata": {
    "ExecuteTime": {
     "end_time": "2023-01-15T14:13:30.628907Z",
     "start_time": "2023-01-15T14:13:30.618914Z"
    }
   },
   "outputs": [
    {
     "data": {
      "text/plain": [
       "2"
      ]
     },
     "execution_count": 10,
     "metadata": {},
     "output_type": "execute_result"
    }
   ],
   "source": [
    "# Number of dimensions of the matrix\n",
    "matrix.ndim"
   ]
  },
  {
   "cell_type": "code",
   "execution_count": 11,
   "id": "32e95653",
   "metadata": {
    "ExecuteTime": {
     "end_time": "2023-01-15T14:13:30.644897Z",
     "start_time": "2023-01-15T14:13:30.632905Z"
    }
   },
   "outputs": [
    {
     "name": "stdout",
     "output_type": "stream",
     "text": [
      "tensor([7, 8]) tensor([ 9, 10])\n"
     ]
    }
   ],
   "source": [
    "print(matrix[0], matrix[1])"
   ]
  },
  {
   "cell_type": "code",
   "execution_count": 12,
   "id": "1d49ed67",
   "metadata": {
    "ExecuteTime": {
     "end_time": "2023-01-15T14:13:30.659891Z",
     "start_time": "2023-01-15T14:13:30.647898Z"
    }
   },
   "outputs": [
    {
     "data": {
      "text/plain": [
       "torch.Size([2, 2])"
      ]
     },
     "execution_count": 12,
     "metadata": {},
     "output_type": "execute_result"
    }
   ],
   "source": [
    "# Shape of the matrix\n",
    "matrix.shape"
   ]
  },
  {
   "cell_type": "code",
   "execution_count": 13,
   "id": "e7534d6f",
   "metadata": {
    "ExecuteTime": {
     "end_time": "2023-01-15T14:13:30.674882Z",
     "start_time": "2023-01-15T14:13:30.662888Z"
    }
   },
   "outputs": [
    {
     "data": {
      "text/plain": [
       "tensor([[[1, 2, 3],\n",
       "         [4, 5, 6],\n",
       "         [7, 8, 9]]])"
      ]
     },
     "execution_count": 13,
     "metadata": {},
     "output_type": "execute_result"
    }
   ],
   "source": [
    "# Tensor\n",
    "tensor = torch.tensor([[[1, 2, 3], [4, 5, 6], [7, 8, 9]]])\n",
    "tensor"
   ]
  },
  {
   "cell_type": "code",
   "execution_count": 14,
   "id": "304918b2",
   "metadata": {
    "ExecuteTime": {
     "end_time": "2023-01-15T14:13:30.690873Z",
     "start_time": "2023-01-15T14:13:30.677879Z"
    }
   },
   "outputs": [
    {
     "data": {
      "text/plain": [
       "3"
      ]
     },
     "execution_count": 14,
     "metadata": {},
     "output_type": "execute_result"
    }
   ],
   "source": [
    "# Dimensions of the tensor\n",
    "tensor.ndim"
   ]
  },
  {
   "cell_type": "code",
   "execution_count": 15,
   "id": "6852f018",
   "metadata": {
    "ExecuteTime": {
     "end_time": "2023-01-15T14:13:30.706864Z",
     "start_time": "2023-01-15T14:13:30.693871Z"
    }
   },
   "outputs": [
    {
     "data": {
      "text/plain": [
       "torch.Size([1, 3, 3])"
      ]
     },
     "execution_count": 15,
     "metadata": {},
     "output_type": "execute_result"
    }
   ],
   "source": [
    "tensor.shape"
   ]
  },
  {
   "cell_type": "markdown",
   "id": "63b50a70",
   "metadata": {},
   "source": [
    "<img src=\"images/00_tensor_dimensions.png\" width=750 />"
   ]
  },
  {
   "cell_type": "markdown",
   "id": "0312053f",
   "metadata": {},
   "source": [
    "<img src=\"images/00_svmt.png\" width=\"500\"/>"
   ]
  },
  {
   "cell_type": "markdown",
   "id": "976bc52b",
   "metadata": {},
   "source": [
    "<img src=\"images/00_svmt_explanation.png\" width=\"750\"/>"
   ]
  },
  {
   "cell_type": "code",
   "execution_count": 16,
   "id": "78cb71d6",
   "metadata": {
    "ExecuteTime": {
     "end_time": "2023-01-15T14:13:30.722853Z",
     "start_time": "2023-01-15T14:13:30.710861Z"
    }
   },
   "outputs": [
    {
     "data": {
      "text/plain": [
       "tensor([[[1, 2, 3],\n",
       "         [4, 5, 6],\n",
       "         [7, 8, 9]],\n",
       "\n",
       "        [[9, 8, 7],\n",
       "         [6, 5, 4],\n",
       "         [3, 2, 1]]])"
      ]
     },
     "execution_count": 16,
     "metadata": {},
     "output_type": "execute_result"
    }
   ],
   "source": [
    "tt1 = torch.tensor(\n",
    "    [\n",
    "        [[1, 2, 3], [4, 5, 6], [7, 8, 9]],\n",
    "        [[9, 8, 7], [6, 5, 4], [3, 2, 1]]\n",
    "    ],\n",
    ")\n",
    "tt1"
   ]
  },
  {
   "cell_type": "code",
   "execution_count": 17,
   "id": "a50df03a",
   "metadata": {
    "ExecuteTime": {
     "end_time": "2023-01-15T14:13:30.754835Z",
     "start_time": "2023-01-15T14:13:30.725851Z"
    }
   },
   "outputs": [
    {
     "data": {
      "text/plain": [
       "tensor([[[1, 2, 3],\n",
       "         [4, 5, 6]],\n",
       "\n",
       "        [[9, 8, 7],\n",
       "         [6, 5, 4]]])"
      ]
     },
     "execution_count": 17,
     "metadata": {},
     "output_type": "execute_result"
    }
   ],
   "source": [
    "tt2 = torch.tensor(\n",
    "    [\n",
    "        [[1, 2, 3], [4, 5, 6]],\n",
    "        [[9, 8, 7], [6, 5, 4]]\n",
    "    ],\n",
    ")\n",
    "tt2"
   ]
  },
  {
   "cell_type": "markdown",
   "id": "b7d9d376",
   "metadata": {},
   "source": [
    "## Random Tensors <a name=\"random\" />"
   ]
  },
  {
   "cell_type": "markdown",
   "id": "a72222fd",
   "metadata": {},
   "source": [
    "Why random tensors?\n",
    "\n",
    "Random tensors are important as many Neural Networks start with random numbers during the learning process and then adjust those random numbers to better represent the data."
   ]
  },
  {
   "cell_type": "code",
   "execution_count": 18,
   "id": "d4a8bae0",
   "metadata": {
    "ExecuteTime": {
     "end_time": "2023-01-15T14:13:30.818798Z",
     "start_time": "2023-01-15T14:13:30.757833Z"
    }
   },
   "outputs": [
    {
     "data": {
      "text/plain": [
       "tensor([[0.6494, 0.0301, 0.6100, 0.7627],\n",
       "        [0.9845, 0.9777, 0.5928, 0.9440],\n",
       "        [0.5815, 0.7746, 0.9446, 0.6265]])"
      ]
     },
     "execution_count": 18,
     "metadata": {},
     "output_type": "execute_result"
    }
   ],
   "source": [
    "# Creating a random tensor manually of size (3, 4)\n",
    "ts_rnd = torch.rand(3, 4)\n",
    "ts_rnd"
   ]
  },
  {
   "cell_type": "code",
   "execution_count": 19,
   "id": "4bacc454",
   "metadata": {
    "ExecuteTime": {
     "end_time": "2023-01-15T14:13:30.834789Z",
     "start_time": "2023-01-15T14:13:30.821797Z"
    }
   },
   "outputs": [
    {
     "data": {
      "text/plain": [
       "2"
      ]
     },
     "execution_count": 19,
     "metadata": {},
     "output_type": "execute_result"
    }
   ],
   "source": [
    "ts_rnd.ndim"
   ]
  },
  {
   "cell_type": "code",
   "execution_count": 20,
   "id": "084d55c2",
   "metadata": {
    "ExecuteTime": {
     "end_time": "2023-01-15T14:13:30.850780Z",
     "start_time": "2023-01-15T14:13:30.837788Z"
    }
   },
   "outputs": [
    {
     "data": {
      "text/plain": [
       "(torch.Size([224, 224, 3]), 3)"
      ]
     },
     "execution_count": 20,
     "metadata": {},
     "output_type": "execute_result"
    }
   ],
   "source": [
    "# Creating a random tensor with similar shape to an image\n",
    "# The size argument's parameters represent height, width, and colour channels (RGB)\n",
    "# size= is optional but more clear\n",
    "ts_img = torch.rand(size=(224, 224, 3))\n",
    "ts_img.shape, ts_img.ndim"
   ]
  },
  {
   "cell_type": "markdown",
   "id": "8e2cdf53",
   "metadata": {
    "ExecuteTime": {
     "end_time": "2023-01-08T14:03:11.923279Z",
     "start_time": "2023-01-08T14:03:11.910286Z"
    }
   },
   "source": [
    "<img src=\"images/00_rgb.png\" width=\"750\"/>"
   ]
  },
  {
   "cell_type": "markdown",
   "id": "35cbe168",
   "metadata": {},
   "source": [
    "## Zeros and Ones <a name=\"zeroone\" />"
   ]
  },
  {
   "cell_type": "code",
   "execution_count": 21,
   "id": "c51fe358",
   "metadata": {
    "ExecuteTime": {
     "end_time": "2023-01-15T14:13:30.865773Z",
     "start_time": "2023-01-15T14:13:30.854780Z"
    }
   },
   "outputs": [
    {
     "data": {
      "text/plain": [
       "tensor([[0., 0., 0., 0.],\n",
       "        [0., 0., 0., 0.],\n",
       "        [0., 0., 0., 0.]])"
      ]
     },
     "execution_count": 21,
     "metadata": {},
     "output_type": "execute_result"
    }
   ],
   "source": [
    "# Create tensors of all zeros\n",
    "ts_zero = torch.zeros(size=(3, 4))\n",
    "ts_zero"
   ]
  },
  {
   "cell_type": "code",
   "execution_count": 22,
   "id": "c496511e",
   "metadata": {
    "ExecuteTime": {
     "end_time": "2023-01-15T14:13:30.881762Z",
     "start_time": "2023-01-15T14:13:30.868771Z"
    },
    "scrolled": true
   },
   "outputs": [
    {
     "data": {
      "text/plain": [
       "tensor([[0., 0., 0., 0.],\n",
       "        [0., 0., 0., 0.],\n",
       "        [0., 0., 0., 0.]])"
      ]
     },
     "execution_count": 22,
     "metadata": {},
     "output_type": "execute_result"
    }
   ],
   "source": [
    "ts_zero * ts_rnd"
   ]
  },
  {
   "cell_type": "code",
   "execution_count": 23,
   "id": "e133faae",
   "metadata": {
    "ExecuteTime": {
     "end_time": "2023-01-15T14:13:30.896755Z",
     "start_time": "2023-01-15T14:13:30.883761Z"
    }
   },
   "outputs": [
    {
     "data": {
      "text/plain": [
       "tensor([[1., 1., 1., 1.],\n",
       "        [1., 1., 1., 1.],\n",
       "        [1., 1., 1., 1.]])"
      ]
     },
     "execution_count": 23,
     "metadata": {},
     "output_type": "execute_result"
    }
   ],
   "source": [
    "# Create tensors of all ones\n",
    "ts_one = torch.ones(size=(3, 4))\n",
    "ts_one"
   ]
  },
  {
   "cell_type": "code",
   "execution_count": 24,
   "id": "f1f4f53b",
   "metadata": {
    "ExecuteTime": {
     "end_time": "2023-01-15T14:13:30.912745Z",
     "start_time": "2023-01-15T14:13:30.900752Z"
    }
   },
   "outputs": [
    {
     "data": {
      "text/plain": [
       "torch.float32"
      ]
     },
     "execution_count": 24,
     "metadata": {},
     "output_type": "execute_result"
    }
   ],
   "source": [
    "# Standard data type is torch.float32 when the numbers are floats, unless manually changed otherwise\n",
    "ts_one.dtype"
   ]
  },
  {
   "cell_type": "markdown",
   "id": "5fcdcad2",
   "metadata": {},
   "source": [
    "## Range of Tensors and Tensors-like <a name=\"rangelike\" />"
   ]
  },
  {
   "cell_type": "code",
   "execution_count": 25,
   "id": "47d700d0",
   "metadata": {
    "ExecuteTime": {
     "end_time": "2023-01-15T14:13:30.944726Z",
     "start_time": "2023-01-15T14:13:30.915744Z"
    }
   },
   "outputs": [
    {
     "data": {
      "text/plain": [
       "tensor([ 1,  2,  3,  4,  5,  6,  7,  8,  9, 10])"
      ]
     },
     "execution_count": 25,
     "metadata": {},
     "output_type": "execute_result"
    }
   ],
   "source": [
    "# torch.range() is deprecated \n",
    "# Using torch.arange() instead\n",
    "one_to_tensor = torch.arange(1, 11)\n",
    "one_to_tensor"
   ]
  },
  {
   "cell_type": "code",
   "execution_count": 26,
   "id": "cecf3501",
   "metadata": {
    "ExecuteTime": {
     "end_time": "2023-01-15T14:13:30.960716Z",
     "start_time": "2023-01-15T14:13:30.947725Z"
    }
   },
   "outputs": [
    {
     "data": {
      "text/plain": [
       "tensor([  0,  77, 154, 231, 308, 385, 462, 539, 616, 693, 770, 847, 924])"
      ]
     },
     "execution_count": 26,
     "metadata": {},
     "output_type": "execute_result"
    }
   ],
   "source": [
    "# Using start, end, and step parameters\n",
    "step_to_thousand = torch.arange(start=0, end=1000, step=77)\n",
    "step_to_thousand"
   ]
  },
  {
   "cell_type": "code",
   "execution_count": 27,
   "id": "f5b58f97",
   "metadata": {
    "ExecuteTime": {
     "end_time": "2023-01-15T14:13:30.976707Z",
     "start_time": "2023-01-15T14:13:30.963718Z"
    }
   },
   "outputs": [
    {
     "data": {
      "text/plain": [
       "tensor([  0,  77, 154, 231, 308, 385, 462, 539, 616, 693, 770, 847, 924])"
      ]
     },
     "execution_count": 27,
     "metadata": {},
     "output_type": "execute_result"
    }
   ],
   "source": [
    "# Using start, end, and step parameters is optional but more clear\n",
    "step_to_thousand = torch.arange(0, 1000, 77)\n",
    "step_to_thousand"
   ]
  },
  {
   "cell_type": "code",
   "execution_count": 28,
   "id": "39c6c69b",
   "metadata": {
    "ExecuteTime": {
     "end_time": "2023-01-15T14:13:31.006693Z",
     "start_time": "2023-01-15T14:13:30.987701Z"
    }
   },
   "outputs": [
    {
     "data": {
      "text/plain": [
       "tensor([0, 0, 0, 0, 0, 0, 0, 0, 0, 0])"
      ]
     },
     "execution_count": 28,
     "metadata": {},
     "output_type": "execute_result"
    }
   ],
   "source": [
    "# Creating a 0-filled tensor with equal shape to another tensor\n",
    "# input= is optional but more clear\n",
    "ten_zeros = torch.zeros_like(input=one_to_tensor)\n",
    "ten_zeros"
   ]
  },
  {
   "cell_type": "markdown",
   "id": "b942da6f",
   "metadata": {},
   "source": [
    "## Tensor Data Types <a name=\"datatypes\" />"
   ]
  },
  {
   "cell_type": "markdown",
   "id": "900dd9b6",
   "metadata": {},
   "source": [
    "Available tensor data types: https://pytorch.org/docs/stable/tensors"
   ]
  },
  {
   "cell_type": "code",
   "execution_count": 29,
   "id": "df15adcc",
   "metadata": {
    "ExecuteTime": {
     "end_time": "2023-01-15T14:13:31.022681Z",
     "start_time": "2023-01-15T14:13:31.009689Z"
    }
   },
   "outputs": [
    {
     "data": {
      "text/plain": [
       "(tensor([3., 6., 9.]), torch.float32)"
      ]
     },
     "execution_count": 29,
     "metadata": {},
     "output_type": "execute_result"
    }
   ],
   "source": [
    "# Default datatype is torch.float32 when then numbers are floats\n",
    "# Behaviour applies even when dtype is set to None\n",
    "ts_float32 = torch.tensor([3.0, 6.0, 9.0], dtype=None, device=None, requires_grad=False)\n",
    "ts_float32, ts_float32.dtype"
   ]
  },
  {
   "cell_type": "markdown",
   "id": "620fc5b1",
   "metadata": {},
   "source": [
    "- dtype = What datatype the tensor will be\n",
    "- device = What device is used to create the tensor (CPU by default)\n",
    "- requires_grad = If you want PyTorch to keep track of the gradients during certain numerical calculations (explained later)\n",
    "\n",
    "Tensor datatypes is one of the common 3 errors to run into when working with tensors. These 3 common errors are:\n",
    "- Tensor is not of the right datatype\n",
    "- Tensor is not of the right size\n",
    "- Tensor is not on the right device\n",
    "\n",
    "Tensors have to be of the same data types. Attempting to perform a computation on a float32 tensor with a float16 tensor may result in errors. Computations also require tensors to be of the same size. Tensors also need to exist on the same device. If one tensor is created on the CPU and another is created on the GPU, they will not be able to interact."
   ]
  },
  {
   "cell_type": "code",
   "execution_count": 30,
   "id": "c0f32f6a",
   "metadata": {
    "ExecuteTime": {
     "end_time": "2023-01-15T14:13:31.037672Z",
     "start_time": "2023-01-15T14:13:31.024680Z"
    }
   },
   "outputs": [
    {
     "data": {
      "text/plain": [
       "tensor([3., 6., 9.], dtype=torch.float16)"
      ]
     },
     "execution_count": 30,
     "metadata": {},
     "output_type": "execute_result"
    }
   ],
   "source": [
    "# Conversion of tensor of one datatype to another\n",
    "ts_float16 = ts_float32.type(torch.float16)\n",
    "ts_float16"
   ]
  },
  {
   "cell_type": "code",
   "execution_count": 31,
   "id": "9e54dc4c",
   "metadata": {
    "ExecuteTime": {
     "end_time": "2023-01-15T14:13:31.068655Z",
     "start_time": "2023-01-15T14:13:31.040671Z"
    }
   },
   "outputs": [
    {
     "data": {
      "text/plain": [
       "tensor([ 9., 36., 81.])"
      ]
     },
     "execution_count": 31,
     "metadata": {},
     "output_type": "execute_result"
    }
   ],
   "source": [
    "# Different datatypes don't necessarily result in an error!\n",
    "ts_float16 * ts_float32"
   ]
  },
  {
   "cell_type": "code",
   "execution_count": 32,
   "id": "c70e3b4a",
   "metadata": {
    "ExecuteTime": {
     "end_time": "2023-01-15T14:13:31.083647Z",
     "start_time": "2023-01-15T14:13:31.072654Z"
    }
   },
   "outputs": [
    {
     "data": {
      "text/plain": [
       "(tensor([3, 6, 9]), torch.int64)"
      ]
     },
     "execution_count": 32,
     "metadata": {},
     "output_type": "execute_result"
    }
   ],
   "source": [
    "# Default datatype is torch.int64 when then numbers are integers\n",
    "# Behaviour applies even when dtype is set to None\n",
    "ts_int64 = torch.tensor([3, 6, 9], dtype=None)\n",
    "ts_int64, ts_int64.dtype"
   ]
  },
  {
   "cell_type": "code",
   "execution_count": 33,
   "id": "e5015583",
   "metadata": {
    "ExecuteTime": {
     "end_time": "2023-01-15T14:13:31.099639Z",
     "start_time": "2023-01-15T14:13:31.086647Z"
    }
   },
   "outputs": [
    {
     "data": {
      "text/plain": [
       "tensor([ 9., 36., 81.])"
      ]
     },
     "execution_count": 33,
     "metadata": {},
     "output_type": "execute_result"
    }
   ],
   "source": [
    "# Different datatypes don't necessarily result in an error!\n",
    "ts_int64 * ts_float32"
   ]
  },
  {
   "cell_type": "code",
   "execution_count": 34,
   "id": "cee8bbb9",
   "metadata": {
    "ExecuteTime": {
     "end_time": "2023-01-15T14:13:31.115628Z",
     "start_time": "2023-01-15T14:13:31.102636Z"
    }
   },
   "outputs": [
    {
     "name": "stdout",
     "output_type": "stream",
     "text": [
      "Datatype: torch.float32\n",
      "Shape: torch.Size([3, 4])\n",
      "Size: torch.Size([3, 4])\n",
      "Device: cpu\n"
     ]
    }
   ],
   "source": [
    "# Getting information of a tensor\n",
    "ts_info = torch.rand(3, 4)\n",
    "\n",
    "print(f\"Datatype: {ts_info.dtype}\")\n",
    "print(f\"Shape: {ts_info.shape}\")\n",
    "print(f\"Size: {ts_info.size()}\")\n",
    "print(f\"Device: {ts_info.device}\")"
   ]
  },
  {
   "cell_type": "markdown",
   "id": "89fadb73",
   "metadata": {},
   "source": [
    "## Manipulating Tensors <a name=\"manipulate\" />"
   ]
  },
  {
   "cell_type": "markdown",
   "id": "7123fb01",
   "metadata": {},
   "source": [
    "Tensor manipulations include, but are not limited to:\n",
    "- Addition\n",
    "- Subtraction\n",
    "- Multiplication (element-wise)\n",
    "- Division\n",
    "- Matrix multiplication"
   ]
  },
  {
   "cell_type": "code",
   "execution_count": 35,
   "id": "2fa28717",
   "metadata": {
    "ExecuteTime": {
     "end_time": "2023-01-15T14:13:31.130620Z",
     "start_time": "2023-01-15T14:13:31.119627Z"
    }
   },
   "outputs": [
    {
     "data": {
      "text/plain": [
       "tensor([101, 102, 103])"
      ]
     },
     "execution_count": 35,
     "metadata": {},
     "output_type": "execute_result"
    }
   ],
   "source": [
    "# Addition\n",
    "ts_add = torch.tensor([1, 2, 3])\n",
    "ts_add + 100"
   ]
  },
  {
   "cell_type": "code",
   "execution_count": 36,
   "id": "1c4a944d",
   "metadata": {
    "ExecuteTime": {
     "end_time": "2023-01-15T14:13:31.146610Z",
     "start_time": "2023-01-15T14:13:31.134618Z"
    }
   },
   "outputs": [
    {
     "data": {
      "text/plain": [
       "tensor([1, 2, 3])"
      ]
     },
     "execution_count": 36,
     "metadata": {},
     "output_type": "execute_result"
    }
   ],
   "source": [
    "# Subtraction\n",
    "ts_sub = torch.tensor([101, 102, 103])\n",
    "ts_sub - 100"
   ]
  },
  {
   "cell_type": "code",
   "execution_count": 37,
   "id": "244903ea",
   "metadata": {
    "ExecuteTime": {
     "end_time": "2023-01-15T14:13:31.162601Z",
     "start_time": "2023-01-15T14:13:31.149609Z"
    }
   },
   "outputs": [
    {
     "data": {
      "text/plain": [
       "tensor([10, 20, 30])"
      ]
     },
     "execution_count": 37,
     "metadata": {},
     "output_type": "execute_result"
    }
   ],
   "source": [
    "# Multiplication\n",
    "ts_mul = torch.tensor([1, 2, 3])\n",
    "ts_mul * 10"
   ]
  },
  {
   "cell_type": "code",
   "execution_count": 38,
   "id": "03c9bf1f",
   "metadata": {
    "ExecuteTime": {
     "end_time": "2023-01-15T14:13:31.178593Z",
     "start_time": "2023-01-15T14:13:31.164600Z"
    }
   },
   "outputs": [
    {
     "data": {
      "text/plain": [
       "tensor([1., 2., 3.])"
      ]
     },
     "execution_count": 38,
     "metadata": {},
     "output_type": "execute_result"
    }
   ],
   "source": [
    "# Division\n",
    "# Note that division by default results in a float again\n",
    "ts_div = torch.tensor([10, 20, 30])\n",
    "ts_div / 10"
   ]
  },
  {
   "cell_type": "code",
   "execution_count": 39,
   "id": "f51b7756",
   "metadata": {
    "ExecuteTime": {
     "end_time": "2023-01-15T14:13:31.194583Z",
     "start_time": "2023-01-15T14:13:31.182592Z"
    }
   },
   "outputs": [
    {
     "name": "stdout",
     "output_type": "stream",
     "text": [
      "tensor([101, 102, 103])\n",
      "tensor([1, 2, 3])\n",
      "tensor([10, 20, 30])\n",
      "tensor([1., 2., 3.])\n"
     ]
    }
   ],
   "source": [
    "# PyTorch in-built functions\n",
    "print(torch.add(ts_add, 100))\n",
    "print(torch.sub(ts_sub, 100))\n",
    "print(torch.mul(ts_mul, 10))\n",
    "print(torch.div(ts_div, 10))"
   ]
  },
  {
   "cell_type": "markdown",
   "id": "96c9c182",
   "metadata": {},
   "source": [
    "There are two main ways of performing multiplication in Neural Networks and Deep Learning:\n",
    "\n",
    "- Element-wise multiplication\n",
    "- Matrix multiplication (dot product)"
   ]
  },
  {
   "cell_type": "code",
   "execution_count": 40,
   "id": "58e2aafa",
   "metadata": {
    "ExecuteTime": {
     "end_time": "2023-01-15T14:13:31.210574Z",
     "start_time": "2023-01-15T14:13:31.196583Z"
    }
   },
   "outputs": [
    {
     "data": {
      "text/plain": [
       "tensor([1, 4, 9])"
      ]
     },
     "execution_count": 40,
     "metadata": {},
     "output_type": "execute_result"
    }
   ],
   "source": [
    "# Element-wise operation:\n",
    "ts_add * ts_add"
   ]
  },
  {
   "cell_type": "markdown",
   "id": "84be64c8",
   "metadata": {},
   "source": [
    "Matrix multiplication is more intricate and requires explanation. In matrix multiplication, the first matrix is multiplied by the second matrix. This is done by multiplying each row of the first matrix by each row of the columns of the second matrix. In the above example, as the first matrix has 2 rows, and the second matrix has 2 columns, this results in 4 total operations. It's important to note that **the number of columns of the first matrix MUST equal the number of rows of the second matrix**."
   ]
  },
  {
   "cell_type": "markdown",
   "id": "f013e397",
   "metadata": {},
   "source": [
    "<img src=\"images/00_dotproduct.svg\" />"
   ]
  },
  {
   "cell_type": "markdown",
   "id": "889c786d",
   "metadata": {},
   "source": [
    "The above example is the multiplication of a **2x3** matrix (2 rows and 3 columns) matrix with a **3x2** matrix (3 rows and 2 columns)."
   ]
  },
  {
   "cell_type": "markdown",
   "id": "ba24ebd6",
   "metadata": {},
   "source": [
    "In general: To multiply an **m**×**n** matrix by an **n**×**p** matrix, the **n**s must be the same,\n",
    "and the result is an **m**×**p** matrix."
   ]
  },
  {
   "cell_type": "markdown",
   "id": "5591e2ce",
   "metadata": {},
   "source": [
    "<img src=\"images/00_mnp.svg\" />"
   ]
  },
  {
   "cell_type": "markdown",
   "id": "82c882ae",
   "metadata": {},
   "source": [
    "For these operations, the dot product is used. The operations of the above example would be as follows:\n",
    "- (1, 2, 3) x (7, 9, 11) = 1x7 + 2x9 + 3x11 = 58\n",
    "- (1, 2, 3) x (8, 10, 12) = 1x8 + 2x10 + 3x12 = 64\n",
    "- (4, 5, 6) x (7, 9, 11) = 4x7 + 5x9 + 6x11 = 139\n",
    "- (4, 5, 6) x (8, 10, 12) = 4x8 + 5x10 + 6x12 = 154"
   ]
  },
  {
   "cell_type": "markdown",
   "id": "2912c543",
   "metadata": {},
   "source": [
    "Matrix multipication on mathisfun: https://www.mathsisfun.com/algebra/matrix-multiplying"
   ]
  },
  {
   "cell_type": "code",
   "execution_count": 41,
   "id": "c739c503",
   "metadata": {
    "ExecuteTime": {
     "end_time": "2023-01-15T14:13:31.242556Z",
     "start_time": "2023-01-15T14:13:31.213573Z"
    }
   },
   "outputs": [
    {
     "data": {
      "text/plain": [
       "(tensor([[1, 2, 3],\n",
       "         [4, 5, 6]]),\n",
       " tensor([[ 7,  8],\n",
       "         [ 9, 10],\n",
       "         [11, 12]]))"
      ]
     },
     "execution_count": 41,
     "metadata": {},
     "output_type": "execute_result"
    }
   ],
   "source": [
    "# Matrix multiplication recreation of the above example\n",
    "ts_m1 = torch.tensor([[1, 2, 3], [4, 5, 6]])\n",
    "ts_m2 = torch.tensor([[7, 8], [9, 10], [11, 12]])\n",
    "ts_m1, ts_m2"
   ]
  },
  {
   "cell_type": "code",
   "execution_count": 42,
   "id": "16dc2cac",
   "metadata": {
    "ExecuteTime": {
     "end_time": "2023-01-15T14:13:31.272540Z",
     "start_time": "2023-01-15T14:13:31.247554Z"
    }
   },
   "outputs": [
    {
     "data": {
      "text/plain": [
       "tensor([[ 58,  64],\n",
       "        [139, 154]])"
      ]
     },
     "execution_count": 42,
     "metadata": {},
     "output_type": "execute_result"
    }
   ],
   "source": [
    "# Matrix multiplication\n",
    "torch.matmul(ts_m1, ts_m2)"
   ]
  },
  {
   "cell_type": "markdown",
   "id": "75a2a4e8",
   "metadata": {},
   "source": [
    "Two more examples of matrix multiplication:"
   ]
  },
  {
   "cell_type": "markdown",
   "id": "479f083f",
   "metadata": {},
   "source": [
    "<img src=\"images/00_matmul1.png\" />"
   ]
  },
  {
   "cell_type": "code",
   "execution_count": 43,
   "id": "e3ff1505",
   "metadata": {
    "ExecuteTime": {
     "end_time": "2023-01-15T14:13:31.287530Z",
     "start_time": "2023-01-15T14:13:31.276537Z"
    }
   },
   "outputs": [
    {
     "data": {
      "text/plain": [
       "(tensor([[1, 2, 3]]),\n",
       " tensor([[4],\n",
       "         [5],\n",
       "         [6]]))"
      ]
     },
     "execution_count": 43,
     "metadata": {},
     "output_type": "execute_result"
    }
   ],
   "source": [
    "# Matrix multiplication recreation of the above example\n",
    "ts_m1 = torch.tensor([[1, 2, 3]])\n",
    "ts_m2 = torch.tensor([[4], [5], [6]])\n",
    "ts_m1, ts_m2"
   ]
  },
  {
   "cell_type": "code",
   "execution_count": 44,
   "id": "129d1caa",
   "metadata": {
    "ExecuteTime": {
     "end_time": "2023-01-15T14:13:31.302526Z",
     "start_time": "2023-01-15T14:13:31.291530Z"
    }
   },
   "outputs": [
    {
     "data": {
      "text/plain": [
       "tensor([[32]])"
      ]
     },
     "execution_count": 44,
     "metadata": {},
     "output_type": "execute_result"
    }
   ],
   "source": [
    "# Matrix multiplication\n",
    "torch.matmul(ts_m1, ts_m2)"
   ]
  },
  {
   "cell_type": "markdown",
   "id": "44904ede",
   "metadata": {},
   "source": [
    "<img src=\"images/00_matmul2.png\" />"
   ]
  },
  {
   "cell_type": "code",
   "execution_count": 45,
   "id": "216323eb",
   "metadata": {
    "ExecuteTime": {
     "end_time": "2023-01-15T14:13:31.317513Z",
     "start_time": "2023-01-15T14:13:31.305520Z"
    }
   },
   "outputs": [
    {
     "data": {
      "text/plain": [
       "(tensor([[4],\n",
       "         [5],\n",
       "         [6]]),\n",
       " tensor([[1, 2, 3]]))"
      ]
     },
     "execution_count": 45,
     "metadata": {},
     "output_type": "execute_result"
    }
   ],
   "source": [
    "# Matrix multiplication recreation of the above example\n",
    "ts_m1 = torch.tensor([[4], [5], [6]])\n",
    "ts_m2 = torch.tensor([[1, 2, 3]])\n",
    "ts_m1, ts_m2"
   ]
  },
  {
   "cell_type": "code",
   "execution_count": 46,
   "id": "7d9bd19c",
   "metadata": {
    "ExecuteTime": {
     "end_time": "2023-01-15T14:13:31.333504Z",
     "start_time": "2023-01-15T14:13:31.322511Z"
    }
   },
   "outputs": [
    {
     "data": {
      "text/plain": [
       "tensor([[ 4,  8, 12],\n",
       "        [ 5, 10, 15],\n",
       "        [ 6, 12, 18]])"
      ]
     },
     "execution_count": 46,
     "metadata": {},
     "output_type": "execute_result"
    }
   ],
   "source": [
    "# Matrix multiplication\n",
    "torch.matmul(ts_m1, ts_m2)"
   ]
  },
  {
   "cell_type": "code",
   "execution_count": 47,
   "id": "5d98935a",
   "metadata": {
    "ExecuteTime": {
     "end_time": "2023-01-15T14:13:31.349495Z",
     "start_time": "2023-01-15T14:13:31.336502Z"
    }
   },
   "outputs": [
    {
     "data": {
      "text/plain": [
       "tensor([[ 4,  8, 12],\n",
       "        [ 5, 10, 15],\n",
       "        [ 6, 12, 18]])"
      ]
     },
     "execution_count": 47,
     "metadata": {},
     "output_type": "execute_result"
    }
   ],
   "source": [
    "# @ also performs matrix multiplication\n",
    "ts_m1 @ ts_m2"
   ]
  },
  {
   "cell_type": "markdown",
   "id": "2e0d6dda",
   "metadata": {},
   "source": [
    "To recap, there are two main rules that matrix multiplication needs to satisfy:\n",
    "- The **inner dimensions** must match\n",
    "- The resulting matrix has the shape of the **outer dimensions**\n",
    "\n",
    "Rule 1 refers to how the number of columns of matrix 1 needs to match the number of rows of matrix 2:\n",
    "- (3, 2) @ (3, 2) won't work\n",
    "- (2, 3) @ (3, 2) will work\n",
    "- (3, 2) @ (2, 4) will work\n",
    "\n",
    "Rule 2 refers to how the outer dimensions define the resulting matrix's shape:\n",
    "- (2, 3) @ (3, 2) > (2, 2)\n",
    "- (3, 2) @ (2, 4) > (3, 4)"
   ]
  },
  {
   "cell_type": "code",
   "execution_count": 48,
   "id": "4265a55d",
   "metadata": {
    "ExecuteTime": {
     "end_time": "2023-01-15T14:13:31.381477Z",
     "start_time": "2023-01-15T14:13:31.351493Z"
    }
   },
   "outputs": [
    {
     "data": {
      "text/plain": [
       "tensor([[0.5413, 0.8675, 1.0208, 0.9037],\n",
       "        [0.3075, 0.4887, 0.6929, 0.6500],\n",
       "        [0.2678, 0.4194, 0.7842, 0.7847]])"
      ]
     },
     "execution_count": 48,
     "metadata": {},
     "output_type": "execute_result"
    }
   ],
   "source": [
    "# Outer dimensions example\n",
    "# mm is short for matmul\n",
    "torch.mm(torch.rand(3, 2), torch.rand(2, 4))"
   ]
  },
  {
   "cell_type": "markdown",
   "id": "a5fea13e",
   "metadata": {},
   "source": [
    "http://matrixmultiplication.xyz/"
   ]
  },
  {
   "cell_type": "markdown",
   "id": "54977d74",
   "metadata": {},
   "source": [
    "When dealing with shape issues (e.g., (3, 2) @ (3, 2)), it's possible to manipulate one of the tensors using transpose."
   ]
  },
  {
   "cell_type": "code",
   "execution_count": 49,
   "id": "efabcb25",
   "metadata": {
    "ExecuteTime": {
     "end_time": "2023-01-15T14:13:31.397467Z",
     "start_time": "2023-01-15T14:13:31.384475Z"
    }
   },
   "outputs": [
    {
     "data": {
      "text/plain": [
       "(tensor([[4],\n",
       "         [5],\n",
       "         [6]]),\n",
       " tensor([[4, 5, 6]]))"
      ]
     },
     "execution_count": 49,
     "metadata": {},
     "output_type": "execute_result"
    }
   ],
   "source": [
    "# Original matrix and transposed version\n",
    "ts_m1, ts_m1.T"
   ]
  },
  {
   "cell_type": "code",
   "execution_count": 50,
   "id": "1f3f06b2",
   "metadata": {
    "ExecuteTime": {
     "end_time": "2023-01-15T14:13:31.413457Z",
     "start_time": "2023-01-15T14:13:31.399469Z"
    }
   },
   "outputs": [
    {
     "data": {
      "text/plain": [
       "(torch.Size([3, 1]), torch.Size([1, 3]))"
      ]
     },
     "execution_count": 50,
     "metadata": {},
     "output_type": "execute_result"
    }
   ],
   "source": [
    "# Original matrix and transposed version shapes\n",
    "ts_m1.shape, ts_m1.T.shape"
   ]
  },
  {
   "cell_type": "code",
   "execution_count": 51,
   "id": "80748842",
   "metadata": {
    "ExecuteTime": {
     "end_time": "2023-01-15T14:13:31.429449Z",
     "start_time": "2023-01-15T14:13:31.416457Z"
    }
   },
   "outputs": [
    {
     "data": {
      "text/plain": [
       "tensor([[16, 20, 24],\n",
       "        [20, 25, 30],\n",
       "        [24, 30, 36]])"
      ]
     },
     "execution_count": 51,
     "metadata": {},
     "output_type": "execute_result"
    }
   ],
   "source": [
    "# Matrix multiplication of the original matrix and the transposed version\n",
    "torch.mm(ts_m1, ts_m1.T)"
   ]
  },
  {
   "cell_type": "markdown",
   "id": "a159d702",
   "metadata": {},
   "source": [
    "## Tensor Aggregation <a name=\"tensoragg\" />"
   ]
  },
  {
   "cell_type": "markdown",
   "id": "f4dd5a36",
   "metadata": {},
   "source": [
    "Finding the min, max, mean, sum, etc., of tensors:"
   ]
  },
  {
   "cell_type": "code",
   "execution_count": 52,
   "id": "6a5e90e5",
   "metadata": {
    "ExecuteTime": {
     "end_time": "2023-01-15T14:13:31.445439Z",
     "start_time": "2023-01-15T14:13:31.433448Z"
    }
   },
   "outputs": [
    {
     "data": {
      "text/plain": [
       "tensor([ 1, 11, 21, 31, 41, 51, 61, 71, 81, 91])"
      ]
     },
     "execution_count": 52,
     "metadata": {},
     "output_type": "execute_result"
    }
   ],
   "source": [
    "ts_agg = torch.arange(1, 100, 10)\n",
    "ts_agg"
   ]
  },
  {
   "cell_type": "code",
   "execution_count": 53,
   "id": "0db141f2",
   "metadata": {
    "ExecuteTime": {
     "end_time": "2023-01-15T14:13:31.461431Z",
     "start_time": "2023-01-15T14:13:31.448439Z"
    }
   },
   "outputs": [
    {
     "data": {
      "text/plain": [
       "(tensor(1), tensor(1))"
      ]
     },
     "execution_count": 53,
     "metadata": {},
     "output_type": "execute_result"
    }
   ],
   "source": [
    "# Min value of a tensor\n",
    "torch.min(ts_agg), ts_agg.min()"
   ]
  },
  {
   "cell_type": "code",
   "execution_count": 54,
   "id": "c1bfc38e",
   "metadata": {
    "ExecuteTime": {
     "end_time": "2023-01-15T14:13:31.476421Z",
     "start_time": "2023-01-15T14:13:31.465429Z"
    }
   },
   "outputs": [
    {
     "data": {
      "text/plain": [
       "(tensor(91), tensor(91))"
      ]
     },
     "execution_count": 54,
     "metadata": {},
     "output_type": "execute_result"
    }
   ],
   "source": [
    "# Max value of a tensor\n",
    "torch.max(ts_agg), ts_agg.max()"
   ]
  },
  {
   "cell_type": "code",
   "execution_count": 55,
   "id": "81c75d4a",
   "metadata": {
    "ExecuteTime": {
     "end_time": "2023-01-15T14:13:31.491413Z",
     "start_time": "2023-01-15T14:13:31.479420Z"
    }
   },
   "outputs": [
    {
     "data": {
      "text/plain": [
       "(tensor(46.), tensor(46.))"
      ]
     },
     "execution_count": 55,
     "metadata": {},
     "output_type": "execute_result"
    }
   ],
   "source": [
    "# Mean of a tensor\n",
    "# Mean requires the datatype to be float or a complex datatype\n",
    "# tensor_agg consists of integers and thus requires conversion\n",
    "torch.mean(ts_agg.type(torch.float32)), ts_agg.type(torch.float32).mean()"
   ]
  },
  {
   "cell_type": "code",
   "execution_count": 56,
   "id": "14fea42b",
   "metadata": {
    "ExecuteTime": {
     "end_time": "2023-01-15T14:13:31.506406Z",
     "start_time": "2023-01-15T14:13:31.494411Z"
    }
   },
   "outputs": [
    {
     "data": {
      "text/plain": [
       "tensor(0.4221)"
      ]
     },
     "execution_count": 56,
     "metadata": {},
     "output_type": "execute_result"
    }
   ],
   "source": [
    "# Tensors with floats and those that by default have float as its datatype have no issues with the mean\n",
    "torch.mean(torch.rand(3, 4))"
   ]
  },
  {
   "cell_type": "code",
   "execution_count": 57,
   "id": "6a751eb9",
   "metadata": {
    "ExecuteTime": {
     "end_time": "2023-01-15T14:13:31.538386Z",
     "start_time": "2023-01-15T14:13:31.509403Z"
    }
   },
   "outputs": [
    {
     "data": {
      "text/plain": [
       "(tensor(460), tensor(460))"
      ]
     },
     "execution_count": 57,
     "metadata": {},
     "output_type": "execute_result"
    }
   ],
   "source": [
    "# Sum of a tensor\n",
    "torch.sum(ts_agg), ts_agg.sum()"
   ]
  },
  {
   "cell_type": "code",
   "execution_count": 58,
   "id": "1723140e",
   "metadata": {
    "ExecuteTime": {
     "end_time": "2023-01-15T14:13:31.553380Z",
     "start_time": "2023-01-15T14:13:31.541385Z"
    }
   },
   "outputs": [
    {
     "data": {
      "text/plain": [
       "(tensor(0), tensor(0))"
      ]
     },
     "execution_count": 58,
     "metadata": {},
     "output_type": "execute_result"
    }
   ],
   "source": [
    "# Finding the positional min of a tensor\n",
    "torch.argmin(ts_agg), ts_agg.argmin()"
   ]
  },
  {
   "cell_type": "code",
   "execution_count": 59,
   "id": "bfd5c836",
   "metadata": {
    "ExecuteTime": {
     "end_time": "2023-01-15T14:13:31.569369Z",
     "start_time": "2023-01-15T14:13:31.556376Z"
    }
   },
   "outputs": [
    {
     "data": {
      "text/plain": [
       "(tensor(9), tensor(9))"
      ]
     },
     "execution_count": 59,
     "metadata": {},
     "output_type": "execute_result"
    }
   ],
   "source": [
    "# Finding the positional max of a tensor\n",
    "torch.argmax(ts_agg), ts_agg.argmax()"
   ]
  },
  {
   "cell_type": "markdown",
   "id": "e6352690",
   "metadata": {},
   "source": [
    "There are also various other operations available to manipulate tensors in several ways. Some of these are:\n",
    "- Reshaping = Reshapes an input tensor to a defined shape\n",
    "- View = Return a view of an input tensor of certain shape but keep the same memory as the original tensor\n",
    "- Stacking = Combine multiple tensors on top of each other (vstack) or side by side (hstack)\n",
    "- Squeeze = Removes all 1 dimensions from a tensor\n",
    "- Unsqueeze = Add a 1 dimension to a tensor\n",
    "- Permute = Return a view of the input tensor with dimensions permuted (swapped) in a certain way"
   ]
  },
  {
   "cell_type": "code",
   "execution_count": 60,
   "id": "6c515f59",
   "metadata": {
    "ExecuteTime": {
     "end_time": "2023-01-15T14:13:31.584362Z",
     "start_time": "2023-01-15T14:13:31.573366Z"
    }
   },
   "outputs": [
    {
     "data": {
      "text/plain": [
       "(tensor([ 1.,  2.,  3.,  4.,  5.,  6.,  7.,  8.,  9., 10., 11., 12.]),\n",
       " torch.Size([12]))"
      ]
     },
     "execution_count": 60,
     "metadata": {},
     "output_type": "execute_result"
    }
   ],
   "source": [
    "ts_x = torch.arange(1., 13.)\n",
    "ts_x, ts_x.shape"
   ]
  },
  {
   "cell_type": "code",
   "execution_count": 61,
   "id": "3511afc3",
   "metadata": {
    "ExecuteTime": {
     "end_time": "2023-01-15T14:13:31.600352Z",
     "start_time": "2023-01-15T14:13:31.588359Z"
    }
   },
   "outputs": [
    {
     "data": {
      "text/plain": [
       "(tensor([[ 1.,  2.,  3.,  4.],\n",
       "         [ 5.,  6.,  7.,  8.],\n",
       "         [ 9., 10., 11., 12.]]),\n",
       " torch.Size([3, 4]))"
      ]
     },
     "execution_count": 61,
     "metadata": {},
     "output_type": "execute_result"
    }
   ],
   "source": [
    "# Reshaping a tensor to a different row & column distribution\n",
    "# reshape(3, 4) is possible as the original size (12) is a product of the chosen rows and columns\n",
    "x_reshaped = ts_x.reshape(3, 4)\n",
    "x_reshaped, x_reshaped.shape"
   ]
  },
  {
   "cell_type": "code",
   "execution_count": 62,
   "id": "8c80fc65",
   "metadata": {
    "ExecuteTime": {
     "end_time": "2023-01-15T14:13:31.616342Z",
     "start_time": "2023-01-15T14:13:31.604351Z"
    }
   },
   "outputs": [
    {
     "data": {
      "text/plain": [
       "(tensor([[ 1.,  2.,  3.,  4.,  5.,  6.],\n",
       "         [ 7.,  8.,  9., 10., 11., 12.]]),\n",
       " torch.Size([2, 6]))"
      ]
     },
     "execution_count": 62,
     "metadata": {},
     "output_type": "execute_result"
    }
   ],
   "source": [
    "# Create a view of a tensor, sharing the same memory\n",
    "# The view tensor shares the same underlying data with its base tensor\n",
    "# This view avoids explicit data copy, allowing fast and memory efficient reshaping, slicing and element-wise operations\n",
    "ts_z = ts_x.view(2, 6)\n",
    "ts_z, ts_z.shape"
   ]
  },
  {
   "cell_type": "code",
   "execution_count": 63,
   "id": "9829ebce",
   "metadata": {
    "ExecuteTime": {
     "end_time": "2023-01-15T14:13:31.632334Z",
     "start_time": "2023-01-15T14:13:31.619340Z"
    }
   },
   "outputs": [
    {
     "data": {
      "text/plain": [
       "(tensor([[99.,  2.,  3.,  4.,  5.,  6.],\n",
       "         [ 7.,  8.,  9., 10., 11., 12.]]),\n",
       " tensor([99.,  2.,  3.,  4.,  5.,  6.,  7.,  8.,  9., 10., 11., 12.]))"
      ]
     },
     "execution_count": 63,
     "metadata": {},
     "output_type": "execute_result"
    }
   ],
   "source": [
    "# Changing an element of tensor_z also changes the same element in tensor_x due to this shared memory\n",
    "ts_z[0, 0] = 99\n",
    "ts_z, ts_x"
   ]
  },
  {
   "cell_type": "code",
   "execution_count": 64,
   "id": "77334789",
   "metadata": {
    "ExecuteTime": {
     "end_time": "2023-01-15T14:13:31.663315Z",
     "start_time": "2023-01-15T14:13:31.635332Z"
    }
   },
   "outputs": [
    {
     "data": {
      "text/plain": [
       "tensor([[99.,  2.,  3.,  4.,  5.,  6.,  7.,  8.,  9., 10., 11., 12.],\n",
       "        [99.,  2.,  3.,  4.,  5.,  6.,  7.,  8.,  9., 10., 11., 12.],\n",
       "        [99.,  2.,  3.,  4.,  5.,  6.,  7.,  8.,  9., 10., 11., 12.]])"
      ]
     },
     "execution_count": 64,
     "metadata": {},
     "output_type": "execute_result"
    }
   ],
   "source": [
    "# Stack tensors on top of each other\n",
    "# The tensors have to be of equal size! (tensor_z's dimensions are different)\n",
    "# dim=0 is default\n",
    "x_stacked = torch.stack([ts_x, ts_x, ts_x], dim=0)\n",
    "x_stacked"
   ]
  },
  {
   "cell_type": "code",
   "execution_count": 65,
   "id": "2eabde4b",
   "metadata": {
    "ExecuteTime": {
     "end_time": "2023-01-15T14:13:31.679306Z",
     "start_time": "2023-01-15T14:13:31.666314Z"
    }
   },
   "outputs": [
    {
     "data": {
      "text/plain": [
       "(tensor([[1, 2, 3]]), torch.Size([1, 3]), tensor([1, 2, 3]), torch.Size([3]))"
      ]
     },
     "execution_count": 65,
     "metadata": {},
     "output_type": "execute_result"
    }
   ],
   "source": [
    "# Remove all dimensions of input of size 1 from a tensor\n",
    "ts_sqz = torch.tensor([[1, 2, 3]])\n",
    "ts_sqzd = ts_sqz.squeeze()\n",
    "ts_sqz, ts_sqz.shape, ts_sqzd, ts_sqzd.shape"
   ]
  },
  {
   "cell_type": "code",
   "execution_count": 66,
   "id": "1fb16b67",
   "metadata": {
    "ExecuteTime": {
     "end_time": "2023-01-15T14:13:31.695299Z",
     "start_time": "2023-01-15T14:13:31.682304Z"
    }
   },
   "outputs": [
    {
     "data": {
      "text/plain": [
       "(tensor([[1, 2, 3]]), torch.Size([1, 3]))"
      ]
     },
     "execution_count": 66,
     "metadata": {},
     "output_type": "execute_result"
    }
   ],
   "source": [
    "# Add a single dimension to a tensor at a specific dimension\n",
    "ts_sqz = ts_sqzd.unsqueeze(dim=0)\n",
    "ts_sqz, ts_sqz.shape"
   ]
  },
  {
   "cell_type": "code",
   "execution_count": 67,
   "id": "1c368782",
   "metadata": {
    "ExecuteTime": {
     "end_time": "2023-01-15T14:13:31.711290Z",
     "start_time": "2023-01-15T14:13:31.698296Z"
    }
   },
   "outputs": [
    {
     "data": {
      "text/plain": [
       "(torch.Size([2, 3, 5]), torch.Size([5, 2, 3]))"
      ]
     },
     "execution_count": 67,
     "metadata": {},
     "output_type": "execute_result"
    }
   ],
   "source": [
    "# Rearranging the dimensions of a tensor in a specified order\n",
    "# Permute orders the dimensions based on their indices\n",
    "# Index 0 = 2, index 1 = 3, index 2 = 5, thus a permuted order of 2,0,1 = [5, 2, 3]\n",
    "# Permute also returns a view\n",
    "ts_perm = torch.randn(2, 3, 5)\n",
    "ts_perm.size(), torch.permute(ts_perm, (2, 0, 1)).size()"
   ]
  },
  {
   "cell_type": "code",
   "execution_count": 68,
   "id": "6806d109",
   "metadata": {
    "ExecuteTime": {
     "end_time": "2023-01-15T14:13:31.742269Z",
     "start_time": "2023-01-15T14:13:31.715299Z"
    },
    "scrolled": false
   },
   "outputs": [
    {
     "data": {
      "text/plain": [
       "(tensor([[[ 0.0000,  0.7601, -0.7658, -0.3008,  0.1359],\n",
       "          [ 0.4907, -0.0621,  0.3325, -0.5783, -1.3454],\n",
       "          [-2.2861, -0.0870, -1.2042,  0.7755, -0.4459]],\n",
       " \n",
       "         [[ 0.2296, -0.0950,  0.0355, -0.2550, -1.1073],\n",
       "          [-1.1641,  0.5569, -0.1903,  0.7410,  0.1902],\n",
       "          [ 0.4659,  0.7517,  0.5118, -1.7440, -0.1842]]]),\n",
       " tensor([[[ 0.0000,  0.4907, -2.2861],\n",
       "          [ 0.2296, -1.1641,  0.4659]],\n",
       " \n",
       "         [[ 0.7601, -0.0621, -0.0870],\n",
       "          [-0.0950,  0.5569,  0.7517]],\n",
       " \n",
       "         [[-0.7658,  0.3325, -1.2042],\n",
       "          [ 0.0355, -0.1903,  0.5118]],\n",
       " \n",
       "         [[-0.3008, -0.5783,  0.7755],\n",
       "          [-0.2550,  0.7410, -1.7440]],\n",
       " \n",
       "         [[ 0.1359, -1.3454, -0.4459],\n",
       "          [-1.1073,  0.1902, -0.1842]]]))"
      ]
     },
     "execution_count": 68,
     "metadata": {},
     "output_type": "execute_result"
    }
   ],
   "source": [
    "ts_perm[0, 0, 0] = 0.\n",
    "ts_perm, torch.permute(ts_perm, (2, 0, 1))"
   ]
  },
  {
   "cell_type": "markdown",
   "id": "565af5bc",
   "metadata": {},
   "source": [
    "# Indexing <a name=\"indexing\" />"
   ]
  },
  {
   "cell_type": "code",
   "execution_count": 69,
   "id": "973566d9",
   "metadata": {
    "ExecuteTime": {
     "end_time": "2023-01-15T14:13:31.758262Z",
     "start_time": "2023-01-15T14:13:31.745270Z"
    }
   },
   "outputs": [
    {
     "data": {
      "text/plain": [
       "(tensor([[[ 1,  2,  3,  4],\n",
       "          [ 5,  6,  7,  8],\n",
       "          [ 9, 10, 11, 12]]]),\n",
       " torch.Size([1, 3, 4]))"
      ]
     },
     "execution_count": 69,
     "metadata": {},
     "output_type": "execute_result"
    }
   ],
   "source": [
    "# Indexing is similar to indexing in Python\n",
    "# Indices are 0-indexed\n",
    "ts_index = torch.arange(1, 13).reshape(1, 3, 4)\n",
    "ts_index, ts_index.shape"
   ]
  },
  {
   "cell_type": "code",
   "execution_count": 70,
   "id": "0b62879c",
   "metadata": {
    "ExecuteTime": {
     "end_time": "2023-01-15T14:13:31.773254Z",
     "start_time": "2023-01-15T14:13:31.761259Z"
    }
   },
   "outputs": [
    {
     "data": {
      "text/plain": [
       "tensor([[ 1,  2,  3,  4],\n",
       "        [ 5,  6,  7,  8],\n",
       "        [ 9, 10, 11, 12]])"
      ]
     },
     "execution_count": 70,
     "metadata": {},
     "output_type": "execute_result"
    }
   ],
   "source": [
    "# Index of dimension 0\n",
    "ts_index[0]"
   ]
  },
  {
   "cell_type": "code",
   "execution_count": 71,
   "id": "8116e934",
   "metadata": {
    "ExecuteTime": {
     "end_time": "2023-01-15T14:13:31.789245Z",
     "start_time": "2023-01-15T14:13:31.777250Z"
    }
   },
   "outputs": [
    {
     "data": {
      "text/plain": [
       "(tensor([1, 2, 3, 4]), tensor([5, 6, 7, 8]))"
      ]
     },
     "execution_count": 71,
     "metadata": {},
     "output_type": "execute_result"
    }
   ],
   "source": [
    "# Index of dimension 1\n",
    "ts_index[0, 0], ts_index[0][1]"
   ]
  },
  {
   "cell_type": "code",
   "execution_count": 72,
   "id": "797188c7",
   "metadata": {
    "ExecuteTime": {
     "end_time": "2023-01-15T14:13:31.804236Z",
     "start_time": "2023-01-15T14:13:31.793241Z"
    }
   },
   "outputs": [
    {
     "data": {
      "text/plain": [
       "tensor(12)"
      ]
     },
     "execution_count": 72,
     "metadata": {},
     "output_type": "execute_result"
    }
   ],
   "source": [
    "# Index of dimension 2, selecting final element\n",
    "ts_index[0,2,3]"
   ]
  },
  {
   "cell_type": "code",
   "execution_count": 73,
   "id": "3d336ce0",
   "metadata": {
    "ExecuteTime": {
     "end_time": "2023-01-15T14:13:31.820226Z",
     "start_time": "2023-01-15T14:13:31.808234Z"
    }
   },
   "outputs": [
    {
     "data": {
      "text/plain": [
       "tensor([[[ 2,  3],\n",
       "         [ 6,  7],\n",
       "         [10, 11]]])"
      ]
     },
     "execution_count": 73,
     "metadata": {},
     "output_type": "execute_result"
    }
   ],
   "source": [
    "# Select all of a certain dimension and certain ranges\n",
    "ts_index[:,:,1:3]"
   ]
  },
  {
   "cell_type": "markdown",
   "id": "3fc55380",
   "metadata": {},
   "source": [
    "NumPy is a popular scientific Python numerical computing library. Because of this, PyTorch has functionality to interact with it. It's possible for data to first exist in NumPy, requiring a conversion to a PyTorch tensor. The reverse operation is possible as well."
   ]
  },
  {
   "cell_type": "code",
   "execution_count": 74,
   "id": "4448221b",
   "metadata": {
    "ExecuteTime": {
     "end_time": "2023-01-15T14:13:31.836217Z",
     "start_time": "2023-01-15T14:13:31.823224Z"
    }
   },
   "outputs": [
    {
     "data": {
      "text/plain": [
       "(array([1., 2., 3., 4., 5., 6., 7.]),\n",
       " tensor([1., 2., 3., 4., 5., 6., 7.], dtype=torch.float64))"
      ]
     },
     "execution_count": 74,
     "metadata": {},
     "output_type": "execute_result"
    }
   ],
   "source": [
    "# NumPy array conversion to PyTorch tensor\n",
    "np_arr = np.arange(1., 8.)\n",
    "ts_arr = torch.from_numpy(np_arr)\n",
    "np_arr, ts_arr"
   ]
  },
  {
   "cell_type": "code",
   "execution_count": 75,
   "id": "630e7177",
   "metadata": {
    "ExecuteTime": {
     "end_time": "2023-01-15T14:13:31.852209Z",
     "start_time": "2023-01-15T14:13:31.839215Z"
    }
   },
   "outputs": [
    {
     "data": {
      "text/plain": [
       "(dtype('float64'), torch.float64)"
      ]
     },
     "execution_count": 75,
     "metadata": {},
     "output_type": "execute_result"
    }
   ],
   "source": [
    "# The default NumPy data type is float64, which turns the datatype of the resulting tensor into float64 as well\n",
    "np_arr.dtype, ts_arr.dtype"
   ]
  },
  {
   "cell_type": "code",
   "execution_count": 76,
   "id": "c54fcd23",
   "metadata": {
    "ExecuteTime": {
     "end_time": "2023-01-15T14:13:31.867199Z",
     "start_time": "2023-01-15T14:13:31.855207Z"
    }
   },
   "outputs": [
    {
     "data": {
      "text/plain": [
       "torch.float32"
      ]
     },
     "execution_count": 76,
     "metadata": {},
     "output_type": "execute_result"
    }
   ],
   "source": [
    "# Said datatype can be converted\n",
    "ts_arr.type(torch.float32).dtype"
   ]
  },
  {
   "cell_type": "code",
   "execution_count": 77,
   "id": "93389040",
   "metadata": {
    "ExecuteTime": {
     "end_time": "2023-01-15T14:13:31.883189Z",
     "start_time": "2023-01-15T14:13:31.871197Z"
    }
   },
   "outputs": [
    {
     "data": {
      "text/plain": [
       "(array([2., 3., 4., 5., 6., 7., 8.]),\n",
       " tensor([1., 2., 3., 4., 5., 6., 7.], dtype=torch.float64))"
      ]
     },
     "execution_count": 77,
     "metadata": {},
     "output_type": "execute_result"
    }
   ],
   "source": [
    "# Changing the values of the NumPy array in this way does not affect the tensor\n",
    "# Copy assignment like this breaks the view and shared memory between the NumPy array and the tensor\n",
    "np_arr = np_arr + 1\n",
    "np_arr, ts_arr"
   ]
  },
  {
   "cell_type": "code",
   "execution_count": 78,
   "id": "a34e4f9b",
   "metadata": {
    "ExecuteTime": {
     "end_time": "2023-01-15T14:13:31.899180Z",
     "start_time": "2023-01-15T14:13:31.886196Z"
    }
   },
   "outputs": [
    {
     "data": {
      "text/plain": [
       "(array([2., 3., 4., 5., 6., 7., 8.]),\n",
       " tensor([2., 3., 4., 5., 6., 7., 8.], dtype=torch.float64))"
      ]
     },
     "execution_count": 78,
     "metadata": {},
     "output_type": "execute_result"
    }
   ],
   "source": [
    "# Using inadd assignment retains the view and shared memory between the NumPy array and the tensor\n",
    "np_arr = np.arange(1., 8.)\n",
    "ts_arr = torch.from_numpy(np_arr)\n",
    "np_arr += 1\n",
    "np_arr, ts_arr"
   ]
  },
  {
   "cell_type": "code",
   "execution_count": 79,
   "id": "938626ca",
   "metadata": {
    "ExecuteTime": {
     "end_time": "2023-01-15T14:13:31.915171Z",
     "start_time": "2023-01-15T14:13:31.901179Z"
    }
   },
   "outputs": [
    {
     "data": {
      "text/plain": [
       "(tensor([1., 1., 1., 1., 1., 1., 1.]),\n",
       " array([1., 1., 1., 1., 1., 1., 1.], dtype=float32))"
      ]
     },
     "execution_count": 79,
     "metadata": {},
     "output_type": "execute_result"
    }
   ],
   "source": [
    "# Converting a tensor to a NumPy array\n",
    "ts_arr = torch.ones(7)\n",
    "np_arr = ts_arr.numpy()\n",
    "ts_arr, np_arr"
   ]
  },
  {
   "cell_type": "markdown",
   "id": "731949f1",
   "metadata": {},
   "source": [
    "# Reproducability <a name=\"reproduce\" />"
   ]
  },
  {
   "cell_type": "markdown",
   "id": "e4210fab",
   "metadata": {},
   "source": [
    "Neural networks learn by working with random numbers and continuously updating said numbers to better represent the data, according to the network's findings. It's possible to reduce this randomness by introducing the concept of a seed. Any random number generating function isn't truly random and returns the exact same number sequence when the conditions are the exact same. To ensure the number sequence changes (and thus becomes random from a user's perspective), another component is needed to \"seed\" the random number generator. The time of day is commonly used example as it changes every second."
   ]
  },
  {
   "cell_type": "code",
   "execution_count": 80,
   "id": "74bcd1b8",
   "metadata": {
    "ExecuteTime": {
     "end_time": "2023-01-15T14:13:31.931163Z",
     "start_time": "2023-01-15T14:13:31.918170Z"
    }
   },
   "outputs": [
    {
     "data": {
      "text/plain": [
       "(tensor([[0.8919, 0.2108, 0.4254, 0.5120],\n",
       "         [0.8458, 0.8510, 0.8972, 0.8534],\n",
       "         [0.3139, 0.2183, 0.5733, 0.4214]]),\n",
       " tensor([[0.9355, 0.7816, 0.1570, 0.6089],\n",
       "         [0.1528, 0.6789, 0.7044, 0.9028],\n",
       "         [0.9412, 0.4875, 0.8442, 0.1539]]))"
      ]
     },
     "execution_count": 80,
     "metadata": {},
     "output_type": "execute_result"
    }
   ],
   "source": [
    "ts_A = torch.rand(3, 4)\n",
    "ts_B = torch.rand(3, 4)\n",
    "ts_A, ts_B"
   ]
  },
  {
   "cell_type": "code",
   "execution_count": 100,
   "id": "1d0630d2",
   "metadata": {
    "ExecuteTime": {
     "end_time": "2023-01-15T16:07:36.809152Z",
     "start_time": "2023-01-15T16:07:36.793162Z"
    }
   },
   "outputs": [
    {
     "data": {
      "text/plain": [
       "(tensor([[0.8823, 0.9150, 0.3829]]),\n",
       " tensor([[0.9593, 0.3904, 0.6009]]),\n",
       " tensor([[0.8823, 0.9150, 0.3829]]))"
      ]
     },
     "execution_count": 100,
     "metadata": {},
     "output_type": "execute_result"
    }
   ],
   "source": [
    "# Manually setting the seed\n",
    "# Resetting the seed restarts the number sequence and allows for the same outputs to be given again\n",
    "seed = 42\n",
    "torch.manual_seed(seed)\n",
    "ts_C = torch.rand(1, 3) # The same\n",
    "ts_D = torch.rand(1, 3) # Different\n",
    "torch.manual_seed(seed)\n",
    "ts_E = torch.rand(1, 3) # The same\n",
    "ts_C, ts_D, ts_E"
   ]
  },
  {
   "cell_type": "markdown",
   "id": "5bbfbb02",
   "metadata": {},
   "source": [
    "- https://pytorch.org/docs/stable/notes/randomness\n",
    "- https://en.wikipedia.org/wiki/Random_seed"
   ]
  },
  {
   "cell_type": "markdown",
   "id": "bea930a6",
   "metadata": {},
   "source": [
    "## GPU Usage <a name=\"gpus\" />"
   ]
  },
  {
   "cell_type": "markdown",
   "id": "2d69bf75",
   "metadata": {},
   "source": [
    "Utilizing a GPU will allow for faster computing thanks to a combination of CUDA + NVIDIA + PyTorch working behind the scenes. There are various ways to access a GPU, which are:\n",
    "- Use a GPU in Google Colab, which offers both free and paid options\n",
    "- Use your own GPU, which requires some setup and investment\n",
    "- Use a Cloud Computing service such as AWS or Azure\n",
    "\n",
    "Refer to https://pytorch.org/get-started/locally/ for instructions on using your own GPU"
   ]
  },
  {
   "cell_type": "code",
   "execution_count": 82,
   "id": "123832b5",
   "metadata": {
    "ExecuteTime": {
     "end_time": "2023-01-15T14:13:31.994127Z",
     "start_time": "2023-01-15T14:13:31.973139Z"
    }
   },
   "outputs": [
    {
     "data": {
      "text/plain": [
       "True"
      ]
     },
     "execution_count": 82,
     "metadata": {},
     "output_type": "execute_result"
    }
   ],
   "source": [
    "# Check if CUDA is installed\n",
    "torch.cuda.is_available()"
   ]
  },
  {
   "cell_type": "markdown",
   "id": "fc6d6b2d",
   "metadata": {},
   "source": [
    "As PyTorch is capable to be run on both a CPU and GPU, it's best practice to create device-agnostic code. See https://pytorch.org/docs/stable/notes/cuda#best-practices for more details."
   ]
  },
  {
   "cell_type": "code",
   "execution_count": 83,
   "id": "25f24d8b",
   "metadata": {
    "ExecuteTime": {
     "end_time": "2023-01-15T14:13:32.010117Z",
     "start_time": "2023-01-15T14:13:31.997125Z"
    }
   },
   "outputs": [
    {
     "data": {
      "text/plain": [
       "'cuda'"
      ]
     },
     "execution_count": 83,
     "metadata": {},
     "output_type": "execute_result"
    }
   ],
   "source": [
    "# Setting up device agnostic code\n",
    "device = \"cuda\" if torch.cuda.is_available() else \"cpu\"\n",
    "device"
   ]
  },
  {
   "cell_type": "code",
   "execution_count": 84,
   "id": "3ce057c6",
   "metadata": {
    "ExecuteTime": {
     "end_time": "2023-01-15T14:13:32.025108Z",
     "start_time": "2023-01-15T14:13:32.014115Z"
    }
   },
   "outputs": [
    {
     "data": {
      "text/plain": [
       "1"
      ]
     },
     "execution_count": 84,
     "metadata": {},
     "output_type": "execute_result"
    }
   ],
   "source": [
    "torch.cuda.device_count()"
   ]
  },
  {
   "cell_type": "code",
   "execution_count": 88,
   "id": "393f9c4e",
   "metadata": {
    "ExecuteTime": {
     "end_time": "2023-01-15T14:19:07.028141Z",
     "start_time": "2023-01-15T14:19:07.017147Z"
    }
   },
   "outputs": [
    {
     "data": {
      "text/plain": [
       "(tensor([1, 2, 3]), device(type='cpu'))"
      ]
     },
     "execution_count": 88,
     "metadata": {},
     "output_type": "execute_result"
    }
   ],
   "source": [
    "# Creating a tensor defaults to using the CPU\n",
    "ts_cpu = torch.tensor([1, 2, 3])\n",
    "ts_cpu, ts_cpu.device"
   ]
  },
  {
   "cell_type": "code",
   "execution_count": 89,
   "id": "380b7733",
   "metadata": {
    "ExecuteTime": {
     "end_time": "2023-01-15T14:19:07.564127Z",
     "start_time": "2023-01-15T14:19:07.412168Z"
    }
   },
   "outputs": [
    {
     "name": "stderr",
     "output_type": "stream",
     "text": [
      "C:\\Users\\R. van Meel\\AppData\\Local\\Programs\\Python\\Python39\\lib\\site-packages\\torch\\cuda\\__init__.py:132: UserWarning: \n",
      "    Found GPU0 GeForce GTX 780 Ti which is of cuda capability 3.5.\n",
      "    PyTorch no longer supports this GPU because it is too old.\n",
      "    The minimum cuda capability supported by this library is 3.7.\n",
      "    \n",
      "  warnings.warn(old_gpu_warn % (d, name, major, minor, min_arch // 10, min_arch % 10))\n"
     ]
    },
    {
     "data": {
      "text/plain": [
       "(tensor([1, 2, 3], device='cuda:0'), device(type='cuda', index=0))"
      ]
     },
     "execution_count": 89,
     "metadata": {},
     "output_type": "execute_result"
    }
   ],
   "source": [
    "# My GPU is old :)\n",
    "ts_gpu = ts_cpu.to(device)\n",
    "ts_gpu, ts_gpu.device"
   ]
  },
  {
   "cell_type": "markdown",
   "id": "7b152f16",
   "metadata": {},
   "source": [
    "NumPy cannot work with tensors on the GPU, and can only work with tensors on the GPU. If you want to use NumPy on a GPu tensor, it's thus required that you convert it to a CPU tensor."
   ]
  },
  {
   "cell_type": "markdown",
   "id": "6c92aa2c",
   "metadata": {
    "ExecuteTime": {
     "end_time": "2023-01-15T14:26:53.792182Z",
     "start_time": "2023-01-15T14:26:53.715165Z"
    }
   },
   "source": [
    "<img src=\"images/00_numpyfail.png\" />"
   ]
  },
  {
   "cell_type": "code",
   "execution_count": 94,
   "id": "acbd6776",
   "metadata": {
    "ExecuteTime": {
     "end_time": "2023-01-15T14:30:10.175128Z",
     "start_time": "2023-01-15T14:30:10.159149Z"
    }
   },
   "outputs": [
    {
     "data": {
      "text/plain": [
       "array([1, 2, 3], dtype=int64)"
      ]
     },
     "execution_count": 94,
     "metadata": {},
     "output_type": "execute_result"
    }
   ],
   "source": [
    "# Conversion of a GPU tensor to a CPU tensor to a NumPy array\n",
    "ts_cpu2 = ts_gpu.cpu().numpy()\n",
    "ts_cpu2"
   ]
  }
 ],
 "metadata": {
  "kernelspec": {
   "display_name": "Python 3 (ipykernel)",
   "language": "python",
   "name": "python3"
  },
  "language_info": {
   "codemirror_mode": {
    "name": "ipython",
    "version": 3
   },
   "file_extension": ".py",
   "mimetype": "text/x-python",
   "name": "python",
   "nbconvert_exporter": "python",
   "pygments_lexer": "ipython3",
   "version": "3.9.13"
  }
 },
 "nbformat": 4,
 "nbformat_minor": 5
}
