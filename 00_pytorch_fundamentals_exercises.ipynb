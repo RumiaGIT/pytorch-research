{
 "cells": [
  {
   "cell_type": "markdown",
   "id": "5012c41e",
   "metadata": {},
   "source": [
    "# 00. PyTorch Fundamentals Exercises"
   ]
  },
  {
   "cell_type": "code",
   "execution_count": 1,
   "id": "e9dc0820",
   "metadata": {
    "ExecuteTime": {
     "end_time": "2023-01-15T16:14:54.070256Z",
     "start_time": "2023-01-15T16:14:52.563118Z"
    }
   },
   "outputs": [],
   "source": [
    "import torch"
   ]
  },
  {
   "cell_type": "markdown",
   "id": "42770bc4",
   "metadata": {},
   "source": [
    "### 1. Documentation Reading"
   ]
  },
  {
   "cell_type": "markdown",
   "id": "0e9d2698",
   "metadata": {},
   "source": [
    "A big part of deep learning (and learning to code in general) is getting familiar with the documentation of a certain framework you're using. We'll be using the PyTorch documentation a lot throughout the rest of this course. So I'd recommend spending 10-minutes reading the following (it's okay if you don't get some things for now, the focus is not yet full understanding, it's awareness):\n",
    "\n",
    "- The documentation on ``torch.Tensor``\n",
    "- The documentation on ``torch.cuda``"
   ]
  },
  {
   "cell_type": "code",
   "execution_count": 2,
   "id": "44198cd9",
   "metadata": {
    "ExecuteTime": {
     "end_time": "2023-01-15T16:14:54.086246Z",
     "start_time": "2023-01-15T16:14:54.075251Z"
    }
   },
   "outputs": [],
   "source": [
    "# No code solution (reading)"
   ]
  },
  {
   "cell_type": "markdown",
   "id": "130feb31",
   "metadata": {},
   "source": [
    "### 2. Create a random tensor with shape (7, 7)"
   ]
  },
  {
   "cell_type": "code",
   "execution_count": 3,
   "id": "8444ba81",
   "metadata": {
    "ExecuteTime": {
     "end_time": "2023-01-15T16:14:54.118227Z",
     "start_time": "2023-01-15T16:14:54.092241Z"
    }
   },
   "outputs": [
    {
     "data": {
      "text/plain": [
       "tensor([[0.9936, 0.7474, 0.9114, 0.6024, 0.2004, 0.2724, 0.8118],\n",
       "        [0.4415, 0.9113, 0.2027, 0.5955, 0.5918, 0.8320, 0.8319],\n",
       "        [0.2516, 0.1632, 0.1338, 0.1523, 0.7776, 0.9201, 0.8481],\n",
       "        [0.1561, 0.0924, 0.4291, 0.4106, 0.0626, 0.4868, 0.6343],\n",
       "        [0.7787, 0.9629, 0.5590, 0.5861, 0.4515, 0.2549, 0.2998],\n",
       "        [0.0243, 0.2419, 0.3486, 0.6190, 0.0724, 0.6017, 0.4077],\n",
       "        [0.3502, 0.6454, 0.5897, 0.6884, 0.2577, 0.9155, 0.6463]])"
      ]
     },
     "execution_count": 3,
     "metadata": {},
     "output_type": "execute_result"
    }
   ],
   "source": [
    "tensor = torch.rand(7, 7)\n",
    "tensor"
   ]
  },
  {
   "cell_type": "markdown",
   "id": "8008fa38",
   "metadata": {},
   "source": [
    "### 3. Perform a matrix multiplication on the tensor from 2 with another random tensor with shape (1, 7) (hint: you may have to transpose the second tensor)"
   ]
  },
  {
   "cell_type": "code",
   "execution_count": 4,
   "id": "e0d557f4",
   "metadata": {
    "ExecuteTime": {
     "end_time": "2023-01-15T16:14:54.134217Z",
     "start_time": "2023-01-15T16:14:54.124224Z"
    }
   },
   "outputs": [
    {
     "data": {
      "text/plain": [
       "tensor([[2.1751],\n",
       "        [2.5022],\n",
       "        [1.8907],\n",
       "        [1.3177],\n",
       "        [1.8880],\n",
       "        [1.4512],\n",
       "        [2.3912]])"
      ]
     },
     "execution_count": 4,
     "metadata": {},
     "output_type": "execute_result"
    }
   ],
   "source": [
    "torch.mm(tensor, torch.rand(1, 7).T)"
   ]
  },
  {
   "cell_type": "markdown",
   "id": "7eccc3a6",
   "metadata": {},
   "source": [
    "### 4. Set the random seed to 0 and do 2 & 3 over again"
   ]
  },
  {
   "cell_type": "code",
   "execution_count": 5,
   "id": "d7fc7bb9",
   "metadata": {
    "ExecuteTime": {
     "end_time": "2023-01-15T16:14:54.150210Z",
     "start_time": "2023-01-15T16:14:54.138215Z"
    }
   },
   "outputs": [
    {
     "data": {
      "text/plain": [
       "tensor([[0.4963, 0.7682, 0.0885, 0.1320, 0.3074, 0.6341, 0.4901],\n",
       "        [0.8964, 0.4556, 0.6323, 0.3489, 0.4017, 0.0223, 0.1689],\n",
       "        [0.2939, 0.5185, 0.6977, 0.8000, 0.1610, 0.2823, 0.6816],\n",
       "        [0.9152, 0.3971, 0.8742, 0.4194, 0.5529, 0.9527, 0.0362],\n",
       "        [0.1852, 0.3734, 0.3051, 0.9320, 0.1759, 0.2698, 0.1507],\n",
       "        [0.0317, 0.2081, 0.9298, 0.7231, 0.7423, 0.5263, 0.2437],\n",
       "        [0.5846, 0.0332, 0.1387, 0.2422, 0.8155, 0.7932, 0.2783]])"
      ]
     },
     "execution_count": 5,
     "metadata": {},
     "output_type": "execute_result"
    }
   ],
   "source": [
    "torch.manual_seed(0)\n",
    "tensor = torch.rand(7, 7)\n",
    "tensor"
   ]
  },
  {
   "cell_type": "code",
   "execution_count": 6,
   "id": "80182f49",
   "metadata": {
    "ExecuteTime": {
     "end_time": "2023-01-15T16:14:54.181190Z",
     "start_time": "2023-01-15T16:14:54.154207Z"
    }
   },
   "outputs": [
    {
     "data": {
      "text/plain": [
       "tensor([[1.5985],\n",
       "        [1.1173],\n",
       "        [1.2741],\n",
       "        [1.6838],\n",
       "        [0.8279],\n",
       "        [1.0347],\n",
       "        [1.2498]])"
      ]
     },
     "execution_count": 6,
     "metadata": {},
     "output_type": "execute_result"
    }
   ],
   "source": [
    "torch.manual_seed(0)\n",
    "torch.mm(tensor, torch.rand(1, 7).T)"
   ]
  },
  {
   "cell_type": "markdown",
   "id": "636d727c",
   "metadata": {},
   "source": [
    "### 5. Speaking of random seeds, we saw how to set it with ``torch.manual_seed()`` but is there a GPU equivalent? (hint: you'll need to look into the documentation for ``torch.cuda`` for this one)"
   ]
  },
  {
   "cell_type": "code",
   "execution_count": 7,
   "id": "5cd31ec4",
   "metadata": {
    "ExecuteTime": {
     "end_time": "2023-01-15T16:14:54.197183Z",
     "start_time": "2023-01-15T16:14:54.184188Z"
    }
   },
   "outputs": [],
   "source": [
    "torch.cuda.manual_seed(0)"
   ]
  },
  {
   "cell_type": "markdown",
   "id": "091811c1",
   "metadata": {},
   "source": [
    "### 6. Create two random tensors of shape ``(2, 3)`` and send them both to the GPU (you'll need access to a GPU for this). ``Set torch.manual_seed(1234)`` when creating the tensors (this doesn't have to be the GPU random seed)"
   ]
  },
  {
   "cell_type": "code",
   "execution_count": 8,
   "id": "88243e1e",
   "metadata": {
    "ExecuteTime": {
     "end_time": "2023-01-15T16:14:54.213173Z",
     "start_time": "2023-01-15T16:14:54.200180Z"
    }
   },
   "outputs": [
    {
     "data": {
      "text/plain": [
       "(tensor([[0.0290, 0.4019, 0.2598],\n",
       "         [0.3666, 0.0583, 0.7006]]),\n",
       " tensor([[0.0518, 0.4681, 0.6738],\n",
       "         [0.3315, 0.7837, 0.5631]]))"
      ]
     },
     "execution_count": 8,
     "metadata": {},
     "output_type": "execute_result"
    }
   ],
   "source": [
    "torch.manual_seed(1234)\n",
    "t1 = torch.rand(2, 3)\n",
    "t2 = torch.rand(2, 3)\n",
    "t1, t2"
   ]
  },
  {
   "cell_type": "code",
   "execution_count": null,
   "id": "574296c0",
   "metadata": {
    "ExecuteTime": {
     "end_time": "2023-01-15T16:14:54.338099Z",
     "start_time": "2023-01-15T16:14:54.216171Z"
    }
   },
   "outputs": [],
   "source": [
    "# Code is functional, my GPU is just old\n",
    "t1 = t1.to(\"cuda\")\n",
    "t2 = t2.to(\"cuda\")"
   ]
  },
  {
   "cell_type": "markdown",
   "id": "70010c67",
   "metadata": {},
   "source": [
    "### 7. Perform a matrix multiplication on the tensors you created in 6 (again, you may have to adjust the shapes of one of the tensors)"
   ]
  },
  {
   "cell_type": "code",
   "execution_count": 10,
   "id": "798b7a60",
   "metadata": {
    "ExecuteTime": {
     "end_time": "2023-01-15T16:14:54.935100Z",
     "start_time": "2023-01-15T16:14:54.346095Z"
    }
   },
   "outputs": [
    {
     "data": {
      "text/plain": [
       "tensor([[0., 0.],\n",
       "        [1., 1.]], device='cuda:0')"
      ]
     },
     "execution_count": 10,
     "metadata": {},
     "output_type": "execute_result"
    }
   ],
   "source": [
    "tensor = torch.mm(t1, t2.T)\n",
    "tensor"
   ]
  },
  {
   "cell_type": "markdown",
   "id": "9b91bac1",
   "metadata": {},
   "source": [
    "### 8. Find the maximum and minimum values of the output of 7"
   ]
  },
  {
   "cell_type": "code",
   "execution_count": 11,
   "id": "1f73bb79",
   "metadata": {
    "ExecuteTime": {
     "end_time": "2023-01-15T16:14:54.950083Z",
     "start_time": "2023-01-15T16:14:54.939090Z"
    }
   },
   "outputs": [
    {
     "data": {
      "text/plain": [
       "(tensor(0., device='cuda:0'), tensor(0., device='cuda:0'))"
      ]
     },
     "execution_count": 11,
     "metadata": {},
     "output_type": "execute_result"
    }
   ],
   "source": [
    "torch.max(tensor), torch.min(tensor)"
   ]
  },
  {
   "cell_type": "markdown",
   "id": "d329d478",
   "metadata": {},
   "source": [
    "### 9. Find the maximum and minimum index values of the output of 7"
   ]
  },
  {
   "cell_type": "code",
   "execution_count": 12,
   "id": "4b50a753",
   "metadata": {
    "ExecuteTime": {
     "end_time": "2023-01-15T16:14:54.966075Z",
     "start_time": "2023-01-15T16:14:54.954080Z"
    }
   },
   "outputs": [
    {
     "data": {
      "text/plain": [
       "(tensor(0, device='cuda:0'), tensor(0, device='cuda:0'))"
      ]
     },
     "execution_count": 12,
     "metadata": {},
     "output_type": "execute_result"
    }
   ],
   "source": [
    "torch.argmax(tensor), torch.argmin(tensor)"
   ]
  },
  {
   "cell_type": "markdown",
   "id": "481e7b31",
   "metadata": {},
   "source": [
    "### 10. Make a random tensor with shape ``(1, 1, 1, 10)`` and then create a new tensor with all the ``1`` dimensions removed to be left with a tensor of shape ``(10)``. Set the seed to ``7`` when you create it and print out the first tensor and it's shape as well as the second tensor and it's shape"
   ]
  },
  {
   "cell_type": "code",
   "execution_count": 13,
   "id": "27687d57",
   "metadata": {
    "ExecuteTime": {
     "end_time": "2023-01-15T16:14:54.982065Z",
     "start_time": "2023-01-15T16:14:54.971070Z"
    }
   },
   "outputs": [
    {
     "data": {
      "text/plain": [
       "(tensor([[[[0.5349, 0.1988, 0.6592, 0.6569, 0.2328, 0.4251, 0.2071, 0.6297,\n",
       "            0.3653, 0.8513]]]]),\n",
       " tensor([0.5349, 0.1988, 0.6592, 0.6569, 0.2328, 0.4251, 0.2071, 0.6297, 0.3653,\n",
       "         0.8513]))"
      ]
     },
     "execution_count": 13,
     "metadata": {},
     "output_type": "execute_result"
    }
   ],
   "source": [
    "torch.manual_seed(7)\n",
    "t1 = torch.rand(1, 1, 1, 10)\n",
    "t2 = t1.squeeze()\n",
    "t1, t2"
   ]
  }
 ],
 "metadata": {
  "kernelspec": {
   "display_name": "Python 3 (ipykernel)",
   "language": "python",
   "name": "python3"
  },
  "language_info": {
   "codemirror_mode": {
    "name": "ipython",
    "version": 3
   },
   "file_extension": ".py",
   "mimetype": "text/x-python",
   "name": "python",
   "nbconvert_exporter": "python",
   "pygments_lexer": "ipython3",
   "version": "3.9.13"
  }
 },
 "nbformat": 4,
 "nbformat_minor": 5
}
