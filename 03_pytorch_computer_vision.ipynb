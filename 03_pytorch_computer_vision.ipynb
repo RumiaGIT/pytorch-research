{
 "cells": [
  {
   "cell_type": "markdown",
   "id": "d83acca6",
   "metadata": {},
   "source": [
    "# 02. PyTorch Computer Vision"
   ]
  },
  {
   "cell_type": "markdown",
   "id": "dbd779fa",
   "metadata": {},
   "source": [
    "https://www.learnpytorch.io/03_pytorch_computer_vision/"
   ]
  },
  {
   "cell_type": "markdown",
   "id": "2de6df49",
   "metadata": {},
   "source": [
    "## Table of Contents"
   ]
  },
  {
   "cell_type": "markdown",
   "id": "43974f9d",
   "metadata": {},
   "source": [
    "- [All Links in Document](#links)\n",
    "- [PyTorch Computer Vision](#compvis)\n",
    "- [Loading and Preparing Data](#loadprep)\n",
    "- [Building a Model](#buildmodel)\n",
    "- [Training a Model](#trainmodel)\n",
    "- [Convolutional Neural Networks](#convnet)\n",
    "- [Evaluation](#eval)\n",
    "- [Saving and Loading](#saveload)"
   ]
  },
  {
   "cell_type": "markdown",
   "id": "a74ae21c",
   "metadata": {},
   "source": [
    "## All Links in Document <a name=\"links\"></a>"
   ]
  },
  {
   "cell_type": "markdown",
   "id": "46f881e7",
   "metadata": {},
   "source": [
    "- https://towardsdatascience.com/a-comprehensive-guide-to-convolutional-neural-networks-the-eli5-way-3bd2b1164a53\n",
    "- https://github.com/zalandoresearch/fashion-mnist\n",
    "- https://pytorch.org/vision/stable/datasets\n",
    "- https://pytorch.org/vision/stable/generated/torchvision.datasets.FashionMNIST\n",
    "- https://pytorch.org/docs/stable/generated/torch.randint\n",
    "- https://pytorch.org/docs/stable/data\n",
    "- https://pytorch.org/docs/stable/generated/torch.nn.Flatten\n",
    "- https://poloclub.github.io/cnn-explainer\n",
    "- https://pytorch.org/docs/stable/generated/torch.nn.Conv2d\n",
    "- https://pytorch.org/docs/stable/generated/torch.nn.MaxPool2d\n",
    "- https://torchmetrics.readthedocs.io/en/stable/classification/confusion_matrix.html\n",
    "- https://rasbt.github.io/mlxtend/user_guide/plotting/plot_confusion_matrix\n",
    "- https://pytorch.org/tutorials/beginner/saving_loading_models\n",
    "- https://pytorch.org/docs/stable/generated/torch.isclose"
   ]
  },
  {
   "cell_type": "markdown",
   "id": "733ca3d1",
   "metadata": {},
   "source": [
    "## PyTorch Computer Vision <a name=\"compvis\" />"
   ]
  },
  {
   "cell_type": "code",
   "execution_count": 1,
   "id": "b566d360",
   "metadata": {
    "ExecuteTime": {
     "end_time": "2023-02-23T14:06:29.355772Z",
     "start_time": "2023-02-23T14:06:25.671228Z"
    }
   },
   "outputs": [],
   "source": [
    "# Imports\n",
    "import torch\n",
    "from torch import nn\n",
    "import torchvision\n",
    "from torchvision import datasets, transforms\n",
    "from torch.utils.data import DataLoader\n",
    "from torchmetrics import Accuracy, ConfusionMatrix\n",
    "import numpy as np\n",
    "import matplotlib.pyplot as plt\n",
    "import pandas as pd\n",
    "import random\n",
    "import mlxtend\n",
    "from mlxtend.plotting import plot_confusion_matrix\n",
    "\n",
    "# Helper functions from helper_functions.py\n",
    "from helper_functions import plot_predictions, plot_decision_boundary"
   ]
  },
  {
   "cell_type": "code",
   "execution_count": 2,
   "id": "f0a044e5",
   "metadata": {
    "ExecuteTime": {
     "end_time": "2023-02-23T14:06:29.371763Z",
     "start_time": "2023-02-23T14:06:29.359768Z"
    }
   },
   "outputs": [
    {
     "name": "stdout",
     "output_type": "stream",
     "text": [
      "1.13.1+cu117\n",
      "0.14.1+cu117\n"
     ]
    }
   ],
   "source": [
    "print(torch.__version__)\n",
    "print(torchvision.__version__)"
   ]
  },
  {
   "cell_type": "markdown",
   "id": "561285be",
   "metadata": {},
   "source": [
    "What exactly is Computer Vision? The term computer itself relates to how a neural network is going to \"look\" at an image. From there, it's possible to come up with all kinds of tasks, some of which have been handled in the previous chapters. It's possible to perform binary classification and multiclass classification. Where the examples in the previous chapters have focused on finding boundaries and classifying clusters of data points on a coordinate frame, computer vision will be able to classify objects or things in images instead. Object detection is also possible, where a model is focused on finding a certain thing in an image. A new topic is segmentation, which is is used to \"focus\" on certain things in an image, such as a specific person out of a group of people. Another obvious example are Tesla's self-driving cars, which require computer vision to parse the surrounding world in order to make the right decisions."
   ]
  },
  {
   "cell_type": "markdown",
   "id": "c430748c",
   "metadata": {},
   "source": [
    "<img src=\"images/03_computer_vision.png\" />"
   ]
  },
  {
   "cell_type": "markdown",
   "id": "9e97e3f4",
   "metadata": {},
   "source": [
    "The typical input of such a computer vision program are of course images. These are usually split up into various colour channels, typically Red, Green, and Blue (RGB). Through numerical encoding are these values transformed into tensors containing normalized pixel values. After the model performs its tasks, output is given in numerical values again, which correlate to previously specified classes. Output may need a sigmoid or softmax function to make the results legible."
   ]
  },
  {
   "cell_type": "markdown",
   "id": "8c7898e2",
   "metadata": {},
   "source": [
    "<img src=\"images/03_computer_vision_input_output.png\" />"
   ]
  },
  {
   "cell_type": "markdown",
   "id": "d74a75d7",
   "metadata": {},
   "source": [
    "Note that that workflow is extremely similar to other examples handled in the previous chapters thus far."
   ]
  },
  {
   "cell_type": "markdown",
   "id": "f072d045",
   "metadata": {},
   "source": [
    "Input for this kind of model contains various important bits of information. These are:\n",
    "\n",
    "- Batch size / Number of images (N)\n",
    "- Height (H)\n",
    "- Width (W)\n",
    "- Colour channels (C)\n",
    "\n",
    "The order in which these are supplied depends on the library and language that is being used. There are two different orders, known as **NHWC** (colour channel last) and **NCHW** (colour channel first). The position of the batch size (N) remains unchanged. Within the remaining section of the abbreviation, the colour channels (C) then appear in front of the Height and Width (HW) or after it."
   ]
  },
  {
   "cell_type": "markdown",
   "id": "080508d5",
   "metadata": {},
   "source": [
    "<img src=\"images/03_input_order.png\" />"
   ]
  },
  {
   "cell_type": "markdown",
   "id": "fa474a67",
   "metadata": {},
   "source": [
    "Note: PyTorch defaults to using colour channels first (**NCHW**) for its memory format!"
   ]
  },
  {
   "cell_type": "markdown",
   "id": "8d47c157",
   "metadata": {},
   "source": [
    "Computer vision has close ties with Convolutional Neural Networks (CNN) due to them being very good at recognizing patterns in images. But what exactly is a CNN? Simply put, a CNN is a Deep Learning algorithm that can take in an input image, assign importance (learnable weights and biases) to various aspects/objects in the image, and be able to differentiate one from the other."
   ]
  },
  {
   "cell_type": "markdown",
   "id": "7de7e101",
   "metadata": {},
   "source": [
    "https://towardsdatascience.com/a-comprehensive-guide-to-convolutional-neural-networks-the-eli5-way-3bd2b1164a53"
   ]
  },
  {
   "cell_type": "markdown",
   "id": "70eac467",
   "metadata": {},
   "source": [
    "<img src=\"images/03_cnn_architecture.png\" />"
   ]
  },
  {
   "cell_type": "markdown",
   "id": "9f6a2a78",
   "metadata": {},
   "source": [
    "A typical (simple but not set in stone) architecture of a CNN can be seen above. Many components are familiar already, such as the `nn.ReLU()`, `torch.sigmoid()`, and `torch.softmax()` functions. There will naturally be some new architectural components to explore as well."
   ]
  },
  {
   "cell_type": "markdown",
   "id": "a8058260",
   "metadata": {},
   "source": [
    "## Loading and Preparing Data  <a name=\"loadprep\"></a>"
   ]
  },
  {
   "cell_type": "markdown",
   "id": "3ef05587",
   "metadata": {},
   "source": [
    "Aside from the basic PyTorch library, there is a specific extra library to use for computer vision problems. Aptly named, this library is called `torchvision`. Within are various modules, data types, and functions that will come in handy for computer vision purposes. Some of these are:\n",
    "\n",
    "- `torchvision.datasets`: Get existing datasets and data loading functions for computer vision\n",
    "- `torchvision.models`: Get pretrained computer vision models that you can leverage for your own problems\n",
    "- `torchvision.transforms`: Contains functions for manipulating your vision data (images) to be suitable for use with an ML model\n",
    "- `torch.utils.data.Dataset`: Base dataset class for PyTorch\n",
    "- `torch.utils.data.DataLoader`: Creates a Python iterable over a dataset\n",
    "\n",
    "As `torchvision.datasets` suggests, there are many buily-in datasets to use for practice and experimentation. One such dataset is FashionMNIST: a play on the original MNIST dataset containing greyscale, hand-drawn images of the numbers 0 to 9, but with articles of clothing instead. This dataset can be found on the GitHub repository of the creator (https://github.com/zalandoresearch/fashion-mnist), but it's also available through `torchvision.datasets` by default. A comprehensive list of all available datasets can be found here: https://pytorch.org/vision/stable/datasets"
   ]
  },
  {
   "cell_type": "markdown",
   "id": "4c4c2328",
   "metadata": {},
   "source": [
    "Torchvision FashionMNIST docs: https://pytorch.org/vision/stable/generated/torchvision.datasets.FashionMNIST"
   ]
  },
  {
   "cell_type": "code",
   "execution_count": 3,
   "id": "445e04d8",
   "metadata": {
    "ExecuteTime": {
     "end_time": "2023-02-23T14:06:29.449708Z",
     "start_time": "2023-02-23T14:06:29.374761Z"
    },
    "scrolled": true
   },
   "outputs": [],
   "source": [
    "train_data = datasets.FashionMNIST(\n",
    "    root=\"data\",\n",
    "    train=True,\n",
    "    download=True,\n",
    "    transform=torchvision.transforms.ToTensor(),\n",
    "    target_transform=None\n",
    ")\n",
    "\n",
    "test_data = datasets.FashionMNIST(\n",
    "    root=\"data\",\n",
    "    train=False,\n",
    "    download=True,\n",
    "    transform=torchvision.transforms.ToTensor(),\n",
    "    target_transform=None\n",
    ")"
   ]
  },
  {
   "cell_type": "markdown",
   "id": "94cf1692",
   "metadata": {},
   "source": [
    "The various function arguments have the following meanings:\n",
    "\n",
    "- `root`: Defines where to download the data to (if necessary)\n",
    "- `train`: A boolean to determine if training or testing data should be downloaded\n",
    "- `download`: Whether to download the data or not, if the data already exists then it is not downloaded again\n",
    "- `transform`: A function that accepts an image and returns a transformed version, used to transform into tensors\n",
    "- `target_transform`: An optional function/transform that takes in the target and transforms it"
   ]
  },
  {
   "cell_type": "code",
   "execution_count": 4,
   "id": "bfe80ebe",
   "metadata": {
    "ExecuteTime": {
     "end_time": "2023-02-23T14:06:29.480690Z",
     "start_time": "2023-02-23T14:06:29.456704Z"
    }
   },
   "outputs": [
    {
     "data": {
      "text/plain": [
       "(60000, 10000)"
      ]
     },
     "execution_count": 4,
     "metadata": {},
     "output_type": "execute_result"
    }
   ],
   "source": [
    "len(train_data), len(test_data)"
   ]
  },
  {
   "cell_type": "code",
   "execution_count": 5,
   "id": "1c80a734",
   "metadata": {
    "ExecuteTime": {
     "end_time": "2023-02-23T14:06:29.512671Z",
     "start_time": "2023-02-23T14:06:29.485687Z"
    },
    "scrolled": true
   },
   "outputs": [
    {
     "data": {
      "text/plain": [
       "(tensor([[[0.0000, 0.0000, 0.0000, 0.0000, 0.0000, 0.0000, 0.0000, 0.0000,\n",
       "           0.0000, 0.0000, 0.0000, 0.0000, 0.0000, 0.0000, 0.0000, 0.0000,\n",
       "           0.0000, 0.0000, 0.0000, 0.0000, 0.0000, 0.0000, 0.0000, 0.0000,\n",
       "           0.0000, 0.0000, 0.0000, 0.0000],\n",
       "          [0.0000, 0.0000, 0.0000, 0.0000, 0.0000, 0.0000, 0.0000, 0.0000,\n",
       "           0.0000, 0.0000, 0.0000, 0.0000, 0.0000, 0.0000, 0.0000, 0.0000,\n",
       "           0.0000, 0.0000, 0.0000, 0.0000, 0.0000, 0.0000, 0.0000, 0.0000,\n",
       "           0.0000, 0.0000, 0.0000, 0.0000],\n",
       "          [0.0000, 0.0000, 0.0000, 0.0000, 0.0000, 0.0000, 0.0000, 0.0000,\n",
       "           0.0000, 0.0000, 0.0000, 0.0000, 0.0000, 0.0000, 0.0000, 0.0000,\n",
       "           0.0000, 0.0000, 0.0000, 0.0000, 0.0000, 0.0000, 0.0000, 0.0000,\n",
       "           0.0000, 0.0000, 0.0000, 0.0000],\n",
       "          [0.0000, 0.0000, 0.0000, 0.0000, 0.0000, 0.0000, 0.0000, 0.0000,\n",
       "           0.0000, 0.0000, 0.0000, 0.0000, 0.0039, 0.0000, 0.0000, 0.0510,\n",
       "           0.2863, 0.0000, 0.0000, 0.0039, 0.0157, 0.0000, 0.0000, 0.0000,\n",
       "           0.0000, 0.0039, 0.0039, 0.0000],\n",
       "          [0.0000, 0.0000, 0.0000, 0.0000, 0.0000, 0.0000, 0.0000, 0.0000,\n",
       "           0.0000, 0.0000, 0.0000, 0.0000, 0.0118, 0.0000, 0.1412, 0.5333,\n",
       "           0.4980, 0.2431, 0.2118, 0.0000, 0.0000, 0.0000, 0.0039, 0.0118,\n",
       "           0.0157, 0.0000, 0.0000, 0.0118],\n",
       "          [0.0000, 0.0000, 0.0000, 0.0000, 0.0000, 0.0000, 0.0000, 0.0000,\n",
       "           0.0000, 0.0000, 0.0000, 0.0000, 0.0235, 0.0000, 0.4000, 0.8000,\n",
       "           0.6902, 0.5255, 0.5647, 0.4824, 0.0902, 0.0000, 0.0000, 0.0000,\n",
       "           0.0000, 0.0471, 0.0392, 0.0000],\n",
       "          [0.0000, 0.0000, 0.0000, 0.0000, 0.0000, 0.0000, 0.0000, 0.0000,\n",
       "           0.0000, 0.0000, 0.0000, 0.0000, 0.0000, 0.0000, 0.6078, 0.9255,\n",
       "           0.8118, 0.6980, 0.4196, 0.6118, 0.6314, 0.4275, 0.2510, 0.0902,\n",
       "           0.3020, 0.5098, 0.2824, 0.0588],\n",
       "          [0.0000, 0.0000, 0.0000, 0.0000, 0.0000, 0.0000, 0.0000, 0.0000,\n",
       "           0.0000, 0.0000, 0.0000, 0.0039, 0.0000, 0.2706, 0.8118, 0.8745,\n",
       "           0.8549, 0.8471, 0.8471, 0.6392, 0.4980, 0.4745, 0.4784, 0.5725,\n",
       "           0.5529, 0.3451, 0.6745, 0.2588],\n",
       "          [0.0000, 0.0000, 0.0000, 0.0000, 0.0000, 0.0000, 0.0000, 0.0000,\n",
       "           0.0000, 0.0039, 0.0039, 0.0039, 0.0000, 0.7843, 0.9098, 0.9098,\n",
       "           0.9137, 0.8980, 0.8745, 0.8745, 0.8431, 0.8353, 0.6431, 0.4980,\n",
       "           0.4824, 0.7686, 0.8980, 0.0000],\n",
       "          [0.0000, 0.0000, 0.0000, 0.0000, 0.0000, 0.0000, 0.0000, 0.0000,\n",
       "           0.0000, 0.0000, 0.0000, 0.0000, 0.0000, 0.7176, 0.8824, 0.8471,\n",
       "           0.8745, 0.8941, 0.9216, 0.8902, 0.8784, 0.8706, 0.8784, 0.8667,\n",
       "           0.8745, 0.9608, 0.6784, 0.0000],\n",
       "          [0.0000, 0.0000, 0.0000, 0.0000, 0.0000, 0.0000, 0.0000, 0.0000,\n",
       "           0.0000, 0.0000, 0.0000, 0.0000, 0.0000, 0.7569, 0.8941, 0.8549,\n",
       "           0.8353, 0.7765, 0.7059, 0.8314, 0.8235, 0.8275, 0.8353, 0.8745,\n",
       "           0.8627, 0.9529, 0.7922, 0.0000],\n",
       "          [0.0000, 0.0000, 0.0000, 0.0000, 0.0000, 0.0000, 0.0000, 0.0000,\n",
       "           0.0000, 0.0039, 0.0118, 0.0000, 0.0471, 0.8588, 0.8627, 0.8314,\n",
       "           0.8549, 0.7529, 0.6627, 0.8902, 0.8157, 0.8549, 0.8784, 0.8314,\n",
       "           0.8863, 0.7725, 0.8196, 0.2039],\n",
       "          [0.0000, 0.0000, 0.0000, 0.0000, 0.0000, 0.0000, 0.0000, 0.0000,\n",
       "           0.0000, 0.0000, 0.0235, 0.0000, 0.3882, 0.9569, 0.8706, 0.8627,\n",
       "           0.8549, 0.7961, 0.7765, 0.8667, 0.8431, 0.8353, 0.8706, 0.8627,\n",
       "           0.9608, 0.4667, 0.6549, 0.2196],\n",
       "          [0.0000, 0.0000, 0.0000, 0.0000, 0.0000, 0.0000, 0.0000, 0.0000,\n",
       "           0.0000, 0.0157, 0.0000, 0.0000, 0.2157, 0.9255, 0.8941, 0.9020,\n",
       "           0.8941, 0.9412, 0.9098, 0.8353, 0.8549, 0.8745, 0.9176, 0.8510,\n",
       "           0.8510, 0.8196, 0.3608, 0.0000],\n",
       "          [0.0000, 0.0000, 0.0039, 0.0157, 0.0235, 0.0275, 0.0078, 0.0000,\n",
       "           0.0000, 0.0000, 0.0000, 0.0000, 0.9294, 0.8863, 0.8510, 0.8745,\n",
       "           0.8706, 0.8588, 0.8706, 0.8667, 0.8471, 0.8745, 0.8980, 0.8431,\n",
       "           0.8549, 1.0000, 0.3020, 0.0000],\n",
       "          [0.0000, 0.0118, 0.0000, 0.0000, 0.0000, 0.0000, 0.0000, 0.0000,\n",
       "           0.0000, 0.2431, 0.5686, 0.8000, 0.8941, 0.8118, 0.8353, 0.8667,\n",
       "           0.8549, 0.8157, 0.8275, 0.8549, 0.8784, 0.8745, 0.8588, 0.8431,\n",
       "           0.8784, 0.9569, 0.6235, 0.0000],\n",
       "          [0.0000, 0.0000, 0.0000, 0.0000, 0.0706, 0.1725, 0.3216, 0.4196,\n",
       "           0.7412, 0.8941, 0.8627, 0.8706, 0.8510, 0.8863, 0.7843, 0.8039,\n",
       "           0.8275, 0.9020, 0.8784, 0.9176, 0.6902, 0.7373, 0.9804, 0.9725,\n",
       "           0.9137, 0.9333, 0.8431, 0.0000],\n",
       "          [0.0000, 0.2235, 0.7333, 0.8157, 0.8784, 0.8667, 0.8784, 0.8157,\n",
       "           0.8000, 0.8392, 0.8157, 0.8196, 0.7843, 0.6235, 0.9608, 0.7569,\n",
       "           0.8078, 0.8745, 1.0000, 1.0000, 0.8667, 0.9176, 0.8667, 0.8275,\n",
       "           0.8627, 0.9098, 0.9647, 0.0000],\n",
       "          [0.0118, 0.7922, 0.8941, 0.8784, 0.8667, 0.8275, 0.8275, 0.8392,\n",
       "           0.8039, 0.8039, 0.8039, 0.8627, 0.9412, 0.3137, 0.5882, 1.0000,\n",
       "           0.8980, 0.8667, 0.7373, 0.6039, 0.7490, 0.8235, 0.8000, 0.8196,\n",
       "           0.8706, 0.8941, 0.8824, 0.0000],\n",
       "          [0.3843, 0.9137, 0.7765, 0.8235, 0.8706, 0.8980, 0.8980, 0.9176,\n",
       "           0.9765, 0.8627, 0.7608, 0.8431, 0.8510, 0.9451, 0.2549, 0.2863,\n",
       "           0.4157, 0.4588, 0.6588, 0.8588, 0.8667, 0.8431, 0.8510, 0.8745,\n",
       "           0.8745, 0.8784, 0.8980, 0.1137],\n",
       "          [0.2941, 0.8000, 0.8314, 0.8000, 0.7569, 0.8039, 0.8275, 0.8824,\n",
       "           0.8471, 0.7255, 0.7725, 0.8078, 0.7765, 0.8353, 0.9412, 0.7647,\n",
       "           0.8902, 0.9608, 0.9373, 0.8745, 0.8549, 0.8314, 0.8196, 0.8706,\n",
       "           0.8627, 0.8667, 0.9020, 0.2627],\n",
       "          [0.1882, 0.7961, 0.7176, 0.7608, 0.8353, 0.7725, 0.7255, 0.7451,\n",
       "           0.7608, 0.7529, 0.7922, 0.8392, 0.8588, 0.8667, 0.8627, 0.9255,\n",
       "           0.8824, 0.8471, 0.7804, 0.8078, 0.7294, 0.7098, 0.6941, 0.6745,\n",
       "           0.7098, 0.8039, 0.8078, 0.4510],\n",
       "          [0.0000, 0.4784, 0.8588, 0.7569, 0.7020, 0.6706, 0.7176, 0.7686,\n",
       "           0.8000, 0.8235, 0.8353, 0.8118, 0.8275, 0.8235, 0.7843, 0.7686,\n",
       "           0.7608, 0.7490, 0.7647, 0.7490, 0.7765, 0.7529, 0.6902, 0.6118,\n",
       "           0.6549, 0.6941, 0.8235, 0.3608],\n",
       "          [0.0000, 0.0000, 0.2902, 0.7412, 0.8314, 0.7490, 0.6863, 0.6745,\n",
       "           0.6863, 0.7098, 0.7255, 0.7373, 0.7412, 0.7373, 0.7569, 0.7765,\n",
       "           0.8000, 0.8196, 0.8235, 0.8235, 0.8275, 0.7373, 0.7373, 0.7608,\n",
       "           0.7529, 0.8471, 0.6667, 0.0000],\n",
       "          [0.0078, 0.0000, 0.0000, 0.0000, 0.2588, 0.7843, 0.8706, 0.9294,\n",
       "           0.9373, 0.9490, 0.9647, 0.9529, 0.9569, 0.8667, 0.8627, 0.7569,\n",
       "           0.7490, 0.7020, 0.7137, 0.7137, 0.7098, 0.6902, 0.6510, 0.6588,\n",
       "           0.3882, 0.2275, 0.0000, 0.0000],\n",
       "          [0.0000, 0.0000, 0.0000, 0.0000, 0.0000, 0.0000, 0.0000, 0.1569,\n",
       "           0.2392, 0.1725, 0.2824, 0.1608, 0.1373, 0.0000, 0.0000, 0.0000,\n",
       "           0.0000, 0.0000, 0.0000, 0.0000, 0.0000, 0.0000, 0.0000, 0.0000,\n",
       "           0.0000, 0.0000, 0.0000, 0.0000],\n",
       "          [0.0000, 0.0000, 0.0000, 0.0000, 0.0000, 0.0000, 0.0000, 0.0000,\n",
       "           0.0000, 0.0000, 0.0000, 0.0000, 0.0000, 0.0000, 0.0000, 0.0000,\n",
       "           0.0000, 0.0000, 0.0000, 0.0000, 0.0000, 0.0000, 0.0000, 0.0000,\n",
       "           0.0000, 0.0000, 0.0000, 0.0000],\n",
       "          [0.0000, 0.0000, 0.0000, 0.0000, 0.0000, 0.0000, 0.0000, 0.0000,\n",
       "           0.0000, 0.0000, 0.0000, 0.0000, 0.0000, 0.0000, 0.0000, 0.0000,\n",
       "           0.0000, 0.0000, 0.0000, 0.0000, 0.0000, 0.0000, 0.0000, 0.0000,\n",
       "           0.0000, 0.0000, 0.0000, 0.0000]]]),\n",
       " 9)"
      ]
     },
     "execution_count": 5,
     "metadata": {},
     "output_type": "execute_result"
    }
   ],
   "source": [
    "image, label = train_data[0]\n",
    "image, label"
   ]
  },
  {
   "cell_type": "code",
   "execution_count": 6,
   "id": "b9285228",
   "metadata": {
    "ExecuteTime": {
     "end_time": "2023-02-23T14:06:29.528662Z",
     "start_time": "2023-02-23T14:06:29.517669Z"
    }
   },
   "outputs": [
    {
     "data": {
      "text/plain": [
       "['T-shirt/top',\n",
       " 'Trouser',\n",
       " 'Pullover',\n",
       " 'Dress',\n",
       " 'Coat',\n",
       " 'Sandal',\n",
       " 'Shirt',\n",
       " 'Sneaker',\n",
       " 'Bag',\n",
       " 'Ankle boot']"
      ]
     },
     "execution_count": 6,
     "metadata": {},
     "output_type": "execute_result"
    }
   ],
   "source": [
    "# Checking the classes in the training data\n",
    "class_names = train_data.classes\n",
    "class_names"
   ]
  },
  {
   "cell_type": "code",
   "execution_count": 7,
   "id": "9fcb9673",
   "metadata": {
    "ExecuteTime": {
     "end_time": "2023-02-23T14:06:29.560645Z",
     "start_time": "2023-02-23T14:06:29.532661Z"
    }
   },
   "outputs": [
    {
     "data": {
      "text/plain": [
       "{'T-shirt/top': 0,\n",
       " 'Trouser': 1,\n",
       " 'Pullover': 2,\n",
       " 'Dress': 3,\n",
       " 'Coat': 4,\n",
       " 'Sandal': 5,\n",
       " 'Shirt': 6,\n",
       " 'Sneaker': 7,\n",
       " 'Bag': 8,\n",
       " 'Ankle boot': 9}"
      ]
     },
     "execution_count": 7,
     "metadata": {},
     "output_type": "execute_result"
    }
   ],
   "source": [
    "# Checking the classes and corresponding indices in the training data\n",
    "train_data.class_to_idx"
   ]
  },
  {
   "cell_type": "code",
   "execution_count": 8,
   "id": "3d5dfc0e",
   "metadata": {
    "ExecuteTime": {
     "end_time": "2023-02-23T14:06:29.576635Z",
     "start_time": "2023-02-23T14:06:29.565641Z"
    }
   },
   "outputs": [
    {
     "data": {
      "text/plain": [
       "tensor([9, 0, 0,  ..., 3, 0, 5])"
      ]
     },
     "execution_count": 8,
     "metadata": {},
     "output_type": "execute_result"
    }
   ],
   "source": [
    "# All the labels of the training data\n",
    "train_data.targets"
   ]
  },
  {
   "cell_type": "code",
   "execution_count": 9,
   "id": "5c3b1090",
   "metadata": {
    "ExecuteTime": {
     "end_time": "2023-02-23T14:06:29.592628Z",
     "start_time": "2023-02-23T14:06:29.581633Z"
    }
   },
   "outputs": [
    {
     "name": "stdout",
     "output_type": "stream",
     "text": [
      "Image Shape: torch.Size([1, 28, 28]) > [Colour Channels, Height, Width]\n",
      "Image Label: 9 > Ankle boot\n"
     ]
    }
   ],
   "source": [
    "print(f\"Image Shape: {image.shape} > [Colour Channels, Height, Width]\")\n",
    "print(f\"Image Label: {label} > {class_names[label]}\")"
   ]
  },
  {
   "cell_type": "markdown",
   "id": "86ddf375",
   "metadata": {},
   "source": [
    "The shape of the image contains the following information:\n",
    "\n",
    "- Colour channels: 1\n",
    "- Height: 28\n",
    "- Width: 28\n",
    "\n",
    "There is only 1 colour channel as the images are greyscale. There are no RGB values available. The label of 9 corresponds to \"Ankle boot\"."
   ]
  },
  {
   "cell_type": "code",
   "execution_count": 10,
   "id": "472d3519",
   "metadata": {
    "ExecuteTime": {
     "end_time": "2023-02-23T14:06:29.871476Z",
     "start_time": "2023-02-23T14:06:29.602621Z"
    }
   },
   "outputs": [
    {
     "name": "stdout",
     "output_type": "stream",
     "text": [
      "Image Shape: torch.Size([1, 28, 28])\n"
     ]
    },
    {
     "data": {
      "text/plain": [
       "Text(0.5, 1.0, '9: Ankle boot')"
      ]
     },
     "execution_count": 10,
     "metadata": {},
     "output_type": "execute_result"
    },
    {
     "data": {
      "image/png": "[encoded data removed]",
      "text/plain": [
       "<Figure size 640x480 with 1 Axes>"
      ]
     },
     "metadata": {},
     "output_type": "display_data"
    }
   ],
   "source": [
    "# Matplotlib accepts only height and width, or colour channels last\n",
    "# The colour channels dimensions can be squeezed away in this case\n",
    "image, label = train_data[0]\n",
    "print(f\"Image Shape: {image.shape}\")\n",
    "plt.imshow(image.squeeze())\n",
    "plt.title(f\"{label}: {class_names[label]}\")"
   ]
  },
  {
   "cell_type": "code",
   "execution_count": 11,
   "id": "b534ea3b",
   "metadata": {
    "ExecuteTime": {
     "end_time": "2023-02-23T14:06:29.994413Z",
     "start_time": "2023-02-23T14:06:29.874467Z"
    }
   },
   "outputs": [
    {
     "data": {
      "image/png": "[encoded data removed]",
      "text/plain": [
       "<Figure size 640x480 with 1 Axes>"
      ]
     },
     "metadata": {},
     "output_type": "display_data"
    }
   ],
   "source": [
    "# Use the cmap argument to show greyscale\n",
    "plt.imshow(image.squeeze(), cmap=\"gray\")\n",
    "plt.title(f\"{label}: {class_names[label]}\")\n",
    "plt.axis(False);"
   ]
  },
  {
   "cell_type": "markdown",
   "id": "5e1e7bf5",
   "metadata": {},
   "source": [
    "Docs of `torch.randint`: https://pytorch.org/docs/stable/generated/torch.randint"
   ]
  },
  {
   "cell_type": "code",
   "execution_count": 12,
   "id": "2e99ce8b",
   "metadata": {
    "ExecuteTime": {
     "end_time": "2023-02-23T14:06:30.946673Z",
     "start_time": "2023-02-23T14:06:29.997396Z"
    }
   },
   "outputs": [
    {
     "data": {
      "image/png": "[encoded data removed]",
      "text/plain": [
       "<Figure size 900x900 with 16 Axes>"
      ]
     },
     "metadata": {},
     "output_type": "display_data"
    }
   ],
   "source": [
    "# Plotting a bunch of random images\n",
    "# Grabbing random indices with torch.randint\n",
    "torch.manual_seed(42)\n",
    "fig = plt.figure(figsize=(9, 9))\n",
    "rows, cols = 4, 4\n",
    "for i in range(1, rows * cols + 1):\n",
    "    random_idx = torch.randint(0, len(train_data), size=[1]).item()\n",
    "    img, label = train_data[random_idx]\n",
    "    fig.add_subplot(rows, cols, i)\n",
    "    plt.imshow(img.squeeze(), cmap=\"gray\")\n",
    "    plt.title(f\"{label}: {class_names[label]}\")\n",
    "    plt.axis(False)"
   ]
  },
  {
   "cell_type": "code",
   "execution_count": 13,
   "id": "5bdc81d3",
   "metadata": {
    "ExecuteTime": {
     "end_time": "2023-02-23T14:06:30.961667Z",
     "start_time": "2023-02-23T14:06:30.950672Z"
    }
   },
   "outputs": [
    {
     "data": {
      "text/plain": [
       "(Dataset FashionMNIST\n",
       "     Number of datapoints: 60000\n",
       "     Root location: data\n",
       "     Split: Train\n",
       "     StandardTransform\n",
       " Transform: ToTensor(),\n",
       " Dataset FashionMNIST\n",
       "     Number of datapoints: 10000\n",
       "     Root location: data\n",
       "     Split: Test\n",
       "     StandardTransform\n",
       " Transform: ToTensor())"
      ]
     },
     "execution_count": 13,
     "metadata": {},
     "output_type": "execute_result"
    }
   ],
   "source": [
    "train_data, test_data"
   ]
  },
  {
   "cell_type": "markdown",
   "id": "2fa112d6",
   "metadata": {},
   "source": [
    "Right now, the datasets exist in the form of PyTorch datasets. To use them for any upcoming models, it's necessary to use the aforementioned `torch.utils.data.DataLoader` to convert them to Python iterables. More specifically, it's important to divide the data into small batches. There are several reasons why this is important:\n",
    "\n",
    "- It's computationally efficient\n",
    "- The Neural Network has more opportunities to update gradients in an epoch\n",
    "\n",
    "It may not be possible to store all 60,000 images into memory (or even more in other scenarios) at once, thus makes it computationally efficient to use batches. In addition, if all 60,000 images were to be used at once every epoch, it would mean that the gradients are updated only once every epoch. Utilizing batches will allow for more gradient updates, more specifically once after every X images, where X is the batch size. A very common batch size to use is 32. This behaviour was already seen in Stochastic Gradient Descent in the previous chapters, which creates batches automatically."
   ]
  },
  {
   "cell_type": "markdown",
   "id": "755ce133",
   "metadata": {},
   "source": [
    "Docs of `torch.utils.data.DataLoader` and more: https://pytorch.org/docs/stable/data"
   ]
  },
  {
   "cell_type": "code",
   "execution_count": 14,
   "id": "46fb5cda",
   "metadata": {
    "ExecuteTime": {
     "end_time": "2023-02-23T14:06:30.977674Z",
     "start_time": "2023-02-23T14:06:30.965662Z"
    }
   },
   "outputs": [],
   "source": [
    "# The model will never see the test dataset during training, shuffle is not necessary\n",
    "# Keeping the same order for the test data may make evaluation easier to perform\n",
    "train_dataloader = DataLoader(dataset=train_data, batch_size=32, shuffle=True)\n",
    "test_dataloader = DataLoader(dataset=test_data, batch_size=32, shuffle=False)"
   ]
  },
  {
   "cell_type": "code",
   "execution_count": 15,
   "id": "e5ca7f13",
   "metadata": {
    "ExecuteTime": {
     "end_time": "2023-02-23T14:06:30.993650Z",
     "start_time": "2023-02-23T14:06:30.981653Z"
    }
   },
   "outputs": [
    {
     "data": {
      "text/plain": [
       "(<torch.utils.data.dataloader.DataLoader at 0x17a36bdc130>,\n",
       " <torch.utils.data.dataloader.DataLoader at 0x17a36bdc070>)"
      ]
     },
     "execution_count": 15,
     "metadata": {},
     "output_type": "execute_result"
    }
   ],
   "source": [
    "train_dataloader, test_dataloader"
   ]
  },
  {
   "cell_type": "code",
   "execution_count": 16,
   "id": "8052685a",
   "metadata": {
    "ExecuteTime": {
     "end_time": "2023-02-23T14:06:31.009637Z",
     "start_time": "2023-02-23T14:06:30.997646Z"
    }
   },
   "outputs": [
    {
     "name": "stdout",
     "output_type": "stream",
     "text": [
      "Train DataLoader Batches: 1875\n",
      "Train DataLoader Batches: 313\n"
     ]
    }
   ],
   "source": [
    "print(f\"Train DataLoader Batches: {len(train_dataloader)}\") \n",
    "print(f\"Train DataLoader Batches: {len(test_dataloader)}\")"
   ]
  },
  {
   "cell_type": "code",
   "execution_count": 17,
   "id": "b16b271b",
   "metadata": {
    "ExecuteTime": {
     "end_time": "2023-02-23T14:06:31.041619Z",
     "start_time": "2023-02-23T14:06:31.013635Z"
    }
   },
   "outputs": [
    {
     "data": {
      "text/plain": [
       "(torch.Size([32, 1, 28, 28]), torch.Size([32]))"
      ]
     },
     "execution_count": 17,
     "metadata": {},
     "output_type": "execute_result"
    }
   ],
   "source": [
    "# Grabbing a batch using Python iterable\n",
    "batch_features, batch_labels = next(iter(train_dataloader))\n",
    "batch_features.shape, batch_labels.shape"
   ]
  },
  {
   "cell_type": "markdown",
   "id": "a435fd44",
   "metadata": {},
   "source": [
    "The shape of this batch's contents contains the following information:\n",
    "\n",
    "- Batch size: 32\n",
    "- Colour channels: 1\n",
    "- Height: 28\n",
    "- Width: 28"
   ]
  },
  {
   "cell_type": "code",
   "execution_count": 18,
   "id": "d49a62e7",
   "metadata": {
    "ExecuteTime": {
     "end_time": "2023-02-23T14:06:31.241504Z",
     "start_time": "2023-02-23T14:06:31.045617Z"
    }
   },
   "outputs": [
    {
     "data": {
      "image/png": "[encoded data removed]",
      "text/plain": [
       "<Figure size 640x480 with 1 Axes>"
      ]
     },
     "metadata": {},
     "output_type": "display_data"
    }
   ],
   "source": [
    "# Showing a random sample from this batch\n",
    "random_idx = torch.randint(0, len(batch_features), size=[1]).item()\n",
    "img, label = batch_features[random_idx], batch_labels[random_idx]\n",
    "plt.imshow(img.squeeze(), cmap=\"gray\")\n",
    "plt.title(f\"{label}: {class_names[label]}\")\n",
    "plt.axis(False);"
   ]
  },
  {
   "cell_type": "markdown",
   "id": "6ac485ca",
   "metadata": {},
   "source": [
    "## Building a Model <a name=\"buildmodel\" />"
   ]
  },
  {
   "cell_type": "markdown",
   "id": "662b5fab",
   "metadata": {},
   "source": [
    "Before creating a fancy model that's perfectly suited for this specific task, it's first important to build a baseline model which can be improved over time. A new layer to introduce here is the flatten layer from `nn.Flatten()`. Each of the images residing in the created batches has a height of 28 pixels and a width of 28 pixels. Linear layers within these neural networks do not accepting this kind of multi-dimensional data. If linear layers are to be used, then it's necessary to transform this data into a more suitable format. This is where the flatten layer comes into play."
   ]
  },
  {
   "cell_type": "markdown",
   "id": "7c1674b0",
   "metadata": {},
   "source": [
    "`nn.Flatten()` docs: https://pytorch.org/docs/stable/generated/torch.nn.Flatten"
   ]
  },
  {
   "cell_type": "code",
   "execution_count": 19,
   "id": "09d0814d",
   "metadata": {
    "ExecuteTime": {
     "end_time": "2023-02-23T14:06:31.256496Z",
     "start_time": "2023-02-23T14:06:31.245501Z"
    }
   },
   "outputs": [
    {
     "data": {
      "text/plain": [
       "torch.Size([1, 28, 28])"
      ]
     },
     "execution_count": 19,
     "metadata": {},
     "output_type": "execute_result"
    }
   ],
   "source": [
    "# Creating a flatten layer\n",
    "flatten_model = nn.Flatten()\n",
    "x = batch_features[0]\n",
    "x.shape"
   ]
  },
  {
   "cell_type": "code",
   "execution_count": 20,
   "id": "81c5873f",
   "metadata": {
    "ExecuteTime": {
     "end_time": "2023-02-23T14:06:31.271487Z",
     "start_time": "2023-02-23T14:06:31.261493Z"
    }
   },
   "outputs": [
    {
     "data": {
      "text/plain": [
       "torch.Size([1, 784])"
      ]
     },
     "execution_count": 20,
     "metadata": {},
     "output_type": "execute_result"
    }
   ],
   "source": [
    "flatten_model(x).shape"
   ]
  },
  {
   "cell_type": "code",
   "execution_count": 21,
   "id": "32662591",
   "metadata": {
    "ExecuteTime": {
     "end_time": "2023-02-23T14:06:31.287479Z",
     "start_time": "2023-02-23T14:06:31.276486Z"
    }
   },
   "outputs": [
    {
     "data": {
      "text/plain": [
       "torch.Size([784])"
      ]
     },
     "execution_count": 21,
     "metadata": {},
     "output_type": "execute_result"
    }
   ],
   "source": [
    "flatten_model(x).squeeze().shape"
   ]
  },
  {
   "cell_type": "markdown",
   "id": "6f95df8e",
   "metadata": {},
   "source": [
    "The flatten layer has condensed the matrix containing 28 vectors of 28 numbers into a single vector. As 28 multiplied by 28 is 784, said vector contains 784 numbers. It's also possible to squeeze away the superfluous dimension to only retain the 784-number-long vector."
   ]
  },
  {
   "cell_type": "code",
   "execution_count": 22,
   "id": "53ef51cf",
   "metadata": {
    "ExecuteTime": {
     "end_time": "2023-02-23T14:06:31.303468Z",
     "start_time": "2023-02-23T14:06:31.290476Z"
    }
   },
   "outputs": [],
   "source": [
    "# Testing a model without non-linearity first\n",
    "class FashionV0(nn.Module):\n",
    "    def __init__(self, in_shape: int, hidden_units: int, out_shape: int):\n",
    "        super().__init__()\n",
    "        self.layer_stack = nn.Sequential(\n",
    "            nn.Flatten(),\n",
    "            nn.Linear(in_features=in_shape, out_features=hidden_units),\n",
    "            nn.Linear(in_features=hidden_units, out_features=out_shape)\n",
    "        )\n",
    "        \n",
    "    def forward(self, x: torch.tensor) -> torch.tensor:\n",
    "        return self.layer_stack(x)"
   ]
  },
  {
   "cell_type": "code",
   "execution_count": 23,
   "id": "f43f353b",
   "metadata": {
    "ExecuteTime": {
     "end_time": "2023-02-23T14:06:31.319459Z",
     "start_time": "2023-02-23T14:06:31.307467Z"
    }
   },
   "outputs": [],
   "source": [
    "model_0 = FashionV0(\n",
    "    in_shape=784, # 28*28\n",
    "    hidden_units=10,\n",
    "    out_shape=len(class_names)\n",
    ")"
   ]
  },
  {
   "cell_type": "code",
   "execution_count": 24,
   "id": "990bf585",
   "metadata": {
    "ExecuteTime": {
     "end_time": "2023-02-23T14:06:31.335451Z",
     "start_time": "2023-02-23T14:06:31.323458Z"
    }
   },
   "outputs": [
    {
     "data": {
      "text/plain": [
       "FashionV0(\n",
       "  (layer_stack): Sequential(\n",
       "    (0): Flatten(start_dim=1, end_dim=-1)\n",
       "    (1): Linear(in_features=784, out_features=10, bias=True)\n",
       "    (2): Linear(in_features=10, out_features=10, bias=True)\n",
       "  )\n",
       ")"
      ]
     },
     "execution_count": 24,
     "metadata": {},
     "output_type": "execute_result"
    }
   ],
   "source": [
    "model_0"
   ]
  },
  {
   "cell_type": "code",
   "execution_count": 25,
   "id": "11ba42f1",
   "metadata": {
    "ExecuteTime": {
     "end_time": "2023-02-23T14:06:31.366433Z",
     "start_time": "2023-02-23T14:06:31.341449Z"
    }
   },
   "outputs": [
    {
     "data": {
      "text/plain": [
       "tensor([[-0.5382, -0.2103, -0.1958, -0.2007,  0.4601, -0.1884,  0.1586,  0.2547,\n",
       "         -0.3227, -0.3623]], grad_fn=<AddmmBackward0>)"
      ]
     },
     "execution_count": 25,
     "metadata": {},
     "output_type": "execute_result"
    }
   ],
   "source": [
    "# Checking the result of 1 forward pass with dummy results\n",
    "dummy_x = torch.rand([1, 1, 28, 28])\n",
    "model_0(dummy_x)"
   ]
  },
  {
   "cell_type": "markdown",
   "id": "d0d8edfa",
   "metadata": {},
   "source": [
    "The results of the forward pass with dummy data show a vector with 10 numbers, which is correct as there are 10 unique classes to be found in this FashionMNIST dataset."
   ]
  },
  {
   "cell_type": "code",
   "execution_count": 26,
   "id": "acf4571d",
   "metadata": {
    "ExecuteTime": {
     "end_time": "2023-02-23T14:06:31.397415Z",
     "start_time": "2023-02-23T14:06:31.371429Z"
    }
   },
   "outputs": [
    {
     "data": {
      "text/plain": [
       "OrderedDict([('layer_stack.1.weight',\n",
       "              tensor([[-0.0042, -0.0145,  0.0237,  ..., -0.0319,  0.0206, -0.0111],\n",
       "                      [-0.0272,  0.0052,  0.0173,  ...,  0.0023,  0.0029,  0.0097],\n",
       "                      [ 0.0272, -0.0169,  0.0213,  ...,  0.0307, -0.0014, -0.0287],\n",
       "                      ...,\n",
       "                      [-0.0101, -0.0093,  0.0068,  ..., -0.0126, -0.0139, -0.0208],\n",
       "                      [-0.0275,  0.0082,  0.0330,  ...,  0.0330,  0.0033,  0.0030],\n",
       "                      [-0.0047, -0.0345,  0.0140,  ...,  0.0228,  0.0321, -0.0169]])),\n",
       "             ('layer_stack.1.bias',\n",
       "              tensor([ 0.0152, -0.0084,  0.0227, -0.0054, -0.0284, -0.0354, -0.0013,  0.0105,\n",
       "                      -0.0211,  0.0281])),\n",
       "             ('layer_stack.2.weight',\n",
       "              tensor([[ 0.1500,  0.1907,  0.1457, -0.3050, -0.0580,  0.1643,  0.1565, -0.2877,\n",
       "                       -0.1792,  0.2305],\n",
       "                      [-0.2618,  0.2397, -0.0610,  0.0232,  0.1542,  0.0851, -0.2027,  0.1030,\n",
       "                       -0.2715, -0.1596],\n",
       "                      [-0.0555, -0.0633,  0.2302, -0.1726,  0.2654,  0.1473,  0.1029,  0.2252,\n",
       "                       -0.2160, -0.2725],\n",
       "                      [ 0.0118,  0.1559,  0.1596,  0.0132,  0.3024,  0.1124,  0.1366, -0.1533,\n",
       "                        0.0965, -0.1184],\n",
       "                      [-0.2555, -0.2057, -0.1909, -0.0477, -0.1324,  0.2905,  0.1307, -0.2629,\n",
       "                        0.0133,  0.2727],\n",
       "                      [-0.0127,  0.0513,  0.0863, -0.1043, -0.2047, -0.1185, -0.0825,  0.2488,\n",
       "                       -0.2571,  0.0425],\n",
       "                      [-0.1209, -0.0336, -0.0281, -0.1227,  0.0730,  0.0747, -0.1816,  0.1943,\n",
       "                        0.2853, -0.1310],\n",
       "                      [ 0.0645, -0.1171,  0.2168, -0.0245, -0.2820,  0.0736,  0.2621,  0.0012,\n",
       "                       -0.0810, -0.0087],\n",
       "                      [ 0.1791,  0.2712, -0.0791,  0.1685,  0.1762,  0.2825,  0.2266, -0.2612,\n",
       "                       -0.2613, -0.2624],\n",
       "                      [ 0.1987, -0.1606,  0.1747, -0.0471, -0.1303,  0.2380, -0.0611, -0.1707,\n",
       "                       -0.0485, -0.2011]])),\n",
       "             ('layer_stack.2.bias',\n",
       "              tensor([-0.3045, -0.0554, -0.0178, -0.1802,  0.2803, -0.0706, -0.0803,  0.2506,\n",
       "                       0.0352, -0.0744]))])"
      ]
     },
     "execution_count": 26,
     "metadata": {},
     "output_type": "execute_result"
    }
   ],
   "source": [
    "# Just like any other model, there will be weights and biases to update through the training process\n",
    "model_0.state_dict()"
   ]
  },
  {
   "cell_type": "markdown",
   "id": "eb66c10d",
   "metadata": {},
   "source": [
    "## Training a Model <a name=\"trainmodel\"></a>"
   ]
  },
  {
   "cell_type": "markdown",
   "id": "f78fffa5",
   "metadata": {},
   "source": [
    "First, a loss function, optimizer, and optional metric need to be chosen. As this is a multiclass classification problem, the `nn.CrossEntropyLoss()` from the previous chapter can be used again. For the optimizer, both `torch.optim.SGD()` and `torch.optim.Adam()` are good choices to go with. For the metric, accuracy is a simple one to use as well."
   ]
  },
  {
   "cell_type": "code",
   "execution_count": 27,
   "id": "301a9414",
   "metadata": {
    "ExecuteTime": {
     "end_time": "2023-02-23T14:06:31.412408Z",
     "start_time": "2023-02-23T14:06:31.401413Z"
    }
   },
   "outputs": [],
   "source": [
    "# The accuracy metric takes 10 classes, just like the model's number of output features\n",
    "loss_fn = nn.CrossEntropyLoss()\n",
    "optimizer = torch.optim.SGD(params=model_0.parameters(), lr=0.1)\n",
    "metric_acc = Accuracy(task=\"multiclass\", num_classes=10)"
   ]
  },
  {
   "cell_type": "code",
   "execution_count": 28,
   "id": "54aa4f9e",
   "metadata": {
    "ExecuteTime": {
     "end_time": "2023-02-23T14:07:37.365190Z",
     "start_time": "2023-02-23T14:06:31.428397Z"
    }
   },
   "outputs": [
    {
     "name": "stdout",
     "output_type": "stream",
     "text": [
      "Epoch: 0 | Loss: 0.59360, Acc: 0.79% | Test Loss: 0.50814, Test Acc: 0.82%\n",
      "Epoch: 1 | Loss: 0.47598, Acc: 0.83% | Test Loss: 0.48270, Test Acc: 0.83%\n",
      "Epoch: 2 | Loss: 0.45453, Acc: 0.84% | Test Loss: 0.47896, Test Acc: 0.83%\n"
     ]
    }
   ],
   "source": [
    "torch.manual_seed(42)\n",
    "epochs = 3\n",
    "\n",
    "for epoch in range(epochs):\n",
    "    train_loss, train_acc = 0, 0\n",
    "    test_loss, test_acc = 0, 0\n",
    "    model_0.train()\n",
    "    # Enumerate is necessary here\n",
    "    for batch, (X, y) in enumerate(train_dataloader): \n",
    "        y_logits = model_0(X)\n",
    "        y_pred = torch.softmax(y_logits, dim=1).argmax(dim=1)\n",
    "        # Loss, unlike acc, needs to be separately saved for the backwards propagation\n",
    "        loss = loss_fn(y_logits, y)\n",
    "        train_loss += loss\n",
    "        train_acc += metric_acc(y_pred, y)\n",
    "        optimizer.zero_grad()\n",
    "        loss.backward()\n",
    "        optimizer.step()\n",
    "    \n",
    "    model_0.eval()\n",
    "    with torch.inference_mode():\n",
    "        for X_, y_ in test_dataloader:\n",
    "            test_logits = model_0(X_)\n",
    "            test_pred = torch.softmax(test_logits, dim=1).argmax(dim=1)\n",
    "            test_loss += loss_fn(test_logits, y_)\n",
    "            test_acc += metric_acc(test_pred, y_)\n",
    "                   \n",
    "        train_loss /= len(train_dataloader)\n",
    "        train_acc /= len(train_dataloader)\n",
    "        test_loss /= len(test_dataloader)\n",
    "        test_acc /= len(test_dataloader)\n",
    "    \n",
    "    print(f\"Epoch: {epoch} | Loss: {train_loss:.5f}, Acc: {train_acc:.2f}% | Test Loss: {test_loss:.5f}, Test Acc: {test_acc:.2f}%\")"
   ]
  },
  {
   "cell_type": "markdown",
   "id": "ba33566a",
   "metadata": {},
   "source": [
    "Note: the model used does not yet account for non-linearity! The results are thus mediocre."
   ]
  },
  {
   "cell_type": "markdown",
   "id": "2b451349",
   "metadata": {},
   "source": [
    "This training loop looks very different compared to the training loops in previous chapters. Various changes needed to be made to accommodate iterating over batches. The training and testing sections have become their own nested loops to not interfere with each other. This is necessary in this scenario as the data is supplied in a different way. The training needs to be done on batches, but it's not necessary for the testing data. The model never sees the testing data as it's only used for performance evaluation. As many gradient updates are now based per epoch (due to the batches), it's not necessary to use a very high number of epochs."
   ]
  },
  {
   "cell_type": "code",
   "execution_count": 29,
   "id": "c69e2ed8",
   "metadata": {
    "ExecuteTime": {
     "end_time": "2023-02-23T14:07:37.396174Z",
     "start_time": "2023-02-23T14:07:37.371186Z"
    }
   },
   "outputs": [],
   "source": [
    "# Evaluation function to reuse from here on out\n",
    "torch.manual_seed(42)\n",
    "def eval_model(model, data_loader, loss_fn, metric):\n",
    "    loss, acc = 0, 0\n",
    "    model.eval()\n",
    "    with torch.inference_mode():\n",
    "        for X, y in data_loader:\n",
    "            logits = model(X)\n",
    "            preds = torch.softmax(logits, dim=1).argmax(dim=1)\n",
    "            loss += loss_fn(logits, y)\n",
    "            acc += metric(preds, y)\n",
    "        \n",
    "        loss /= len(data_loader)\n",
    "        acc /= len(data_loader)\n",
    "    \n",
    "    return {\n",
    "        \"model_name\": model.__class__.__name__, # Only works if the model was created with a class\n",
    "        \"model_loss\": loss,\n",
    "        \"model_acc\": acc\n",
    "    }"
   ]
  },
  {
   "cell_type": "code",
   "execution_count": 30,
   "id": "c25402df",
   "metadata": {
    "ExecuteTime": {
     "end_time": "2023-02-23T14:07:40.204261Z",
     "start_time": "2023-02-23T14:07:37.401170Z"
    }
   },
   "outputs": [
    {
     "data": {
      "text/plain": [
       "{'model_name': 'FashionV0',\n",
       " 'model_loss': tensor(0.4790),\n",
       " 'model_acc': tensor(0.8348)}"
      ]
     },
     "execution_count": 30,
     "metadata": {},
     "output_type": "execute_result"
    }
   ],
   "source": [
    "model_0_results = eval_model(model_0, test_dataloader, loss_fn, metric_acc)\n",
    "model_0_results"
   ]
  },
  {
   "cell_type": "code",
   "execution_count": 31,
   "id": "28214e94",
   "metadata": {
    "ExecuteTime": {
     "end_time": "2023-02-23T14:07:40.219253Z",
     "start_time": "2023-02-23T14:07:40.207260Z"
    }
   },
   "outputs": [],
   "source": [
    "class FashionV1(nn.Module):\n",
    "    def __init__(self, in_shape: int, hidden_units: int, out_shape):\n",
    "        super().__init__()\n",
    "        self.layer_stack = nn.Sequential(\n",
    "            nn.Flatten(),\n",
    "            nn.Linear(in_features=in_shape, out_features=hidden_units),\n",
    "            nn.ReLU(),\n",
    "            nn.Linear(in_features=hidden_units, out_features=out_shape)\n",
    "        )\n",
    "        \n",
    "    def forward(self, x: torch.tensor) -> torch.tensor:\n",
    "        return self.layer_stack(x)"
   ]
  },
  {
   "cell_type": "code",
   "execution_count": 32,
   "id": "8da9d8ff",
   "metadata": {
    "ExecuteTime": {
     "end_time": "2023-02-23T14:07:40.235245Z",
     "start_time": "2023-02-23T14:07:40.224251Z"
    }
   },
   "outputs": [],
   "source": [
    "model_1 = FashionV1(\n",
    "    in_shape=784,\n",
    "    hidden_units=10,\n",
    "    out_shape=len(class_names)\n",
    ")"
   ]
  },
  {
   "cell_type": "code",
   "execution_count": 33,
   "id": "aa196ea3",
   "metadata": {
    "ExecuteTime": {
     "end_time": "2023-02-23T14:07:40.250237Z",
     "start_time": "2023-02-23T14:07:40.240241Z"
    }
   },
   "outputs": [
    {
     "data": {
      "text/plain": [
       "FashionV1(\n",
       "  (layer_stack): Sequential(\n",
       "    (0): Flatten(start_dim=1, end_dim=-1)\n",
       "    (1): Linear(in_features=784, out_features=10, bias=True)\n",
       "    (2): ReLU()\n",
       "    (3): Linear(in_features=10, out_features=10, bias=True)\n",
       "  )\n",
       ")"
      ]
     },
     "execution_count": 33,
     "metadata": {},
     "output_type": "execute_result"
    }
   ],
   "source": [
    "model_1"
   ]
  },
  {
   "cell_type": "code",
   "execution_count": 34,
   "id": "a33782cf",
   "metadata": {
    "ExecuteTime": {
     "end_time": "2023-02-23T14:07:40.266226Z",
     "start_time": "2023-02-23T14:07:40.254233Z"
    }
   },
   "outputs": [],
   "source": [
    "# Creating loss function, optimizer, and the accuracy metric again\n",
    "# They are kept the same as changes were already made to the model itself (adding ReLU)\n",
    "loss_fn = nn.CrossEntropyLoss()\n",
    "optimizer = torch.optim.SGD(params=model_1.parameters(), lr=0.1)\n",
    "metric_acc = Accuracy(task=\"multiclass\", num_classes=10)"
   ]
  },
  {
   "cell_type": "code",
   "execution_count": 35,
   "id": "c7579e10",
   "metadata": {
    "ExecuteTime": {
     "end_time": "2023-02-23T14:07:40.282218Z",
     "start_time": "2023-02-23T14:07:40.271224Z"
    }
   },
   "outputs": [],
   "source": [
    "# Functionizing the training phase for reusability\n",
    "def train_step(model, data_loader, loss_fn, optimizer, metric_fn):\n",
    "    train_loss, train_acc = 0, 0\n",
    "    model.train()\n",
    "    for batch, (X, y) in enumerate(data_loader):\n",
    "        y_logits = model(X)\n",
    "        y_pred = torch.softmax(y_logits, dim=1).argmax(dim=1)\n",
    "        loss = loss_fn(y_logits, y)\n",
    "        train_loss += loss\n",
    "        train_acc += metric_fn(y_pred, y)\n",
    "        optimizer.zero_grad()\n",
    "        loss.backward()\n",
    "        optimizer.step()\n",
    "        \n",
    "    train_loss /= len(data_loader)\n",
    "    train_acc /= len(data_loader)\n",
    "    print(f\"Train Loss: {train_loss:.5f}, Train Acc: {train_acc:.2f}\")"
   ]
  },
  {
   "cell_type": "code",
   "execution_count": 36,
   "id": "0b0f45ce",
   "metadata": {
    "ExecuteTime": {
     "end_time": "2023-02-23T14:07:40.298208Z",
     "start_time": "2023-02-23T14:07:40.286216Z"
    }
   },
   "outputs": [],
   "source": [
    "# Functionizing the testing phase for reusability\n",
    "def test_step(model, data_loader, loss_fn, metric_fn):\n",
    "    test_loss, test_acc = 0, 0\n",
    "    model.eval()\n",
    "    with torch.inference_mode():\n",
    "        for X_, y_ in data_loader:\n",
    "            test_logits = model(X_)\n",
    "            test_pred = torch.softmax(test_logits, dim=1).argmax(dim=1)\n",
    "            test_loss += loss_fn(test_logits, y_)\n",
    "            test_acc += metric_fn(test_pred, y_)\n",
    "            \n",
    "        test_loss /= len(data_loader)\n",
    "        test_acc /= len(data_loader)\n",
    "    \n",
    "    print(f\"Test Loss: {test_loss:.5f}, Test Acc: {test_acc:.2f}\\n\")"
   ]
  },
  {
   "cell_type": "code",
   "execution_count": 37,
   "id": "56c8ec77",
   "metadata": {
    "ExecuteTime": {
     "end_time": "2023-02-23T14:08:50.661879Z",
     "start_time": "2023-02-23T14:07:40.303205Z"
    }
   },
   "outputs": [
    {
     "name": "stdout",
     "output_type": "stream",
     "text": [
      "Epoch: 0\n",
      "--------\n",
      "Train Loss: 0.63638, Train Acc: 0.77\n",
      "Test Loss: 0.52050, Test Acc: 0.81\n",
      "\n",
      "Epoch: 1\n",
      "--------\n",
      "Train Loss: 0.47512, Train Acc: 0.83\n",
      "Test Loss: 0.49984, Test Acc: 0.82\n",
      "\n",
      "Epoch: 2\n",
      "--------\n",
      "Train Loss: 0.44524, Train Acc: 0.84\n",
      "Test Loss: 0.47719, Test Acc: 0.83\n",
      "\n"
     ]
    }
   ],
   "source": [
    "torch.manual_seed(42)\n",
    "epochs = 3\n",
    "for epoch in range(epochs):\n",
    "    print(f\"Epoch: {epoch}\\n--------\")\n",
    "    train_step(model=model_1, data_loader=train_dataloader, loss_fn=loss_fn, optimizer=optimizer, metric_fn=metric_acc)\n",
    "    test_step(model=model_1, data_loader=test_dataloader, loss_fn=loss_fn, metric_fn=metric_acc)"
   ]
  },
  {
   "cell_type": "code",
   "execution_count": 38,
   "id": "b879e453",
   "metadata": {
    "ExecuteTime": {
     "end_time": "2023-02-23T14:08:50.693862Z",
     "start_time": "2023-02-23T14:08:50.666876Z"
    }
   },
   "outputs": [
    {
     "data": {
      "text/plain": [
       "{'model_name': 'FashionV0',\n",
       " 'model_loss': tensor(0.4790),\n",
       " 'model_acc': tensor(0.8348)}"
      ]
     },
     "execution_count": 38,
     "metadata": {},
     "output_type": "execute_result"
    }
   ],
   "source": [
    "model_0_results"
   ]
  },
  {
   "cell_type": "code",
   "execution_count": 39,
   "id": "10a71120",
   "metadata": {
    "ExecuteTime": {
     "end_time": "2023-02-23T14:08:53.854214Z",
     "start_time": "2023-02-23T14:08:50.698858Z"
    }
   },
   "outputs": [
    {
     "data": {
      "text/plain": [
       "{'model_name': 'FashionV1',\n",
       " 'model_loss': tensor(0.4772),\n",
       " 'model_acc': tensor(0.8341)}"
      ]
     },
     "execution_count": 39,
     "metadata": {},
     "output_type": "execute_result"
    }
   ],
   "source": [
    "model_1_results = eval_model(model_1, test_dataloader, loss_fn, metric_acc)\n",
    "model_1_results"
   ]
  },
  {
   "cell_type": "markdown",
   "id": "b9a7615b",
   "metadata": {},
   "source": [
    "It's visible from the results that there is not much difference between FashionV0 and FashionV1, despite FashionV1 utilizing non-linearity through the addition of `nn.ReLU()`. This means that there is still something missing and further experimentation is required."
   ]
  },
  {
   "cell_type": "markdown",
   "id": "ec755e13",
   "metadata": {},
   "source": [
    "## Convolutional Neural Networks <a name=\"convnet\" />"
   ]
  },
  {
   "cell_type": "markdown",
   "id": "a052048f",
   "metadata": {},
   "source": [
    "The neural networks thus far have been very standard, basic neural networks. However, neither of these models have been Convolutional Neural Networks (CNN), which were briefly touched upon earlier on. The following image contains an example of a very simple CNN structure:"
   ]
  },
  {
   "cell_type": "markdown",
   "id": "dee5cdcb",
   "metadata": {},
   "source": [
    "<img src=\"images/03_cnn_simple.png\" />"
   ]
  },
  {
   "cell_type": "markdown",
   "id": "c9cde675",
   "metadata": {},
   "source": [
    "Note that new research is continuously being performed and that the optimal ways of constructing such a neural network may change over time. Still, there will be various components available in such a network that have not been utilized so far. The convolutional layer and pooling layer are new additions that will need to be explored."
   ]
  },
  {
   "cell_type": "markdown",
   "id": "13b9e787",
   "metadata": {},
   "source": [
    "<img src=\"images/03_cnn_deeper.png\" />"
   ]
  },
  {
   "cell_type": "markdown",
   "id": "7a41e180",
   "metadata": {},
   "source": [
    "With these models being so highly customizable, it's also possible to add more and more layers to them. The theory behind this is: the more layers you add, the more opportunities the model has to discover patterns in the data. Each of these layers performs different combinations of mathematical operations to discover these patterns, and each of these layers receives its input from the previous layer. Of course, more is not always better."
   ]
  },
  {
   "cell_type": "markdown",
   "id": "93d65b87",
   "metadata": {},
   "source": [
    "CNN Explainer to fool around in: https://poloclub.github.io/cnn-explainer"
   ]
  },
  {
   "cell_type": "markdown",
   "id": "b45333ce",
   "metadata": {},
   "source": [
    "There is quite a lot going on inside a Convolutional Neural Network that has not been seen before. The CNN Explainer environment can be used as an example to illustrate what happens inside of such a structure. Inside of the input layer, input images are divided into 3 separate, **input channels**, based on RGB values. The images used in this example are of size 64x64."
   ]
  },
  {
   "cell_type": "markdown",
   "id": "1b998188",
   "metadata": {},
   "source": [
    "<img src=\"images/03_rgb.png\" />"
   ]
  },
  {
   "cell_type": "markdown",
   "id": "79843aad",
   "metadata": {},
   "source": [
    "Just like in other neural networks, each pixel has an activation value ranging from 0 to 1, representing how \"lit up\" each pixel is. In previous models, each of these pixels, or neurons, would have a weight and bias associated with it. In a Convolutional Neural Network, weights and biases are implemented as well, albeit in a slightly different way. The first hidden layer within a CNN like this is a **Convolutional Layer**, which performs an operation known as **convolution**."
   ]
  },
  {
   "cell_type": "markdown",
   "id": "50c921cf",
   "metadata": {},
   "source": [
    "<img src=\"images/03_convolution.png\" />"
   ]
  },
  {
   "cell_type": "markdown",
   "id": "9212f394",
   "metadata": {},
   "source": [
    "This operation is done by sliding a moving window of a height and width across the input image and performing an element-wise dot product of the neurons' activation values and the kernel's weights. Each channel receives a kernel with unique, random values. This window is referred to as a **kernel**. This operation is performed for every input channel (in this case Red, Green, and Blue). This entire process is referred to as a **filter**. Thus, a filter for this example case performs 3 kernels. The result of each kernel is referred to as an **activation map**."
   ]
  },
  {
   "cell_type": "markdown",
   "id": "a676fbcd",
   "metadata": {},
   "source": [
    "https://pytorch.org/docs/stable/generated/torch.nn.Conv2d"
   ]
  },
  {
   "cell_type": "code",
   "execution_count": 40,
   "id": "22393fb1",
   "metadata": {
    "ExecuteTime": {
     "end_time": "2023-02-23T14:08:53.886195Z",
     "start_time": "2023-02-23T14:08:53.859211Z"
    }
   },
   "outputs": [
    {
     "data": {
      "text/plain": [
       "(torch.Size([3, 64, 64]), torch.Size([10, 62, 62]))"
      ]
     },
     "execution_count": 40,
     "metadata": {},
     "output_type": "execute_result"
    }
   ],
   "source": [
    "# The convolution layer in PyTorch\n",
    "torch.manual_seed(42)\n",
    "conv_layer = nn.Conv2d(in_channels=3, out_channels=10, kernel_size=3, stride=1)\n",
    "conv_image = torch.randn(size=(3, 64, 64))\n",
    "conv_output = conv_layer(conv_image)\n",
    "conv_image.shape, conv_output.shape"
   ]
  },
  {
   "cell_type": "markdown",
   "id": "fd6caf96",
   "metadata": {},
   "source": [
    "Note that the resulting output (62x62) is slightly smaller than the given input (64x64)!"
   ]
  },
  {
   "cell_type": "markdown",
   "id": "4d31d9bf",
   "metadata": {},
   "source": [
    "How the convolution exactly works is determined by several hyperparameters. The most important ones are:\n",
    "\n",
    "- **Kernel size**\n",
    "- **Padding**\n",
    "- **Stride**\n",
    "\n",
    "The kernel size determines the size of the sliding window. If a size of 3 is chosen, then the sliding window will be 3x3 in size, as in the above example. This results in 9 mathematical operations for the element-wise dot product. \n",
    "\n",
    "Padding places a layer of pixels around the image's perimeter. As padding is places on all sides, a padding value of 1 would thus change an image of size 64x64 to size 66x66. Most commonly, the padded pixels have an activation value of 0, making this technique often referred to as zero-padding. Padding conserves data at the borders of images and it can improve performance. In addition, it helps to preserve image size, which would otherwise continuously decrease over multiple layers within a CNN.\n",
    "\n",
    "Stride determines the step size of the sliding window. With a stride of 1, the kernel moves over by 1 pixel. An increase in stride means a decrease in the number of dot products that need to be performed. Simultaneously, an increase in stride also means a decrease in size of the activation map."
   ]
  },
  {
   "cell_type": "markdown",
   "id": "db895833",
   "metadata": {},
   "source": [
    "<img src=\"images/03_kernel_params.png\" />"
   ]
  },
  {
   "cell_type": "markdown",
   "id": "7d9299a4",
   "metadata": {},
   "source": [
    "It's possible to create a combination of kernel size, padding, and stride, that does not fit well with the dimensions of the input data, resulting in leftovers or unexpected consequences. As a rule of thumb, the following expression can be upheld:"
   ]
  },
  {
   "cell_type": "markdown",
   "id": "bf3df7f2",
   "metadata": {},
   "source": [
    "$$\\Large(N-F)/stride+1$$"
   ]
  },
  {
   "cell_type": "markdown",
   "id": "f4147e48",
   "metadata": {},
   "source": [
    "Where N is the input size (including padding), F is the kernel size, and stride is the desired step size. If the result of this expression is not an integer, then the combination of hyperparameters is not possible or not desired."
   ]
  },
  {
   "cell_type": "markdown",
   "id": "69d72485",
   "metadata": {},
   "source": [
    "$\\Large(7-3)/1+1=5$<br>\n",
    "$\\Large(7-3)/2+1=3$<br>\n",
    "$\\Large(7-3)/3+1=2.33$ *Wrong!*"
   ]
  },
  {
   "cell_type": "markdown",
   "id": "b3f54348",
   "metadata": {},
   "source": [
    "The final result inside of the convolution layer is a summation of all the kernel's activation maps and biases. Afterwards, ReLU is applied, which is a familiar function so far."
   ]
  },
  {
   "cell_type": "markdown",
   "id": "ed745a90",
   "metadata": {},
   "source": [
    "<img src=\"images/03_relu.png\" />"
   ]
  },
  {
   "cell_type": "markdown",
   "id": "bf66353e",
   "metadata": {},
   "source": [
    "This process of convolution layer and ReLU is then repeated once again, and afterwards a new layer comes into play. This layer is known as the **pooling layer**. There are different kinds of pooling layers, but they have the purpose of gradually decreasing the spatial extent of the network, which reduces the parameters and overall computation of the network. The example from the CNN explainer uses max pooling. This type of pooling seeks out the highest from a group of numbers and discards the rest. It does this by utilizing a sliding window, or kernel, as well."
   ]
  },
  {
   "cell_type": "markdown",
   "id": "1f883cf7",
   "metadata": {},
   "source": [
    "The max pooling example in the CNN explainer uses a kernel size of 2 and a stride of 2."
   ]
  },
  {
   "cell_type": "markdown",
   "id": "a1f3c1ef",
   "metadata": {},
   "source": [
    "<img src=\"images/03_max_pool.png\" />"
   ]
  },
  {
   "cell_type": "markdown",
   "id": "d504b8e0",
   "metadata": {},
   "source": [
    "These hyperparameters result in a drastic decrease of size, from 60x60 to 30x30. Note that the input is already 60x60 instead of 64x64 here as it lost size by going through various convolution layers. This setup of convolutional layers, ReLU and pooling layers covers most of a CNN's functionality."
   ]
  },
  {
   "cell_type": "markdown",
   "id": "e09a7b13",
   "metadata": {},
   "source": [
    "https://pytorch.org/docs/stable/generated/torch.nn.MaxPool2d"
   ]
  },
  {
   "cell_type": "code",
   "execution_count": 41,
   "id": "28702d0f",
   "metadata": {
    "ExecuteTime": {
     "end_time": "2023-02-23T14:08:53.917177Z",
     "start_time": "2023-02-23T14:08:53.890192Z"
    }
   },
   "outputs": [
    {
     "data": {
      "text/plain": [
       "(torch.Size([3, 60, 60]), torch.Size([3, 30, 30]))"
      ]
     },
     "execution_count": 41,
     "metadata": {},
     "output_type": "execute_result"
    }
   ],
   "source": [
    "# The max pool layer in PyTorch\n",
    "torch.manual_seed(42)\n",
    "maxpool_layer = nn.MaxPool2d(kernel_size=2)\n",
    "maxpool_image = torch.randn(size=(3, 60, 60))\n",
    "maxpool_output = maxpool_layer(maxpool_image)\n",
    "maxpool_image.shape, maxpool_output.shape"
   ]
  },
  {
   "cell_type": "markdown",
   "id": "4818338a",
   "metadata": {},
   "source": [
    "At the end, usually after a final pooling layer, the resulting images within each neuron of that layer are flattened. All the pixel values are summed up and biases is added to create a logit value. Then a softmax function is applied over these logit results to determine which output neuron is the correct choice, based on normalized percentage values."
   ]
  },
  {
   "cell_type": "markdown",
   "id": "09c77723",
   "metadata": {},
   "source": [
    "<img src=\"images/03_softmax.png\" />"
   ]
  },
  {
   "cell_type": "markdown",
   "id": "76ec08c4",
   "metadata": {},
   "source": [
    "Note that at all times during this CNN process, activation values, weights, and biases are NOT constrained to laying between a value of 0 and 1. Size decreases, convolution operations, and intermediate calculations are all reasons for this happening. An example can be seen below."
   ]
  },
  {
   "cell_type": "markdown",
   "id": "facc5389",
   "metadata": {},
   "source": [
    "<img src=\"images/03_over_one.png\" />"
   ]
  },
  {
   "cell_type": "markdown",
   "id": "0a9e79a4",
   "metadata": {},
   "source": [
    "It's possible to replicate the entire CNN structure with PyTorch code as well."
   ]
  },
  {
   "cell_type": "code",
   "execution_count": 42,
   "id": "886cc4a7",
   "metadata": {
    "ExecuteTime": {
     "end_time": "2023-02-23T14:08:53.949161Z",
     "start_time": "2023-02-23T14:08:53.922174Z"
    }
   },
   "outputs": [],
   "source": [
    "# Manually writing the whole CNN for practice\n",
    "class FashionV2(nn.Module):\n",
    "    def __init__(self, in_shape: int, hidden_units: int, out_shape: int):\n",
    "        super().__init__()\n",
    "        self.conv_block_1 = nn.Sequential(\n",
    "            nn.Conv2d(\n",
    "                in_channels=in_shape,\n",
    "                out_channels=hidden_units,\n",
    "                kernel_size=3,\n",
    "                stride=1,\n",
    "                padding=1\n",
    "            ),\n",
    "            nn.ReLU(),\n",
    "            nn.Conv2d(\n",
    "                in_channels=hidden_units,\n",
    "                out_channels=hidden_units,\n",
    "                kernel_size=3,\n",
    "                stride=1,\n",
    "                padding=1\n",
    "            ),\n",
    "            nn.ReLU(),\n",
    "            nn.MaxPool2d(kernel_size=2)\n",
    "        )\n",
    "        self.conv_block_2 = nn.Sequential(\n",
    "            nn.Conv2d(\n",
    "                in_channels=hidden_units,\n",
    "                out_channels=hidden_units,\n",
    "                kernel_size=3,\n",
    "                stride=1,\n",
    "                padding=1\n",
    "            ),\n",
    "            nn.ReLU(),\n",
    "            nn.Conv2d(\n",
    "                in_channels=hidden_units,\n",
    "                out_channels=hidden_units,\n",
    "                kernel_size=3,\n",
    "                stride=1,\n",
    "                padding=1\n",
    "            ),\n",
    "            nn.ReLU(),\n",
    "            nn.MaxPool2d(kernel_size=2)\n",
    "        )\n",
    "        self.classifier = nn.Sequential(\n",
    "            nn.Flatten(),\n",
    "            nn.Linear(in_features=hidden_units*7*7, out_features=out_shape)        \n",
    "        )\n",
    "    \n",
    "    def forward(self, x: torch.tensor) -> torch.tensor:\n",
    "        #print(f\"Original output shape:{x.shape}\")\n",
    "        x = self.conv_block_1(x)\n",
    "        #print(f\"Shape after conv block 1:{x.shape}\")\n",
    "        x = self.conv_block_2(x)\n",
    "        #print(f\"Shape after conv block 2:{x.shape}\")\n",
    "        x = self.classifier(x)\n",
    "        return x"
   ]
  },
  {
   "cell_type": "code",
   "execution_count": 43,
   "id": "983ecd81",
   "metadata": {
    "ExecuteTime": {
     "end_time": "2023-02-23T14:08:53.964153Z",
     "start_time": "2023-02-23T14:08:53.954156Z"
    }
   },
   "outputs": [],
   "source": [
    "torch.manual_seed(42)\n",
    "model_2 = FashionV2(\n",
    "    in_shape=1,\n",
    "    hidden_units=10,\n",
    "    out_shape=len(class_names)\n",
    ")"
   ]
  },
  {
   "cell_type": "code",
   "execution_count": 44,
   "id": "f260892c",
   "metadata": {
    "ExecuteTime": {
     "end_time": "2023-02-23T14:08:53.994137Z",
     "start_time": "2023-02-23T14:08:53.970147Z"
    }
   },
   "outputs": [
    {
     "data": {
      "text/plain": [
       "FashionV2(\n",
       "  (conv_block_1): Sequential(\n",
       "    (0): Conv2d(1, 10, kernel_size=(3, 3), stride=(1, 1), padding=(1, 1))\n",
       "    (1): ReLU()\n",
       "    (2): Conv2d(10, 10, kernel_size=(3, 3), stride=(1, 1), padding=(1, 1))\n",
       "    (3): ReLU()\n",
       "    (4): MaxPool2d(kernel_size=2, stride=2, padding=0, dilation=1, ceil_mode=False)\n",
       "  )\n",
       "  (conv_block_2): Sequential(\n",
       "    (0): Conv2d(10, 10, kernel_size=(3, 3), stride=(1, 1), padding=(1, 1))\n",
       "    (1): ReLU()\n",
       "    (2): Conv2d(10, 10, kernel_size=(3, 3), stride=(1, 1), padding=(1, 1))\n",
       "    (3): ReLU()\n",
       "    (4): MaxPool2d(kernel_size=2, stride=2, padding=0, dilation=1, ceil_mode=False)\n",
       "  )\n",
       "  (classifier): Sequential(\n",
       "    (0): Flatten(start_dim=1, end_dim=-1)\n",
       "    (1): Linear(in_features=490, out_features=10, bias=True)\n",
       "  )\n",
       ")"
      ]
     },
     "execution_count": 44,
     "metadata": {},
     "output_type": "execute_result"
    }
   ],
   "source": [
    "model_2"
   ]
  },
  {
   "cell_type": "code",
   "execution_count": 45,
   "id": "41356fbe",
   "metadata": {
    "ExecuteTime": {
     "end_time": "2023-02-23T14:08:54.009125Z",
     "start_time": "2023-02-23T14:08:53.999131Z"
    }
   },
   "outputs": [],
   "source": [
    "loss_fn = nn.CrossEntropyLoss()\n",
    "optimizer = torch.optim.SGD(params=model_2.parameters(), lr=0.1)\n",
    "metric_acc = Accuracy(task=\"multiclass\", num_classes=10)"
   ]
  },
  {
   "cell_type": "code",
   "execution_count": 46,
   "id": "050887ef",
   "metadata": {
    "ExecuteTime": {
     "end_time": "2023-02-23T14:12:06.709191Z",
     "start_time": "2023-02-23T14:08:54.014122Z"
    }
   },
   "outputs": [
    {
     "name": "stdout",
     "output_type": "stream",
     "text": [
      "Epoch: 0\n",
      "--------\n",
      "Train Loss: 0.58791, Train Acc: 0.79\n",
      "Test Loss: 0.41568, Test Acc: 0.85\n",
      "\n",
      "Epoch: 1\n",
      "--------\n",
      "Train Loss: 0.36444, Train Acc: 0.87\n",
      "Test Loss: 0.34601, Test Acc: 0.87\n",
      "\n",
      "Epoch: 2\n",
      "--------\n",
      "Train Loss: 0.32567, Train Acc: 0.88\n",
      "Test Loss: 0.32380, Test Acc: 0.88\n",
      "\n"
     ]
    }
   ],
   "source": [
    "torch.manual_seed(42)\n",
    "epochs = 3\n",
    "for epoch in range(epochs):\n",
    "    print(f\"Epoch: {epoch}\\n--------\")\n",
    "    train_step(model=model_2, data_loader=train_dataloader, loss_fn=loss_fn, optimizer=optimizer, metric_fn=metric_acc)\n",
    "    test_step(model=model_2, data_loader=test_dataloader, loss_fn=loss_fn, metric_fn=metric_acc)"
   ]
  },
  {
   "cell_type": "markdown",
   "id": "c2887097",
   "metadata": {},
   "source": [
    "## Evaluation <a name=\"eval\" />"
   ]
  },
  {
   "cell_type": "code",
   "execution_count": 47,
   "id": "78147dad",
   "metadata": {
    "ExecuteTime": {
     "end_time": "2023-02-23T14:12:11.579201Z",
     "start_time": "2023-02-23T14:12:06.713188Z"
    }
   },
   "outputs": [
    {
     "data": {
      "text/plain": [
       "{'model_name': 'FashionV2',\n",
       " 'model_loss': tensor(0.3238),\n",
       " 'model_acc': tensor(0.8813)}"
      ]
     },
     "execution_count": 47,
     "metadata": {},
     "output_type": "execute_result"
    }
   ],
   "source": [
    "# Gathering model 2 results in a dictionary, similarly to the other two models\n",
    "model_2_results = eval_model(model_2, test_dataloader, loss_fn, metric_acc)\n",
    "model_2_results"
   ]
  },
  {
   "cell_type": "code",
   "execution_count": 48,
   "id": "72bda5aa",
   "metadata": {
    "ExecuteTime": {
     "end_time": "2023-02-23T14:12:11.624713Z",
     "start_time": "2023-02-23T14:12:11.583199Z"
    }
   },
   "outputs": [
    {
     "data": {
      "text/html": [
       "<div>\n",
       "<style scoped>\n",
       "    .dataframe tbody tr th:only-of-type {\n",
       "        vertical-align: middle;\n",
       "    }\n",
       "\n",
       "    .dataframe tbody tr th {\n",
       "        vertical-align: top;\n",
       "    }\n",
       "\n",
       "    .dataframe thead th {\n",
       "        text-align: right;\n",
       "    }\n",
       "</style>\n",
       "<table border=\"1\" class=\"dataframe\">\n",
       "  <thead>\n",
       "    <tr style=\"text-align: right;\">\n",
       "      <th></th>\n",
       "      <th>model_name</th>\n",
       "      <th>model_loss</th>\n",
       "      <th>model_acc</th>\n",
       "    </tr>\n",
       "  </thead>\n",
       "  <tbody>\n",
       "    <tr>\n",
       "      <th>0</th>\n",
       "      <td>FashionV0</td>\n",
       "      <td>tensor(0.4790)</td>\n",
       "      <td>tensor(0.8348)</td>\n",
       "    </tr>\n",
       "    <tr>\n",
       "      <th>1</th>\n",
       "      <td>FashionV1</td>\n",
       "      <td>tensor(0.4772)</td>\n",
       "      <td>tensor(0.8341)</td>\n",
       "    </tr>\n",
       "    <tr>\n",
       "      <th>2</th>\n",
       "      <td>FashionV2</td>\n",
       "      <td>tensor(0.3238)</td>\n",
       "      <td>tensor(0.8813)</td>\n",
       "    </tr>\n",
       "  </tbody>\n",
       "</table>\n",
       "</div>"
      ],
      "text/plain": [
       "  model_name      model_loss       model_acc\n",
       "0  FashionV0  tensor(0.4790)  tensor(0.8348)\n",
       "1  FashionV1  tensor(0.4772)  tensor(0.8341)\n",
       "2  FashionV2  tensor(0.3238)  tensor(0.8813)"
      ]
     },
     "execution_count": 48,
     "metadata": {},
     "output_type": "execute_result"
    }
   ],
   "source": [
    "# Neatly showing all model results thus far in a dataframe\n",
    "results_df = pd.DataFrame([model_0_results, model_1_results, model_2_results])\n",
    "results_df"
   ]
  },
  {
   "cell_type": "markdown",
   "id": "d4b52e7e",
   "metadata": {},
   "source": [
    "Recall that the first model (FashionV0) was the baseline model, which attained mediocre results. In the second model (FashionV1), non-linearity was introduced, which didn't seem to improve the model at all. The simple CNN-based model (FashionV2) did manage to improve the results even more. This shows how CNNs are better equipped for usage in use cases about images."
   ]
  },
  {
   "cell_type": "code",
   "execution_count": 49,
   "id": "211840d3",
   "metadata": {
    "ExecuteTime": {
     "end_time": "2023-02-23T14:12:13.493142Z",
     "start_time": "2023-02-23T14:12:11.629712Z"
    }
   },
   "outputs": [],
   "source": [
    "# Grabbing 9 random samples to use the FashionV2 model on\n",
    "test_samples, test_labels = [], []\n",
    "for sample, label in random.sample(list(test_data), k=9):\n",
    "    test_samples.append(sample)\n",
    "    test_labels.append(label)"
   ]
  },
  {
   "cell_type": "code",
   "execution_count": 50,
   "id": "c7f41539",
   "metadata": {
    "ExecuteTime": {
     "end_time": "2023-02-23T14:12:13.854253Z",
     "start_time": "2023-02-23T14:12:13.496140Z"
    }
   },
   "outputs": [
    {
     "data": {
      "image/png": "[encoded data removed]",
      "text/plain": [
       "<Figure size 640x480 with 1 Axes>"
      ]
     },
     "metadata": {},
     "output_type": "display_data"
    }
   ],
   "source": [
    "plt.imshow(test_samples[0].squeeze(), cmap=\"gray\")\n",
    "plt.title(class_names[test_labels[0]]);"
   ]
  },
  {
   "cell_type": "code",
   "execution_count": 51,
   "id": "972d92f6",
   "metadata": {
    "ExecuteTime": {
     "end_time": "2023-02-23T14:12:13.884235Z",
     "start_time": "2023-02-23T14:12:13.857253Z"
    }
   },
   "outputs": [
    {
     "data": {
      "text/plain": [
       "(tensor([0, 6, 7, 6, 7, 0, 0, 0, 1]), [0, 6, 7, 6, 7, 0, 0, 3, 1])"
      ]
     },
     "execution_count": 51,
     "metadata": {},
     "output_type": "execute_result"
    }
   ],
   "source": [
    "with torch.inference_mode():\n",
    "    y_preds = []\n",
    "    for sample in test_samples:\n",
    "        y_logit = model_2(sample.unsqueeze(dim=0))\n",
    "        y_prob = torch.softmax(y_logit.squeeze(), dim=0).argmax(dim=0)\n",
    "        y_preds.append(y_prob)\n",
    "torch.stack(y_preds), test_labels"
   ]
  },
  {
   "cell_type": "code",
   "execution_count": 52,
   "id": "aeaa6a60",
   "metadata": {
    "ExecuteTime": {
     "end_time": "2023-02-23T14:12:14.679216Z",
     "start_time": "2023-02-23T14:12:13.888234Z"
    }
   },
   "outputs": [
    {
     "data": {
      "image/png": "[encoded data removed]",
      "text/plain": [
       "<Figure size 900x900 with 9 Axes>"
      ]
     },
     "metadata": {},
     "output_type": "display_data"
    }
   ],
   "source": [
    "torch.manual_seed(42)\n",
    "fig = plt.figure(figsize=(9, 9))\n",
    "rows, cols = 3, 3\n",
    "for i, sample in enumerate(test_samples):\n",
    "    plt.subplot(rows, cols, i+1)\n",
    "    plt.imshow(sample.squeeze(), cmap=\"gray\")\n",
    "    pred_label = class_names[y_preds[i]]\n",
    "    actual_label = class_names[test_labels[i]]\n",
    "    title = f\"Pred: {pred_label} | Actual: {actual_label}\"\n",
    "    if pred_label == actual_label:\n",
    "        plt.title(title, fontsize=10, c=\"g\")\n",
    "    else:\n",
    "        plt.title(title, fontsize=10, c=\"r\")\n",
    "    plt.axis(False);"
   ]
  },
  {
   "cell_type": "markdown",
   "id": "210a0b0b",
   "metadata": {},
   "source": [
    "It's also possible to make a confusion matrix, which is conveniently built into PyTorch's torchmetrics library as well. To have this confusion matrix accurately represent the data, predictions will first be made on the entire testing dataset. An additional small library as mlxtend can also be used to plot said confusion matrix."
   ]
  },
  {
   "cell_type": "markdown",
   "id": "b1a85b0d",
   "metadata": {},
   "source": [
    "https://torchmetrics.readthedocs.io/en/stable/classification/confusion_matrix.html<br>\n",
    "https://rasbt.github.io/mlxtend/user_guide/plotting/plot_confusion_matrix"
   ]
  },
  {
   "cell_type": "code",
   "execution_count": 53,
   "id": "abf23853",
   "metadata": {
    "ExecuteTime": {
     "end_time": "2023-02-23T14:12:18.996667Z",
     "start_time": "2023-02-23T14:12:14.683196Z"
    }
   },
   "outputs": [],
   "source": [
    "y_preds = []\n",
    "model_2.eval()\n",
    "with torch.inference_mode():\n",
    "    # As the dataloader contains batches, it's not necessary to unsqueeze an additional dimension\n",
    "    for X, y in test_dataloader:\n",
    "        y_logit = model_2(X)\n",
    "        y_pred = torch.softmax(y_logit.squeeze(), dim=0).argmax(dim=1)\n",
    "        y_preds.append(y_pred)\n",
    "        \n",
    "y_preds_tensor = torch.cat(y_preds)"
   ]
  },
  {
   "cell_type": "code",
   "execution_count": 54,
   "id": "7c8a2b39",
   "metadata": {
    "ExecuteTime": {
     "end_time": "2023-02-23T14:12:19.011657Z",
     "start_time": "2023-02-23T14:12:19.000663Z"
    }
   },
   "outputs": [
    {
     "data": {
      "text/plain": [
       "(10000, 10000)"
      ]
     },
     "execution_count": 54,
     "metadata": {},
     "output_type": "execute_result"
    }
   ],
   "source": [
    "# Result has the same length as the testing data\n",
    "len(y_preds_tensor), len(test_data)"
   ]
  },
  {
   "cell_type": "code",
   "execution_count": 55,
   "id": "68c7d7fd",
   "metadata": {
    "ExecuteTime": {
     "end_time": "2023-02-23T14:12:19.026649Z",
     "start_time": "2023-02-23T14:12:19.016655Z"
    }
   },
   "outputs": [
    {
     "data": {
      "text/plain": [
       "tensor([9, 2, 1,  ..., 8, 1, 5])"
      ]
     },
     "execution_count": 55,
     "metadata": {},
     "output_type": "execute_result"
    }
   ],
   "source": [
    "test_data.targets"
   ]
  },
  {
   "cell_type": "code",
   "execution_count": 56,
   "id": "272abb3c",
   "metadata": {
    "ExecuteTime": {
     "end_time": "2023-02-23T14:12:19.042639Z",
     "start_time": "2023-02-23T14:12:19.031647Z"
    }
   },
   "outputs": [],
   "source": [
    "# Creation of the confusion matrix\n",
    "confmat = ConfusionMatrix(task=\"multiclass\", num_classes=len(class_names))\n",
    "confmat_tensor = confmat(preds=y_preds_tensor, target=test_data.targets)"
   ]
  },
  {
   "cell_type": "code",
   "execution_count": 57,
   "id": "605695f3",
   "metadata": {
    "ExecuteTime": {
     "end_time": "2023-02-23T14:12:19.072624Z",
     "start_time": "2023-02-23T14:12:19.046639Z"
    }
   },
   "outputs": [
    {
     "data": {
      "text/plain": [
       "tensor([[611,   6,  42,  85,   9,   0, 240,   0,   7,   0],\n",
       "        [  7, 900,  10,  62,  10,   1,   6,   1,   3,   0],\n",
       "        [  7,   3, 793,  15, 105,   0,  72,   0,   5,   0],\n",
       "        [ 27,  11,  24, 854,  40,   0,  35,   0,   7,   2],\n",
       "        [  5,   4, 105,  53, 721,   0, 108,   0,   4,   0],\n",
       "        [  8,   2,   7,   5,   0, 844,   4,  52,  57,  21],\n",
       "        [ 74,   8, 110,  72,  81,   0, 647,   0,   8,   0],\n",
       "        [  1,   1,   0,   0,   0,  36,   0, 892,  15,  55],\n",
       "        [ 13,   3,  10,  14,   8,   9,  40,  10, 892,   1],\n",
       "        [  0,   0,   3,   4,   0,  32,   5,  99,  12, 845]])"
      ]
     },
     "execution_count": 57,
     "metadata": {},
     "output_type": "execute_result"
    }
   ],
   "source": [
    "confmat_tensor"
   ]
  },
  {
   "cell_type": "code",
   "execution_count": 58,
   "id": "e65de384",
   "metadata": {
    "ExecuteTime": {
     "end_time": "2023-02-23T14:12:19.663285Z",
     "start_time": "2023-02-23T14:12:19.076620Z"
    }
   },
   "outputs": [
    {
     "data": {
      "image/png": "[encoded data removed]",
      "text/plain": [
       "<Figure size 1000x700 with 1 Axes>"
      ]
     },
     "metadata": {},
     "output_type": "display_data"
    }
   ],
   "source": [
    "# Using mlxtend and matplotlib to visualize the confmat_tensor as a proper confusion matrix\n",
    "fig, ax = plot_confusion_matrix(\n",
    "    conf_mat=confmat_tensor.numpy(), # conversion to numpy is needed here\n",
    "    class_names=class_names,\n",
    "    figsize=(10,7)\n",
    ")"
   ]
  },
  {
   "cell_type": "markdown",
   "id": "23c27ad0",
   "metadata": {},
   "source": [
    "## Saving and Loading <a name=\"saveload\" />"
   ]
  },
  {
   "cell_type": "markdown",
   "id": "8bbc2c6c",
   "metadata": {},
   "source": [
    "The saving and loading models will once again utilize several functions that were used before. These are:\n",
    "- `torch.save()`: Save a PyTorch object in Python's pickle format\n",
    "- `torch.load()`: Load a saved PyTorch object\n",
    "- `torch.nn.Module.load_state_dict()`: Load a model's saved state dictionary\n",
    "\n",
    "https://pytorch.org/tutorials/beginner/saving_loading_models"
   ]
  },
  {
   "cell_type": "code",
   "execution_count": 59,
   "id": "41777e60",
   "metadata": {
    "ExecuteTime": {
     "end_time": "2023-02-23T14:12:19.678276Z",
     "start_time": "2023-02-23T14:12:19.667283Z"
    }
   },
   "outputs": [],
   "source": [
    "# Saving the model in the local /models folder\n",
    "MODEL_PATH = \"models\"\n",
    "MODEL_NAME = \"03_pytorch_computer_vision_modelv2.pth\"\n",
    "MODEL_SAVE_PATH = f\"{MODEL_PATH}/{MODEL_NAME}\"\n",
    "#torch.save(obj=model_2.state_dict(), f=MODEL_SAVE_PATH)"
   ]
  },
  {
   "cell_type": "code",
   "execution_count": 60,
   "id": "b5b1fd8b",
   "metadata": {
    "ExecuteTime": {
     "end_time": "2023-02-23T14:12:19.709259Z",
     "start_time": "2023-02-23T14:12:19.683276Z"
    }
   },
   "outputs": [
    {
     "data": {
      "text/plain": [
       "<All keys matched successfully>"
      ]
     },
     "execution_count": 60,
     "metadata": {},
     "output_type": "execute_result"
    }
   ],
   "source": [
    "# Instantiate new instance of the FashionV2() class\n",
    "# Load the state_dict of the saved model into the new instance\n",
    "loaded_model_2 = FashionV2(\n",
    "    in_shape=1,\n",
    "    hidden_units=10,\n",
    "    out_shape=len(class_names)\n",
    ")\n",
    "loaded_model_2.load_state_dict(torch.load(f=MODEL_SAVE_PATH))"
   ]
  },
  {
   "cell_type": "code",
   "execution_count": 61,
   "id": "39f009cf",
   "metadata": {
    "ExecuteTime": {
     "end_time": "2023-02-23T14:12:19.724250Z",
     "start_time": "2023-02-23T14:12:19.713256Z"
    }
   },
   "outputs": [
    {
     "data": {
      "text/plain": [
       "FashionV2(\n",
       "  (conv_block_1): Sequential(\n",
       "    (0): Conv2d(1, 10, kernel_size=(3, 3), stride=(1, 1), padding=(1, 1))\n",
       "    (1): ReLU()\n",
       "    (2): Conv2d(10, 10, kernel_size=(3, 3), stride=(1, 1), padding=(1, 1))\n",
       "    (3): ReLU()\n",
       "    (4): MaxPool2d(kernel_size=2, stride=2, padding=0, dilation=1, ceil_mode=False)\n",
       "  )\n",
       "  (conv_block_2): Sequential(\n",
       "    (0): Conv2d(10, 10, kernel_size=(3, 3), stride=(1, 1), padding=(1, 1))\n",
       "    (1): ReLU()\n",
       "    (2): Conv2d(10, 10, kernel_size=(3, 3), stride=(1, 1), padding=(1, 1))\n",
       "    (3): ReLU()\n",
       "    (4): MaxPool2d(kernel_size=2, stride=2, padding=0, dilation=1, ceil_mode=False)\n",
       "  )\n",
       "  (classifier): Sequential(\n",
       "    (0): Flatten(start_dim=1, end_dim=-1)\n",
       "    (1): Linear(in_features=490, out_features=10, bias=True)\n",
       "  )\n",
       ")"
      ]
     },
     "execution_count": 61,
     "metadata": {},
     "output_type": "execute_result"
    }
   ],
   "source": [
    "loaded_model_2"
   ]
  },
  {
   "cell_type": "code",
   "execution_count": 62,
   "id": "55222964",
   "metadata": {
    "ExecuteTime": {
     "end_time": "2023-02-23T14:12:24.608168Z",
     "start_time": "2023-02-23T14:12:19.729250Z"
    }
   },
   "outputs": [
    {
     "data": {
      "text/plain": [
       "({'model_name': 'FashionV2',\n",
       "  'model_loss': tensor(0.3238),\n",
       "  'model_acc': tensor(0.8813)},\n",
       " {'model_name': 'FashionV2',\n",
       "  'model_loss': tensor(0.3238),\n",
       "  'model_acc': tensor(0.8813)})"
      ]
     },
     "execution_count": 62,
     "metadata": {},
     "output_type": "execute_result"
    }
   ],
   "source": [
    "# The results are the same!\n",
    "loaded_model_2_results = eval_model(loaded_model_2, test_dataloader, loss_fn, metric_acc)\n",
    "model_2_results, loaded_model_2_results"
   ]
  },
  {
   "cell_type": "markdown",
   "id": "254d034d",
   "metadata": {},
   "source": [
    "It's also possible to use `torch.isclose()` to see if tensors are \"close\" to each other. See the docs for more specifics on how this works: https://pytorch.org/docs/stable/generated/torch.isclose"
   ]
  },
  {
   "cell_type": "code",
   "execution_count": 63,
   "id": "1e96e0e7",
   "metadata": {
    "ExecuteTime": {
     "end_time": "2023-02-23T14:12:24.639150Z",
     "start_time": "2023-02-23T14:12:24.613165Z"
    }
   },
   "outputs": [
    {
     "data": {
      "text/plain": [
       "tensor(True)"
      ]
     },
     "execution_count": 63,
     "metadata": {},
     "output_type": "execute_result"
    }
   ],
   "source": [
    "# The results are close to each other (the same)!\n",
    "torch.isclose(model_2_results[\"model_loss\"], loaded_model_2_results[\"model_loss\"])"
   ]
  }
 ],
 "metadata": {
  "kernelspec": {
   "display_name": "Python 3 (ipykernel)",
   "language": "python",
   "name": "python3"
  },
  "language_info": {
   "codemirror_mode": {
    "name": "ipython",
    "version": 3
   },
   "file_extension": ".py",
   "mimetype": "text/x-python",
   "name": "python",
   "nbconvert_exporter": "python",
   "pygments_lexer": "ipython3",
   "version": "3.9.13"
  }
 },
 "nbformat": 4,
 "nbformat_minor": 5
}
