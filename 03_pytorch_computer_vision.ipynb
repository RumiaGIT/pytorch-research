{
 "cells": [
  {
   "cell_type": "markdown",
   "id": "d83acca6",
   "metadata": {},
   "source": [
    "# 02. PyTorch Computer Vision"
   ]
  },
  {
   "cell_type": "markdown",
   "id": "dbd779fa",
   "metadata": {},
   "source": [
    "https://www.learnpytorch.io/03_pytorch_computer_vision/"
   ]
  },
  {
   "cell_type": "markdown",
   "id": "2de6df49",
   "metadata": {},
   "source": [
    "## Table of Contents"
   ]
  },
  {
   "cell_type": "markdown",
   "id": "43974f9d",
   "metadata": {},
   "source": [
    "- [All Links in Document](#links)\n",
    "- [PyTorch Computer Vision](#compvis)"
   ]
  },
  {
   "cell_type": "markdown",
   "id": "a74ae21c",
   "metadata": {},
   "source": [
    "## All Links in Document <a name=\"links\"></a>"
   ]
  },
  {
   "cell_type": "markdown",
   "id": "46f881e7",
   "metadata": {},
   "source": [
    "- a\n",
    "- b\n",
    "- c"
   ]
  },
  {
   "cell_type": "markdown",
   "id": "733ca3d1",
   "metadata": {},
   "source": [
    "## PyTorch Computer Vision <a name=\"compvis\" />"
   ]
  },
  {
   "cell_type": "code",
   "execution_count": 2,
   "id": "b566d360",
   "metadata": {
    "ExecuteTime": {
     "end_time": "2023-02-13T14:19:58.113551Z",
     "start_time": "2023-02-13T14:19:57.349936Z"
    }
   },
   "outputs": [],
   "source": [
    "# Imports\n",
    "import torch\n",
    "from torch import nn\n",
    "import numpy as np\n",
    "import matplotlib.pyplot as plt\n",
    "import pandas as pd\n",
    "\n",
    "# Helper functions from helper_functions.py"
   ]
  },
  {
   "cell_type": "code",
   "execution_count": null,
   "id": "c24ebaa7",
   "metadata": {},
   "outputs": [],
   "source": []
  }
 ],
 "metadata": {
  "kernelspec": {
   "display_name": "Python 3 (ipykernel)",
   "language": "python",
   "name": "python3"
  },
  "language_info": {
   "codemirror_mode": {
    "name": "ipython",
    "version": 3
   },
   "file_extension": ".py",
   "mimetype": "text/x-python",
   "name": "python",
   "nbconvert_exporter": "python",
   "pygments_lexer": "ipython3",
   "version": "3.9.13"
  }
 },
 "nbformat": 4,
 "nbformat_minor": 5
}
