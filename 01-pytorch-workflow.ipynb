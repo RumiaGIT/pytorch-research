{
 "cells": [
  {
   "cell_type": "markdown",
   "id": "b20389ad",
   "metadata": {},
   "source": [
    "# 01. PyTorch Workflow"
   ]
  },
  {
   "cell_type": "markdown",
   "id": "2cc21b1b",
   "metadata": {},
   "source": [
    "## Table of Contents"
   ]
  },
  {
   "cell_type": "markdown",
   "id": "4ebf86df",
   "metadata": {},
   "source": [
    "- [All Links in Document](#links)\n",
    "- [PyTorch Workflow](#workflow)\n",
    "- [Loading and Preparing Data](#loadprep)\n",
    "- [Building a Model](#buildmodel)"
   ]
  },
  {
   "cell_type": "markdown",
   "id": "cfe42e38",
   "metadata": {},
   "source": [
    "## All Links in Document <a name=\"links\"></a>"
   ]
  },
  {
   "cell_type": "markdown",
   "id": "825ca8c4",
   "metadata": {},
   "source": [
    "- https://pytorch.org/docs/stable/nn.html\n",
    "- https://realpython.com/python3-object-oriented-programming/\n",
    "- https://pytorch.org/docs/stable/generated/torch.nn.Module.html\n",
    "- What is a Neural Network?: https://www.youtube.com/watch?v=aircAruvnKk\n",
    "- Gradient Descent: https://www.youtube.com/watch?v=IHZwWFHWa-w\n",
    "- Backpropagation: https://www.youtube.com/watch?v=Ilg3gGewQ5U"
   ]
  },
  {
   "cell_type": "markdown",
   "id": "baa9380d",
   "metadata": {},
   "source": [
    "## PyTorch Workflow <a name=\"workflow\"></a>"
   ]
  },
  {
   "cell_type": "markdown",
   "id": "0390b885",
   "metadata": {},
   "source": [
    "There are many different workflows to follow for a project. This section of the document will explore one example workflow. The workflow changes depending on which steps are necessary. The below image shows a typical workflow with example steps."
   ]
  },
  {
   "cell_type": "markdown",
   "id": "5756fdf5",
   "metadata": {},
   "source": [
    "<img src=\"images/01_workflow.png\" width=\"750\" />"
   ]
  },
  {
   "cell_type": "code",
   "execution_count": 1,
   "id": "fc8bc5cd",
   "metadata": {
    "ExecuteTime": {
     "end_time": "2023-01-18T13:14:39.622754Z",
     "start_time": "2023-01-18T13:14:33.524585Z"
    }
   },
   "outputs": [],
   "source": [
    "import torch\n",
    "from torch import nn\n",
    "import matplotlib.pyplot as plt"
   ]
  },
  {
   "cell_type": "code",
   "execution_count": 2,
   "id": "000f40d6",
   "metadata": {
    "ExecuteTime": {
     "end_time": "2023-01-18T13:14:39.654741Z",
     "start_time": "2023-01-18T13:14:39.627752Z"
    }
   },
   "outputs": [
    {
     "data": {
      "text/plain": [
       "'1.13.1+cu117'"
      ]
     },
     "execution_count": 2,
     "metadata": {},
     "output_type": "execute_result"
    }
   ],
   "source": [
    "torch.__version__"
   ]
  },
  {
   "cell_type": "markdown",
   "id": "06dc28f6",
   "metadata": {},
   "source": [
    "torch.nn houses all the necessary tools and building blocks for working with neural networks. The docs are found at https://pytorch.org/docs/stable/nn.html"
   ]
  },
  {
   "cell_type": "markdown",
   "id": "88e97cfa",
   "metadata": {},
   "source": [
    "## Loading and Preparing Data  <a name=\"loadprep\"></a>"
   ]
  },
  {
   "cell_type": "markdown",
   "id": "d3c3b7dc",
   "metadata": {},
   "source": [
    "Data can be almost anything in machine learning. Example data formats are:\n",
    "- Excel spreadsheet\n",
    "- An image\n",
    "- Videos\n",
    "- Audio\n",
    "- DNA\n",
    "- Textual sequences\n",
    "\n",
    "Machine learning is a game of 2 steps:\n",
    "- Convert data into numerical representation\n",
    "- Find patterns in the numerical data with a model"
   ]
  },
  {
   "cell_type": "markdown",
   "id": "bac6e2a8",
   "metadata": {},
   "source": [
    "Example linear regression formula: $Y_i=f(X_i,\\beta)+\\epsilon_i$"
   ]
  },
  {
   "cell_type": "code",
   "execution_count": 3,
   "id": "4e30c0ce",
   "metadata": {
    "ExecuteTime": {
     "end_time": "2023-01-18T13:14:39.718414Z",
     "start_time": "2023-01-18T13:14:39.658735Z"
    }
   },
   "outputs": [],
   "source": [
    "# Manually creating some data using a linear regression\n",
    "# Known parameters\n",
    "weight = 0.7\n",
    "bias = 0.3\n",
    "\n",
    "X = torch.arange(0, 1, 0.02).unsqueeze(dim=1)\n",
    "y = weight * X + bias"
   ]
  },
  {
   "cell_type": "markdown",
   "id": "e889ca99",
   "metadata": {},
   "source": [
    "Bias = intercept, weight = slope"
   ]
  },
  {
   "cell_type": "code",
   "execution_count": 4,
   "id": "ff13c26f",
   "metadata": {
    "ExecuteTime": {
     "end_time": "2023-01-18T13:14:39.734404Z",
     "start_time": "2023-01-18T13:14:39.723401Z"
    },
    "scrolled": true
   },
   "outputs": [
    {
     "data": {
      "text/plain": [
       "(torch.Size([50, 1]), torch.Size([50, 1]))"
      ]
     },
     "execution_count": 4,
     "metadata": {},
     "output_type": "execute_result"
    }
   ],
   "source": [
    "X.shape, y.shape"
   ]
  },
  {
   "cell_type": "markdown",
   "id": "f763a614",
   "metadata": {},
   "source": [
    "It's also necessary to split the dataset into various smaller datasets. This is always a split between a training and testing dataset, and occasionally a validation dataset as well. The splitting is done according to a test design, which determines the percentage of data to use for each split. Common ratios between training, validation, and testing datasets are:\n",
    "- 80:10:10\n",
    "- 70:15:15\n",
    "- 60:20:20"
   ]
  },
  {
   "cell_type": "markdown",
   "id": "07f813c0",
   "metadata": {},
   "source": [
    "In a school analogy, the training set equates to the course materials to study on, the validation set equates to a practice exam (which is optional), and the testing set equates to the final exam."
   ]
  },
  {
   "cell_type": "markdown",
   "id": "f9b85925",
   "metadata": {
    "ExecuteTime": {
     "end_time": "2023-01-16T13:32:31.335314Z",
     "start_time": "2023-01-16T13:32:31.318324Z"
    }
   },
   "source": [
    "<img src=\"images/01_traintestsplit.png\" />"
   ]
  },
  {
   "cell_type": "code",
   "execution_count": 5,
   "id": "97efb399",
   "metadata": {
    "ExecuteTime": {
     "end_time": "2023-01-18T13:14:39.766211Z",
     "start_time": "2023-01-18T13:14:39.738394Z"
    }
   },
   "outputs": [
    {
     "data": {
      "text/plain": [
       "(40, 40, 10, 10)"
      ]
     },
     "execution_count": 5,
     "metadata": {},
     "output_type": "execute_result"
    }
   ],
   "source": [
    "# Manually creating a simple train/test split with an 80:20 ratio\n",
    "split = int(0.8 * len(X))\n",
    "X_train, y_train = X[:split], y[:split]\n",
    "X_test, y_test = X[split:], y[split:]\n",
    "len(X_train), len(y_train), len(X_test), len(y_test)"
   ]
  },
  {
   "cell_type": "code",
   "execution_count": 6,
   "id": "11ef5932",
   "metadata": {
    "ExecuteTime": {
     "end_time": "2023-01-18T13:14:39.781203Z",
     "start_time": "2023-01-18T13:14:39.769198Z"
    }
   },
   "outputs": [],
   "source": [
    "# Simple visualization function\n",
    "def plot_predictions(train_data, train_labels, test_data, test_labels, predictions=None):\n",
    "    plt.scatter(train_data, train_labels, c=\"b\", s=4, label=\"Training Data\")\n",
    "    plt.scatter(test_data, test_labels, c=\"g\", s=4, label=\"Testing Data\")\n",
    "    \n",
    "    if predictions:\n",
    "        plt.scatter(test_data, predictions, c=\"r\", s=4, label=\"Predictions\")\n",
    "        \n",
    "    plt.legend()"
   ]
  },
  {
   "cell_type": "code",
   "execution_count": 7,
   "id": "a0ccbe7b",
   "metadata": {
    "ExecuteTime": {
     "end_time": "2023-01-18T13:14:40.156956Z",
     "start_time": "2023-01-18T13:14:39.784192Z"
    }
   },
   "outputs": [
    {
     "data": {
      "image/png": "[encoded data removed]",
      "text/plain": [
       "<Figure size 640x480 with 1 Axes>"
      ]
     },
     "metadata": {},
     "output_type": "display_data"
    }
   ],
   "source": [
    "plot_predictions(X_train, y_train, X_test, y_test)"
   ]
  },
  {
   "cell_type": "markdown",
   "id": "57a9755d",
   "metadata": {},
   "source": [
    "## Building a Model <a name=\"buildmodel\"></a>"
   ]
  },
  {
   "cell_type": "markdown",
   "id": "3be5c4d8",
   "metadata": {},
   "source": [
    "What is a Neural Network?: https://www.youtube.com/watch?v=aircAruvnKk"
   ]
  },
  {
   "cell_type": "markdown",
   "id": "53696102",
   "metadata": {},
   "source": [
    "A neuron is essentially \"a thing that holds a number\", specifically a number between 0 and 1. Using a neural network that uses images as input as an example, a neuron here would correspond to a pixel. If an image of size 28x28 is used, that totals to 784 pixels and thus 784 neurons. Each neuron has an \"activation\", which refers to the numerical value of the neuron. As mentioned, this ranges from 0 to 1. In an example greyscale image, this could refer to the shade of the pixel, with 0 being black and 1 being white. A 28x28 image thus has 784 pixels, meaning 784 neurons, and 784 activations. This is what the input layer will consist of. Each neuron will also have a weight associated with it, which is a random number representing the importance of said for another neuron in the next layer. This gets adjusted over time as the neural networks learns."
   ]
  },
  {
   "cell_type": "markdown",
   "id": "4735b5c2",
   "metadata": {},
   "source": [
    "What happens inside the hidden layers is explained later. For each of the neurons inside the next hidden layer, a calculation is made based on the weights, activations, and optional bias of neurons in the previous layer. At the beginning of the neural network, this calculation is logically made on the input layer. Assume the following structure:"
   ]
  },
  {
   "cell_type": "markdown",
   "id": "8ba3b9ad",
   "metadata": {},
   "source": [
    "<img src=\"images/01_nnexample.png\" />"
   ]
  },
  {
   "cell_type": "markdown",
   "id": "0ae2ad74",
   "metadata": {},
   "source": [
    "An example formula of the calculation made for the first neuron of layer on the right (the first hidden layer) would be:\n",
    "\n",
    "$a_1=\\sigma(w_1x_1 + w_2x_2 + ... + w_nx_n + b_0)$\n",
    "\n",
    "where; $a_1$ is the first neuron of the hidden layer, $\\sigma$ is the sigmoid function, $w$ is the weight of a specific activation, $x$ is a specific activation, and $b$ is the bias."
   ]
  },
  {
   "cell_type": "markdown",
   "id": "238ef3bb",
   "metadata": {},
   "source": [
    "The output of such a formula is a totally random number as the weights are random, the activations are random, and the bias is any arbitrary number as well. The result of this weighted sum can be squished into a number between 0 and 1 to make its output legible. This is done with the sigmoid function in the formula. The end result is then fed to the neuron of the input layer. This process is repeated for all neurons of the input layer for every neuron of the next hidden layer."
   ]
  },
  {
   "cell_type": "markdown",
   "id": "5d9d21ed",
   "metadata": {},
   "source": [
    "The formula can also be displayed in matrix multiplication form:"
   ]
  },
  {
   "cell_type": "markdown",
   "id": "138dc9ba",
   "metadata": {},
   "source": [
    "<img src=\"images/01_nnmatmul.png\" />"
   ]
  },
  {
   "cell_type": "markdown",
   "id": "0bc6d6b5",
   "metadata": {},
   "source": [
    "The entire transition of activations from one layer to the next can be summarized to a small expression:\n",
    "\n",
    "$a^\\text{(1)} = \\sigma(Wa^\\text{(0)}+b)$\n",
    "\n",
    "where; $a^\\text{(1)}$ is the first hidden layer, $W$ represents the weights, $a^\\text{(0)}$ is the input layer, $b$ are all the biases, and $\\sigma$ is again the sigmoid function. How the hidden layers work and how the neural network learns is handled in another topic."
   ]
  },
  {
   "cell_type": "markdown",
   "id": "fb60eaeb",
   "metadata": {},
   "source": [
    "Extra OOP classes help if necessary: https://realpython.com/python3-object-oriented-programming/"
   ]
  },
  {
   "cell_type": "markdown",
   "id": "cd6fb2b4",
   "metadata": {},
   "source": [
    "The documentation at https://pytorch.org/docs/stable/generated/torch.nn.Module.html states:\n",
    "- Base class for all neural network modules.\n",
    "- Your models should also subclass this class."
   ]
  },
  {
   "cell_type": "code",
   "execution_count": 8,
   "id": "121ea178",
   "metadata": {
    "ExecuteTime": {
     "end_time": "2023-01-18T13:14:40.172947Z",
     "start_time": "2023-01-18T13:14:40.161954Z"
    }
   },
   "outputs": [],
   "source": [
    "# Create linear regression model class from scratch\n",
    "# Almost everything in PyTorch inherits from nn.Module\n",
    "class LinearRegressionModel(nn.Module):\n",
    "    def __init__(self):\n",
    "        super().__init__()\n",
    "        self.weights = nn.Parameter(torch.randn(1, requires_grad=True, dtype=torch.float32))\n",
    "        self.bias = nn.Parameter(torch.randn(1, requires_grad=True, dtype=torch.float32))\n",
    "        \n",
    "    def forward(self, x: torch.Tensor) -> torch.Tensor:\n",
    "        return self.weights * x + self.bias"
   ]
  },
  {
   "cell_type": "markdown",
   "id": "3e31924f",
   "metadata": {},
   "source": [
    "What this model does:\n",
    "- Start with random values (weight & bias)\n",
    "- Look at training data and adjust the random values to better represent (or get closer to) the ideal values\n",
    "\n",
    "It does this through two main algorithms:\n",
    "- Gradient Descent: https://www.youtube.com/watch?v=IHZwWFHWa-w\n",
    "- Backpropagation: https://www.youtube.com/watch?v=Ilg3gGewQ5U"
   ]
  },
  {
   "cell_type": "markdown",
   "id": "c55d9793",
   "metadata": {},
   "source": [
    "Gradient Descent: https://www.youtube.com/watch?v=IHZwWFHWa-w"
   ]
  },
  {
   "cell_type": "markdown",
   "id": "ca9c8711",
   "metadata": {},
   "source": [
    "<img src=\"images/01_linear_model.png\" />"
   ]
  }
 ],
 "metadata": {
  "kernelspec": {
   "display_name": "Python 3 (ipykernel)",
   "language": "python",
   "name": "python3"
  },
  "language_info": {
   "codemirror_mode": {
    "name": "ipython",
    "version": 3
   },
   "file_extension": ".py",
   "mimetype": "text/x-python",
   "name": "python",
   "nbconvert_exporter": "python",
   "pygments_lexer": "ipython3",
   "version": "3.9.13"
  }
 },
 "nbformat": 4,
 "nbformat_minor": 5
}
