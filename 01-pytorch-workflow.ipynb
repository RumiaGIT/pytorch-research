{
 "cells": [
  {
   "cell_type": "markdown",
   "id": "b20389ad",
   "metadata": {},
   "source": [
    "# 01. PyTorch Workflow"
   ]
  },
  {
   "cell_type": "markdown",
   "id": "2cc21b1b",
   "metadata": {},
   "source": [
    "## Table of Contents"
   ]
  },
  {
   "cell_type": "markdown",
   "id": "4ebf86df",
   "metadata": {},
   "source": [
    "- [All Links in Document](#links)\n",
    "- [PyTorch Workflow](#workflow)\n",
    "- [Loading and Preparing Data](#loadprep)\n",
    "- [Building a Model](#buildmodel)\n",
    "- [Training a Model](#trainmodel)"
   ]
  },
  {
   "cell_type": "markdown",
   "id": "cfe42e38",
   "metadata": {},
   "source": [
    "## All Links in Document <a name=\"links\"></a>"
   ]
  },
  {
   "cell_type": "markdown",
   "id": "825ca8c4",
   "metadata": {},
   "source": [
    "- https://pytorch.org/docs/stable/nn.html\n",
    "- https://realpython.com/python3-object-oriented-programming/\n",
    "- https://pytorch.org/docs/stable/generated/torch.nn.Module.html\n",
    "- What is a Neural Network?: https://www.youtube.com/watch?v=aircAruvnKk\n",
    "- Gradient Descent: https://www.youtube.com/watch?v=IHZwWFHWa-w\n",
    "- Backpropagation: https://www.youtube.com/watch?v=Ilg3gGewQ5U\n",
    "- https://pytorch.org/tutorials/beginner/ptcheat.html\n",
    "- https://twitter.com/pytorch/status/1437838231505096708\n",
    "- https://pytorch.org/docs/stable/nn.html#loss-functions\n",
    "- https://pytorch.org/docs/stable/generated/torch.nn.L1Loss.html\n",
    "- https://pytorch.org/docs/stable/optim.html"
   ]
  },
  {
   "cell_type": "markdown",
   "id": "baa9380d",
   "metadata": {},
   "source": [
    "## PyTorch Workflow <a name=\"workflow\"></a>"
   ]
  },
  {
   "cell_type": "markdown",
   "id": "0390b885",
   "metadata": {},
   "source": [
    "There are many different workflows to follow for a project. This section of the document will explore one example workflow. The workflow changes depending on which steps are necessary. The below image shows a typical workflow with example steps."
   ]
  },
  {
   "cell_type": "markdown",
   "id": "5756fdf5",
   "metadata": {},
   "source": [
    "<img src=\"images/01_workflow.png\" width=\"750\" />"
   ]
  },
  {
   "cell_type": "code",
   "execution_count": 1,
   "id": "fc8bc5cd",
   "metadata": {
    "ExecuteTime": {
     "end_time": "2023-01-28T15:52:09.642575Z",
     "start_time": "2023-01-28T15:52:07.747795Z"
    }
   },
   "outputs": [],
   "source": [
    "import torch\n",
    "from torch import nn\n",
    "import matplotlib.pyplot as plt"
   ]
  },
  {
   "cell_type": "code",
   "execution_count": 2,
   "id": "000f40d6",
   "metadata": {
    "ExecuteTime": {
     "end_time": "2023-01-28T15:52:09.658568Z",
     "start_time": "2023-01-28T15:52:09.647575Z"
    }
   },
   "outputs": [
    {
     "data": {
      "text/plain": [
       "'1.13.1+cu117'"
      ]
     },
     "execution_count": 2,
     "metadata": {},
     "output_type": "execute_result"
    }
   ],
   "source": [
    "torch.__version__"
   ]
  },
  {
   "cell_type": "markdown",
   "id": "06dc28f6",
   "metadata": {},
   "source": [
    "torch.nn houses all the necessary tools and building blocks for working with neural networks. The docs are found at https://pytorch.org/docs/stable/nn.html"
   ]
  },
  {
   "cell_type": "markdown",
   "id": "88e97cfa",
   "metadata": {},
   "source": [
    "## Loading and Preparing Data  <a name=\"loadprep\"></a>"
   ]
  },
  {
   "cell_type": "markdown",
   "id": "d3c3b7dc",
   "metadata": {},
   "source": [
    "Data can be almost anything in machine learning. Example data formats are:\n",
    "- Excel spreadsheet\n",
    "- An image\n",
    "- Videos\n",
    "- Audio\n",
    "- DNA\n",
    "- Textual sequences\n",
    "\n",
    "Machine learning is a game of 2 steps:\n",
    "- Convert data into numerical representation\n",
    "- Find patterns in the numerical data with a model"
   ]
  },
  {
   "cell_type": "markdown",
   "id": "bac6e2a8",
   "metadata": {},
   "source": [
    "Example linear regression formula: $Y_i=f(X_i,\\beta)+\\epsilon_i$"
   ]
  },
  {
   "cell_type": "code",
   "execution_count": 3,
   "id": "4e30c0ce",
   "metadata": {
    "ExecuteTime": {
     "end_time": "2023-01-28T15:52:09.689561Z",
     "start_time": "2023-01-28T15:52:09.662569Z"
    }
   },
   "outputs": [],
   "source": [
    "# Manually creating some data using a linear regression\n",
    "# Known parameters\n",
    "weight = 0.7\n",
    "bias = 0.3\n",
    "\n",
    "X = torch.arange(0, 1, 0.02).unsqueeze(dim=1)\n",
    "y = weight * X + bias"
   ]
  },
  {
   "cell_type": "markdown",
   "id": "e889ca99",
   "metadata": {},
   "source": [
    "Bias = intercept, weight = slope"
   ]
  },
  {
   "cell_type": "code",
   "execution_count": 4,
   "id": "ff13c26f",
   "metadata": {
    "ExecuteTime": {
     "end_time": "2023-01-28T15:52:09.705542Z",
     "start_time": "2023-01-28T15:52:09.694551Z"
    },
    "scrolled": true
   },
   "outputs": [
    {
     "data": {
      "text/plain": [
       "(torch.Size([50, 1]), torch.Size([50, 1]))"
      ]
     },
     "execution_count": 4,
     "metadata": {},
     "output_type": "execute_result"
    }
   ],
   "source": [
    "X.shape, y.shape"
   ]
  },
  {
   "cell_type": "markdown",
   "id": "f763a614",
   "metadata": {},
   "source": [
    "It's also necessary to split the dataset into various smaller datasets. This is always a split between a training and testing dataset, and occasionally a validation dataset as well. The splitting is done according to a test design, which determines the percentage of data to use for each split. Common ratios between training, validation, and testing datasets are:\n",
    "- 80:10:10\n",
    "- 70:15:15\n",
    "- 60:20:20"
   ]
  },
  {
   "cell_type": "markdown",
   "id": "07f813c0",
   "metadata": {},
   "source": [
    "In a school analogy, the training set equates to the course materials to study on, the validation set equates to a practice exam (which is optional), and the testing set equates to the final exam."
   ]
  },
  {
   "cell_type": "markdown",
   "id": "f9b85925",
   "metadata": {
    "ExecuteTime": {
     "end_time": "2023-01-16T13:32:31.335314Z",
     "start_time": "2023-01-16T13:32:31.318324Z"
    }
   },
   "source": [
    "<img src=\"images/01_traintestsplit.png\" />"
   ]
  },
  {
   "cell_type": "code",
   "execution_count": 5,
   "id": "97efb399",
   "metadata": {
    "ExecuteTime": {
     "end_time": "2023-01-28T15:52:09.720535Z",
     "start_time": "2023-01-28T15:52:09.708541Z"
    }
   },
   "outputs": [
    {
     "data": {
      "text/plain": [
       "(40, 40, 10, 10)"
      ]
     },
     "execution_count": 5,
     "metadata": {},
     "output_type": "execute_result"
    }
   ],
   "source": [
    "# Manually creating a simple train/test split with an 80:20 ratio\n",
    "split = int(0.8 * len(X))\n",
    "X_train, y_train = X[:split], y[:split]\n",
    "X_test, y_test = X[split:], y[split:]\n",
    "len(X_train), len(y_train), len(X_test), len(y_test)"
   ]
  },
  {
   "cell_type": "code",
   "execution_count": 6,
   "id": "11ef5932",
   "metadata": {
    "ExecuteTime": {
     "end_time": "2023-01-28T15:52:09.752530Z",
     "start_time": "2023-01-28T15:52:09.724547Z"
    }
   },
   "outputs": [],
   "source": [
    "# Simple visualization function\n",
    "def plot_predictions(train_data=X_train, train_labels=y_train, test_data=X_test, test_labels=y_test, predictions=None):\n",
    "    plt.scatter(train_data, train_labels, c=\"b\", s=4, label=\"Training Data\")\n",
    "    plt.scatter(test_data, test_labels, c=\"g\", s=4, label=\"Testing Data\")\n",
    "    \n",
    "    if predictions != None:\n",
    "        plt.scatter(test_data, predictions, c=\"r\", s=4, label=\"Predictions\")\n",
    "        \n",
    "    plt.legend()"
   ]
  },
  {
   "cell_type": "code",
   "execution_count": 7,
   "id": "a0ccbe7b",
   "metadata": {
    "ExecuteTime": {
     "end_time": "2023-01-28T15:52:10.019410Z",
     "start_time": "2023-01-28T15:52:09.755513Z"
    }
   },
   "outputs": [
    {
     "data": {
      "image/png": "[encoded data removed]",
      "text/plain": [
       "<Figure size 640x480 with 1 Axes>"
      ]
     },
     "metadata": {},
     "output_type": "display_data"
    }
   ],
   "source": [
    "plot_predictions()"
   ]
  },
  {
   "cell_type": "markdown",
   "id": "57a9755d",
   "metadata": {},
   "source": [
    "## Building a Model <a name=\"buildmodel\"></a>"
   ]
  },
  {
   "cell_type": "markdown",
   "id": "3be5c4d8",
   "metadata": {},
   "source": [
    "What is a Neural Network?: https://www.youtube.com/watch?v=aircAruvnKk"
   ]
  },
  {
   "cell_type": "markdown",
   "id": "53696102",
   "metadata": {},
   "source": [
    "A neuron is essentially \"a thing that holds a number\", specifically a number between 0 and 1. Using a neural network that uses images containing handwritten numbers between 0 and 9 as input as an example, a neuron here would correspond to a pixel. If an image of size 28x28 is used, that totals to 784 pixels and thus 784 neurons. Each neuron has an \"activation\", which refers to the numerical value of the neuron. As mentioned, this ranges from 0 to 1. In an example greyscale image, this could refer to the shade of the pixel, with 0 being black and 1 being white. A 28x28 image thus has 784 pixels, meaning 784 neurons, and 784 activations. This is what the input layer will consist of. Each neuron will also have a weight associated with it, which is a random number representing the importance of said for another neuron in the next layer. This gets adjusted over time as the neural networks learns."
   ]
  },
  {
   "cell_type": "markdown",
   "id": "4735b5c2",
   "metadata": {},
   "source": [
    "What happens inside the hidden layers is explained later. For each of the neurons inside the next hidden layer, a calculation is made based on the weights, activations, and optional bias of neurons in the previous layer. At the beginning of the neural network, this calculation is logically made on the input layer. Assume the following structure:"
   ]
  },
  {
   "cell_type": "markdown",
   "id": "8ba3b9ad",
   "metadata": {},
   "source": [
    "<img src=\"images/01_nnexample.png\" />"
   ]
  },
  {
   "cell_type": "markdown",
   "id": "0ae2ad74",
   "metadata": {},
   "source": [
    "An example formula of the calculation made for the first neuron of layer on the right (the first hidden layer) would be:\n",
    "\n",
    "$a_1=\\sigma(w_1x_1 + w_2x_2 + ... + w_nx_n + b_0)$\n",
    "\n",
    "where; $a_1$ is the first neuron of the hidden layer, $\\sigma$ is the sigmoid function, $w$ is the weight of a specific activation, $x$ is a specific activation, and $b$ is the bias."
   ]
  },
  {
   "cell_type": "markdown",
   "id": "238ef3bb",
   "metadata": {},
   "source": [
    "The output of such a formula is a totally random number as the weights are random, the activations are random, and the bias is any arbitrary number as well. The result of this weighted sum can be squished into a number between 0 and 1 to make its output legible. This is done with the sigmoid function in the formula. The end result is then fed to the neuron of the input layer. This process is repeated for all neurons of the input layer for every neuron of the next hidden layer."
   ]
  },
  {
   "cell_type": "markdown",
   "id": "5d9d21ed",
   "metadata": {},
   "source": [
    "The formula can also be displayed in matrix multiplication form:"
   ]
  },
  {
   "cell_type": "markdown",
   "id": "138dc9ba",
   "metadata": {},
   "source": [
    "<img src=\"images/01_nnmatmul.png\" />"
   ]
  },
  {
   "cell_type": "markdown",
   "id": "0bc6d6b5",
   "metadata": {},
   "source": [
    "The entire transition of activations from one layer to the next can be summarized to a small expression:\n",
    "\n",
    "$a^\\text{(1)} = \\sigma(Wa^\\text{(0)}+b)$\n",
    "\n",
    "where; $a^\\text{(1)}$ is the first hidden layer, $W$ represents the weights, $a^\\text{(0)}$ is the input layer, $b$ are all the biases, and $\\sigma$ is again the sigmoid function. How the hidden layers work and how the neural network learns is mainly done through two main algorithms, which are:\n",
    "- Gradient Descent: https://www.youtube.com/watch?v=IHZwWFHWa-w\n",
    "- Backpropagation: https://www.youtube.com/watch?v=Ilg3gGewQ5U"
   ]
  },
  {
   "cell_type": "markdown",
   "id": "c55d9793",
   "metadata": {},
   "source": [
    "Gradient Descent: https://www.youtube.com/watch?v=IHZwWFHWa-w"
   ]
  },
  {
   "cell_type": "markdown",
   "id": "e3411702",
   "metadata": {},
   "source": [
    "How the neural network \"learns\" is by feeding it lots of data to train on, and then testing the neural network on new, testing data that it has never seen before. Then, it's possible to see how accurately the neural network overall comes to the right conclusion. But how does the neural network actually learn and improve? Theoretically, it's very similar to calculus and finding the minimum of a certain function. \n",
    "\n",
    "Recall that for each neuron in a layer, it is connected to all the neurons of the previous layer. The weights are like the strength of those connections and the bias is some indication of whether the neuron tends to be active or inactive. Starting off, all these weights and biases are initialized randomly. At the beginning, the network will naturally perform really badly. But it's necessary to be able to tell the network if it's doing its job poorly or not. This is where a \"cost function\" comes into play."
   ]
  },
  {
   "cell_type": "markdown",
   "id": "b308a1fd",
   "metadata": {},
   "source": [
    "A cost function calculates a number by taking the squared differences between the resulting activations and expected activations of the output layer. The resulting number is the cost of a single training example. This sum is very small when the network classifies the image correctly, and high when it seems like the neural network doesn't know what it is doing."
   ]
  },
  {
   "cell_type": "markdown",
   "id": "6f7412fb",
   "metadata": {},
   "source": [
    "<img src=\"images/01_costfunction.png\" />"
   ]
  },
  {
   "cell_type": "markdown",
   "id": "19ad5063",
   "metadata": {},
   "source": [
    "Then it's possible to take the average cost of all training examples, which serves as a measure for how good or bad the neural network is performing. This adds another layer of complexity to the model. Recall that in this example, the input consists of 784 neurons (pixels), the output consists of 10 neurons (numbers 0 to 9), and overall there are about 13,002 parameters (weight & biases). The number of parameters is arbitrary and in this case originates from a calculation that includes the number of neurons in two hidden layers from the original 3blue1brown YouTube video, not shown here."
   ]
  },
  {
   "cell_type": "markdown",
   "id": "4202f7f2",
   "metadata": {},
   "source": [
    "The cost function takes those 13,002 parameters as input, the output is a single number (describing how good or bad the weights & biases are), and the parameters are the many, many thousands of pieces of training data."
   ]
  },
  {
   "cell_type": "markdown",
   "id": "55f24622",
   "metadata": {},
   "source": [
    "View the cost function not as a huge function with many parameters, but as a simple function with one number as input and one as output instead: $C(w)$. How do you find the input that minimizes the value of the function? The flexible tactic is to start at a random input and in which direction you should step to make that output lower. Specifically, this means that if you can figure out the slope of the function, shift to the left if it's positibe, and shift to the right if it's negative. Repeating this process makes you approach a local minimum of the function."
   ]
  },
  {
   "cell_type": "markdown",
   "id": "29e748b3",
   "metadata": {},
   "source": [
    "<img src=\"images/01_localminima.png\" />"
   ]
  },
  {
   "cell_type": "markdown",
   "id": "736a291e",
   "metadata": {},
   "source": [
    "Note that these are local minima, and visually it's possible to get stuck in a valley that contains a minimum for that region of the graphed function, which is not the global minimum. Thus, there is no guarantee that the found local minimum is the smallest possible value of the cost function. It's also important to keep in mind that the cost function is an average representation of the results of all training data. A lower cost function is thus an improvement on all samples (numbers 0 to 9 in this example)."
   ]
  },
  {
   "cell_type": "markdown",
   "id": "81e33107",
   "metadata": {},
   "source": [
    "For visualization purposes, it's possible to organize the 13,002 weights and biases into a giant column vector. The negative gradient of the cost function is just another vector of positive and negative nudges to augment the weight/bias vector with to cause the most rapid decrease to the cost function. And of course, making the weights and biases decrease the cost functon means that the output looks less random and more accurate. This process of continuously nudging the input of a function by some multiple of a negative gradient is called gradient descent."
   ]
  },
  {
   "cell_type": "markdown",
   "id": "3e0a0101",
   "metadata": {},
   "source": [
    "<img src=\"images/01_gradientdescent.png\" />"
   ]
  },
  {
   "cell_type": "markdown",
   "id": "9ad8fc7d",
   "metadata": {},
   "source": [
    "Each component of the negative gradient tells two things:\n",
    "- The sign of the number states whether the corresponding component of the input vector should be nudged up or down\n",
    "- The relative magnitude of the number also tells you which changes matter more"
   ]
  },
  {
   "cell_type": "markdown",
   "id": "53c4cdea",
   "metadata": {},
   "source": [
    "<img src=\"images/01_gradientmeaning.png\" />"
   ]
  },
  {
   "cell_type": "markdown",
   "id": "124ceba3",
   "metadata": {},
   "source": [
    "Thus, the gradient of the cost function tells you what nudges to all of the weights and biases cause the fastest change to the value of the cost function. This can also be interpreted as which changes to which weights matter the most. This information pertains to very basic neural networks and more complicated ones build on top of these fundamentals."
   ]
  },
  {
   "cell_type": "markdown",
   "id": "cd712596",
   "metadata": {},
   "source": [
    "Backpropagation: https://www.youtube.com/watch?v=Ilg3gGewQ5U"
   ]
  },
  {
   "cell_type": "markdown",
   "id": "bfeb4165",
   "metadata": {},
   "source": [
    "Backpropagation is the algorithm for how a single training example would like to influence the weights and biases. Not only in terms of up and down, but also in terms of which changes proportionally cause the most rapid decrease to the cost."
   ]
  },
  {
   "cell_type": "markdown",
   "id": "831b063f",
   "metadata": {},
   "source": [
    "Assume that you're at the start of using the neural network, at which point it's not properly trained and only returns bad results. It's only possible to influence the weights and biases. However, it's useful to keep track of which changes you wish to take place. For example, when classifying an image of the number 2, you want the activation value of the number 2 neuron in the output layer to increase, and for the others to decrease. Moreover, the magnitude of those changes should be proportional to how far away each current value is away from its target value. An increase to the number 2 neuron is more important than a decrease to the other neurons. In the same vein, if a certain output neuron already has a low activation, a decrease to it is less important than a decrease to another output neuron which doesn't represent number 2."
   ]
  },
  {
   "cell_type": "markdown",
   "id": "175eb74f",
   "metadata": {},
   "source": [
    "However, this is only what the output digit 2 neuron would want. In this case, all the other neurons (representing the number 0 to 1, and 3 to 9) should become less active. The other output neurons also have their own ideas of how the previous layers should be influenced."
   ]
  },
  {
   "cell_type": "markdown",
   "id": "0300751c",
   "metadata": {},
   "source": [
    "<img src=\"images/01_backprop.png\" />"
   ]
  },
  {
   "cell_type": "markdown",
   "id": "d05c7176",
   "metadata": {},
   "source": [
    "This is where the backpropagation term comes in. By adding together all these desired effects, you end up with a combined list of nudges that you wish to happen to the second to last layer. Then it's possible to apply the same process for the weights and biases of the previous layer before that one as well. also, this is all how only a single training example (classifying 2) works. If this is all the neural network would listen to, it would classify every image as a 2. This makes it necessary to apply the same process for all training examples. Then you can average together the changes in weights and biases that the model wishes to happen."
   ]
  },
  {
   "cell_type": "markdown",
   "id": "6afffb87",
   "metadata": {},
   "source": [
    "<img src=\"images/01_backpropaverage.png\" />"
   ]
  },
  {
   "cell_type": "markdown",
   "id": "c274243a",
   "metadata": {},
   "source": [
    "Realistically, it takes computers an extremely long time to add up all the influences of every single training step for every gradient descent step. Instead, it's possible to randomly shuffle the data and to then divide it into small batches. Then you can compute a gradient descent step according to the batches, instead of individual images. This is not the most efficient step downhill, but each small batch will give a good approximation. More importantly, it gives a significant computational speedup. This is called stochastic gradient descent."
   ]
  },
  {
   "cell_type": "markdown",
   "id": "69b29f95",
   "metadata": {},
   "source": [
    "Thus, backpropagation is the algorithm for determining how a single training example should nudge the weights and biases. Not only up or down, but also in terms of the relative proportion of change that would cause the most rapid decrease in cost. A true gradient descent step would involve performing this for all training images, but this is computationally expensive and slow. Instead, batches are made to perform the operations on."
   ]
  },
  {
   "cell_type": "markdown",
   "id": "98f34216",
   "metadata": {},
   "source": [
    "Extra OOP for classes help if necessary: https://realpython.com/python3-object-oriented-programming/"
   ]
  },
  {
   "cell_type": "code",
   "execution_count": 8,
   "id": "005348f6",
   "metadata": {
    "ExecuteTime": {
     "end_time": "2023-01-28T15:52:10.035400Z",
     "start_time": "2023-01-28T15:52:10.024406Z"
    }
   },
   "outputs": [],
   "source": [
    "# Create linear regression model class from scratch\n",
    "# Almost everything in PyTorch inherits from nn.Module\n",
    "# requires_grad often defaults to True, and dtype defaults to torch.float32\n",
    "class LinearRegressionModel(nn.Module):\n",
    "    def __init__(self):\n",
    "        super().__init__()\n",
    "        self.weights = nn.Parameter(torch.randn(1, requires_grad=True, dtype=torch.float32))\n",
    "        self.bias = nn.Parameter(torch.randn(1, requires_grad=True, dtype=torch.float32))\n",
    "        \n",
    "    def forward(self, x: torch.Tensor) -> torch.Tensor:\n",
    "        return self.weights * x + self.bias"
   ]
  },
  {
   "cell_type": "markdown",
   "id": "2630204e",
   "metadata": {},
   "source": [
    "What this model does:\n",
    "- Start with random values (weight & bias)\n",
    "- Look at training data and adjust the random values to better represent (or get closer to) the ideal values"
   ]
  },
  {
   "cell_type": "markdown",
   "id": "9e5fb730",
   "metadata": {},
   "source": [
    "The documentation at https://pytorch.org/docs/stable/generated/torch.nn.Module.html states:\n",
    "- Base class for all neural network modules.\n",
    "- Your models should also subclass this class."
   ]
  },
  {
   "cell_type": "markdown",
   "id": "ca9c8711",
   "metadata": {},
   "source": [
    "<img src=\"images/01_linear_model.png\" />"
   ]
  },
  {
   "cell_type": "markdown",
   "id": "00cc441b",
   "metadata": {},
   "source": [
    "Model building essentials:\n",
    "\n",
    "- torch.nn: Contains all of the building blocks for computational graphs (a neural network can be considered a computational graph)\n",
    "- torch.nn.Parameter: What parameters should the model try and learn, often a PyTorch layer from torch.nn will set these up\n",
    "- torch.nn.Module: The base class for all neural network modules, if you subclass it, you should overwrite forward()\n",
    "- torch.optim: This where the optimizers in PyTorch live, they will help with gradient descent\n",
    "- def forward(): All nn.Module subclasses require forward() to be overwritten, this method defines what happens in the forward computation"
   ]
  },
  {
   "cell_type": "markdown",
   "id": "0e67953a",
   "metadata": {},
   "source": [
    "PyTorch cheat sheet: https://pytorch.org/tutorials/beginner/ptcheat.html"
   ]
  },
  {
   "cell_type": "code",
   "execution_count": 9,
   "id": "8aa5c030",
   "metadata": {
    "ExecuteTime": {
     "end_time": "2023-01-28T15:52:10.051390Z",
     "start_time": "2023-01-28T15:52:10.039397Z"
    }
   },
   "outputs": [],
   "source": [
    "# Manually setting seed to reproduce RNG + creating an instance of the LinearRegressionModel class\n",
    "torch.manual_seed(42)\n",
    "model_0 = LinearRegressionModel()"
   ]
  },
  {
   "cell_type": "code",
   "execution_count": 10,
   "id": "3a3e3c65",
   "metadata": {
    "ExecuteTime": {
     "end_time": "2023-01-28T15:52:10.081384Z",
     "start_time": "2023-01-28T15:52:10.057413Z"
    }
   },
   "outputs": [
    {
     "data": {
      "text/plain": [
       "[Parameter containing:\n",
       " tensor([0.3367], requires_grad=True),\n",
       " Parameter containing:\n",
       " tensor([0.1288], requires_grad=True)]"
      ]
     },
     "execution_count": 10,
     "metadata": {},
     "output_type": "execute_result"
    }
   ],
   "source": [
    "# Check parameters of model\n",
    "list(model_0.parameters())"
   ]
  },
  {
   "cell_type": "code",
   "execution_count": 11,
   "id": "3ef65ab3",
   "metadata": {
    "ExecuteTime": {
     "end_time": "2023-01-28T15:52:10.096364Z",
     "start_time": "2023-01-28T15:52:10.085373Z"
    }
   },
   "outputs": [
    {
     "data": {
      "text/plain": [
       "OrderedDict([('weights', tensor([0.3367])), ('bias', tensor([0.1288]))])"
      ]
     },
     "execution_count": 11,
     "metadata": {},
     "output_type": "execute_result"
    }
   ],
   "source": [
    "# Check parameters of model as a dictionary\n",
    "model_0.state_dict()"
   ]
  },
  {
   "cell_type": "code",
   "execution_count": 12,
   "id": "0b463fae",
   "metadata": {
    "ExecuteTime": {
     "end_time": "2023-01-28T15:52:10.112356Z",
     "start_time": "2023-01-28T15:52:10.100381Z"
    }
   },
   "outputs": [
    {
     "data": {
      "text/plain": [
       "(0.7, 0.3)"
      ]
     },
     "execution_count": 12,
     "metadata": {},
     "output_type": "execute_result"
    }
   ],
   "source": [
    "# The ideal weight & bias to strive for\n",
    "weight, bias"
   ]
  },
  {
   "cell_type": "code",
   "execution_count": 13,
   "id": "3e5935a7",
   "metadata": {
    "ExecuteTime": {
     "end_time": "2023-01-28T15:52:10.128346Z",
     "start_time": "2023-01-28T15:52:10.116353Z"
    }
   },
   "outputs": [
    {
     "data": {
      "text/plain": [
       "tensor([[0.8600],\n",
       "        [0.8740],\n",
       "        [0.8880],\n",
       "        [0.9020],\n",
       "        [0.9160],\n",
       "        [0.9300],\n",
       "        [0.9440],\n",
       "        [0.9580],\n",
       "        [0.9720],\n",
       "        [0.9860]])"
      ]
     },
     "execution_count": 13,
     "metadata": {},
     "output_type": "execute_result"
    }
   ],
   "source": [
    "y_test"
   ]
  },
  {
   "cell_type": "markdown",
   "id": "df2bf6dc",
   "metadata": {},
   "source": [
    "Inference mode: https://twitter.com/pytorch/status/1437838231505096708"
   ]
  },
  {
   "cell_type": "code",
   "execution_count": 14,
   "id": "7157535a",
   "metadata": {
    "ExecuteTime": {
     "end_time": "2023-01-28T15:52:10.144337Z",
     "start_time": "2023-01-28T15:52:10.133345Z"
    }
   },
   "outputs": [
    {
     "data": {
      "text/plain": [
       "tensor([[0.3982],\n",
       "        [0.4049],\n",
       "        [0.4116],\n",
       "        [0.4184],\n",
       "        [0.4251],\n",
       "        [0.4318],\n",
       "        [0.4386],\n",
       "        [0.4453],\n",
       "        [0.4520],\n",
       "        [0.4588]])"
      ]
     },
     "execution_count": 14,
     "metadata": {},
     "output_type": "execute_result"
    }
   ],
   "source": [
    "# Making predictions with torch.inference_mode()\n",
    "# When passing data, automatically uses the forward method\n",
    "# Inference mode gets rid of the gradient tracking as it's unnecessary for this example\n",
    "# Keeps track of less data, could be useful for larger datasets\n",
    "with torch.inference_mode():\n",
    "    y_preds = model_0(X_test)\n",
    "    \n",
    "y_preds"
   ]
  },
  {
   "cell_type": "code",
   "execution_count": 15,
   "id": "8abca3c2",
   "metadata": {
    "ExecuteTime": {
     "end_time": "2023-01-28T15:52:10.410185Z",
     "start_time": "2023-01-28T15:52:10.148335Z"
    }
   },
   "outputs": [
    {
     "data": {
      "image/png": "[encoded data removed]",
      "text/plain": [
       "<Figure size 640x480 with 1 Axes>"
      ]
     },
     "metadata": {},
     "output_type": "display_data"
    }
   ],
   "source": [
    "# Predicted values are naturally bad at first\n",
    "plot_predictions(predictions=y_preds)"
   ]
  },
  {
   "cell_type": "code",
   "execution_count": 16,
   "id": "b82d769d",
   "metadata": {
    "ExecuteTime": {
     "end_time": "2023-01-28T15:52:10.426175Z",
     "start_time": "2023-01-28T15:52:10.413183Z"
    }
   },
   "outputs": [
    {
     "data": {
      "text/plain": [
       "tensor([[0.3982],\n",
       "        [0.4049],\n",
       "        [0.4116],\n",
       "        [0.4184],\n",
       "        [0.4251],\n",
       "        [0.4318],\n",
       "        [0.4386],\n",
       "        [0.4453],\n",
       "        [0.4520],\n",
       "        [0.4588]], grad_fn=<AddBackward0>)"
      ]
     },
     "execution_count": 16,
     "metadata": {},
     "output_type": "execute_result"
    }
   ],
   "source": [
    "# Gradient tracking is performed now\n",
    "y_preds = model_0(X_test)\n",
    "y_preds"
   ]
  },
  {
   "cell_type": "markdown",
   "id": "b2788666",
   "metadata": {},
   "source": [
    "## Training a Model <a name=\"trainmodel\"></a>"
   ]
  },
  {
   "cell_type": "markdown",
   "id": "8cf2ec67",
   "metadata": {},
   "source": [
    "The whole idea of training is for a model to move from some *unknown* parameters (these may be random) to some *known* parameters. Or in other words from a poor representation of the data to a better representation of the data. One way to measure how poor or how wrong your models predictions are is to use a loss function. This loss function is also referred to as criterion or cost function (explained during gradient descent).\n",
    "\n",
    "Things necessary to train:\n",
    "- Loss function: The function to measure how wrong the model's predictions are, a lower number means higher performance\n",
    "- Optimizer: Takes into account the model's loss and adjusts the model's parameters (e.g., weights and bias) to improve the loss function\n",
    "\n",
    "Specifically for PyTorch, also needed are:\n",
    "- A training loop\n",
    "- A testing loop"
   ]
  },
  {
   "cell_type": "markdown",
   "id": "3526d8a7",
   "metadata": {},
   "source": [
    "Loss function docs: https://pytorch.org/docs/stable/nn.html#loss-functions<br>\n",
    "L1Loss (MAE): https://pytorch.org/docs/stable/generated/torch.nn.L1Loss.html<br>\n",
    "Optimizers: https://pytorch.org/docs/stable/optim.html"
   ]
  },
  {
   "cell_type": "code",
   "execution_count": 17,
   "id": "9612c381",
   "metadata": {
    "ExecuteTime": {
     "end_time": "2023-01-28T15:52:10.442177Z",
     "start_time": "2023-01-28T15:52:10.429191Z"
    }
   },
   "outputs": [
    {
     "data": {
      "text/plain": [
       "[Parameter containing:\n",
       " tensor([0.3367], requires_grad=True),\n",
       " Parameter containing:\n",
       " tensor([0.1288], requires_grad=True)]"
      ]
     },
     "execution_count": 17,
     "metadata": {},
     "output_type": "execute_result"
    }
   ],
   "source": [
    "list(model_0.parameters())"
   ]
  },
  {
   "cell_type": "code",
   "execution_count": 18,
   "id": "935decf2",
   "metadata": {
    "ExecuteTime": {
     "end_time": "2023-01-28T15:52:10.458175Z",
     "start_time": "2023-01-28T15:52:10.447166Z"
    }
   },
   "outputs": [],
   "source": [
    "# Loss function\n",
    "loss_fn = nn.L1Loss()\n",
    "\n",
    "# Optimizer (Stochastic Gradient Descent)\n",
    "# A larger learning rate means larger adjustments to the parameters (decimal sensitive)\n",
    "# The parameters are set by the model, the hyperparameters (lr) are set by us\n",
    "optimizer = torch.optim.SGD(params=model_0.parameters(), lr=0.01)"
   ]
  },
  {
   "cell_type": "markdown",
   "id": "f62ee47a",
   "metadata": {},
   "source": [
    "But which loss function and optimizer to use depends on the specific use case. This information is gained as experience and knowledge grows. For a regression problem like this example, `nn.L1Loss()` (Mean Absolute Error) and `torch.optim.SGD()` (Stochastic Gradient Descent) suffice. But for a classification problem, a loss function like `nn.BCELoss()` (Binary Cross Entropy Loss) would be more useful."
   ]
  },
  {
   "cell_type": "markdown",
   "id": "a6c2bd9c",
   "metadata": {},
   "source": [
    "A couple of things are needed in a training loop:\n",
    "- Loop through the data\n",
    "- Perform a forward pass (applying the model's forward function(s) to the data), also referred to as forward propagation\n",
    "- Calculate the loss (compare forward pass to actual data)\n",
    "- Optimize zero grad\n",
    "- Loss backwards (move backwards through the network to calculate the gradient of each of the parameters of the model with respect to the loss), also referred to as backpropagation\n",
    "- Optimizer step (use the optimizer to adjust the model's parameters to try and improve loss), also referred to as gradient descent"
   ]
  },
  {
   "cell_type": "markdown",
   "id": "2f016e92",
   "metadata": {},
   "source": [
    "<img src=\"images/01_trainloop.png\" />"
   ]
  },
  {
   "cell_type": "code",
   "execution_count": 19,
   "id": "900efe84",
   "metadata": {
    "ExecuteTime": {
     "end_time": "2023-01-28T15:52:10.568308Z",
     "start_time": "2023-01-28T15:52:10.462156Z"
    }
   },
   "outputs": [
    {
     "name": "stdout",
     "output_type": "stream",
     "text": [
      "Epoch: 0 | Loss: 0.31288138031959534\n",
      "Epoch: 0 | Loss: 0.31288138031959534 | Test Loss: 0.48106518387794495\n",
      "Epoch: 1 | Loss: 0.3013603389263153\n",
      "Epoch: 2 | Loss: 0.28983935713768005\n",
      "Epoch: 3 | Loss: 0.2783183455467224\n",
      "Epoch: 4 | Loss: 0.26679736375808716\n",
      "Epoch: 5 | Loss: 0.2552763521671295\n",
      "Epoch: 6 | Loss: 0.24375534057617188\n",
      "Epoch: 7 | Loss: 0.23223432898521423\n",
      "Epoch: 8 | Loss: 0.22071333229541779\n",
      "Epoch: 9 | Loss: 0.20919232070446014\n",
      "Epoch: 10 | Loss: 0.1976713240146637\n",
      "Epoch: 10 | Loss: 0.1976713240146637 | Test Loss: 0.3463551998138428\n",
      "Epoch: 11 | Loss: 0.18615034222602844\n",
      "Epoch: 12 | Loss: 0.1746293306350708\n",
      "Epoch: 13 | Loss: 0.16310831904411316\n",
      "Epoch: 14 | Loss: 0.1515873372554779\n",
      "Epoch: 15 | Loss: 0.14006635546684265\n",
      "Epoch: 16 | Loss: 0.1285453587770462\n",
      "Epoch: 17 | Loss: 0.11702437698841095\n",
      "Epoch: 18 | Loss: 0.1060912236571312\n",
      "Epoch: 19 | Loss: 0.09681284427642822\n",
      "Epoch: 20 | Loss: 0.08908725529909134\n",
      "Epoch: 20 | Loss: 0.08908725529909134 | Test Loss: 0.21729660034179688\n",
      "Epoch: 21 | Loss: 0.08227583020925522\n",
      "Epoch: 22 | Loss: 0.07638873159885406\n",
      "Epoch: 23 | Loss: 0.07160007208585739\n",
      "Epoch: 24 | Loss: 0.06747635453939438\n",
      "Epoch: 25 | Loss: 0.06395438313484192\n",
      "Epoch: 26 | Loss: 0.06097004935145378\n",
      "Epoch: 27 | Loss: 0.05845819041132927\n",
      "Epoch: 28 | Loss: 0.05635259300470352\n",
      "Epoch: 29 | Loss: 0.0545857772231102\n",
      "Epoch: 30 | Loss: 0.053148526698350906\n",
      "Epoch: 30 | Loss: 0.053148526698350906 | Test Loss: 0.14464017748832703\n",
      "Epoch: 31 | Loss: 0.05181945487856865\n",
      "Epoch: 32 | Loss: 0.05069301277399063\n",
      "Epoch: 33 | Loss: 0.0498228520154953\n",
      "Epoch: 34 | Loss: 0.04895269125699997\n",
      "Epoch: 35 | Loss: 0.04819351062178612\n",
      "Epoch: 36 | Loss: 0.047531817108392715\n",
      "Epoch: 37 | Loss: 0.04692792519927025\n",
      "Epoch: 38 | Loss: 0.04642331600189209\n",
      "Epoch: 39 | Loss: 0.04591871052980423\n",
      "Epoch: 40 | Loss: 0.04543796554207802\n",
      "Epoch: 40 | Loss: 0.04543796554207802 | Test Loss: 0.11360953003168106\n",
      "Epoch: 41 | Loss: 0.04503796249628067\n",
      "Epoch: 42 | Loss: 0.04463795945048332\n",
      "Epoch: 43 | Loss: 0.04423796385526657\n",
      "Epoch: 44 | Loss: 0.04383796453475952\n",
      "Epoch: 45 | Loss: 0.04343796148896217\n",
      "Epoch: 46 | Loss: 0.043074630200862885\n",
      "Epoch: 47 | Loss: 0.04272563382983208\n",
      "Epoch: 48 | Loss: 0.04237663000822067\n",
      "Epoch: 49 | Loss: 0.04202762991189957\n",
      "Epoch: 50 | Loss: 0.04167863354086876\n",
      "Epoch: 50 | Loss: 0.04167863354086876 | Test Loss: 0.09919948130846024\n",
      "Epoch: 51 | Loss: 0.04132963344454765\n",
      "Epoch: 52 | Loss: 0.04098063334822655\n",
      "Epoch: 53 | Loss: 0.04063162952661514\n",
      "Epoch: 54 | Loss: 0.040282636880874634\n",
      "Epoch: 55 | Loss: 0.039933640509843826\n",
      "Epoch: 56 | Loss: 0.03958464413881302\n",
      "Epoch: 57 | Loss: 0.03923564404249191\n",
      "Epoch: 58 | Loss: 0.03888664394617081\n",
      "Epoch: 59 | Loss: 0.0385376438498497\n",
      "Epoch: 60 | Loss: 0.03818932920694351\n",
      "Epoch: 60 | Loss: 0.03818932920694351 | Test Loss: 0.08886633068323135\n",
      "Epoch: 61 | Loss: 0.03785243630409241\n",
      "Epoch: 62 | Loss: 0.0375034399330616\n",
      "Epoch: 63 | Loss: 0.037164121866226196\n",
      "Epoch: 64 | Loss: 0.03681822493672371\n",
      "Epoch: 65 | Loss: 0.03647511452436447\n",
      "Epoch: 66 | Loss: 0.03613303601741791\n",
      "Epoch: 67 | Loss: 0.03578609973192215\n",
      "Epoch: 68 | Loss: 0.03544783592224121\n",
      "Epoch: 69 | Loss: 0.035098835825920105\n",
      "Epoch: 70 | Loss: 0.03476089984178543\n",
      "Epoch: 70 | Loss: 0.03476089984178543 | Test Loss: 0.0805937647819519\n",
      "Epoch: 71 | Loss: 0.03441363573074341\n",
      "Epoch: 72 | Loss: 0.03407188132405281\n",
      "Epoch: 73 | Loss: 0.03372843936085701\n",
      "Epoch: 74 | Loss: 0.03338287025690079\n",
      "Epoch: 75 | Loss: 0.033043231815099716\n",
      "Epoch: 76 | Loss: 0.03269423171877861\n",
      "Epoch: 77 | Loss: 0.032357655465602875\n",
      "Epoch: 78 | Loss: 0.03200903534889221\n",
      "Epoch: 79 | Loss: 0.03166864812374115\n",
      "Epoch: 80 | Loss: 0.03132382780313492\n",
      "Epoch: 80 | Loss: 0.03132382780313492 | Test Loss: 0.07232122868299484\n",
      "Epoch: 81 | Loss: 0.030979642644524574\n",
      "Epoch: 82 | Loss: 0.030638623982667923\n",
      "Epoch: 83 | Loss: 0.0302906334400177\n",
      "Epoch: 84 | Loss: 0.029953425750136375\n",
      "Epoch: 85 | Loss: 0.02960442565381527\n",
      "Epoch: 86 | Loss: 0.029265418648719788\n",
      "Epoch: 87 | Loss: 0.028919223695993423\n",
      "Epoch: 88 | Loss: 0.028576409444212914\n",
      "Epoch: 89 | Loss: 0.028234025463461876\n",
      "Epoch: 90 | Loss: 0.02788739837706089\n",
      "Epoch: 90 | Loss: 0.02788739837706089 | Test Loss: 0.06473556160926819\n",
      "Epoch: 91 | Loss: 0.02754882536828518\n",
      "Epoch: 92 | Loss: 0.027199819684028625\n",
      "Epoch: 93 | Loss: 0.026862185448408127\n",
      "Epoch: 94 | Loss: 0.02651461586356163\n",
      "Epoch: 95 | Loss: 0.026173178106546402\n",
      "Epoch: 96 | Loss: 0.025829419493675232\n",
      "Epoch: 97 | Loss: 0.02548416517674923\n",
      "Epoch: 98 | Loss: 0.025144213810563087\n",
      "Epoch: 99 | Loss: 0.02479521557688713\n"
     ]
    }
   ],
   "source": [
    "# An epoch is one loop through the entire data\n",
    "epochs = 100\n",
    "\n",
    "for epoch in range(epochs):\n",
    "    # Setting the model to training mode sets all parameters that require gradients to require gradients\n",
    "    model_0.train()\n",
    "    # Perform forward pass\n",
    "    y_pred = model_0(X_train)\n",
    "    # Calculate loss\n",
    "    loss = loss_fn(y_pred, y_train)\n",
    "    print(f\"Epoch: {epoch} | Loss: {loss}\")\n",
    "    # Set gradients to 0\n",
    "    optimizer.zero_grad()\n",
    "    # Perform backwards propagation\n",
    "    loss.backward()\n",
    "    # Perform gradient descent\n",
    "    optimizer.step()\n",
    "    # Turn off several settings not needed for testing and evaluation\n",
    "    model_0.eval()\n",
    "    # Turn off gradient tracking and a few more things...\n",
    "    with torch.inference_mode():\n",
    "        # Forward pass\n",
    "        test_pred = model_0(X_test)\n",
    "        # Calculate loss\n",
    "        test_loss = loss_fn(test_pred, y_test)\n",
    "        if epoch % 10 == 0:\n",
    "            print(f\"Epoch: {epoch} | Loss: {loss} | Test Loss: {test_loss}\")"
   ]
  },
  {
   "cell_type": "code",
   "execution_count": 20,
   "id": "1a2ce3dc",
   "metadata": {
    "ExecuteTime": {
     "end_time": "2023-01-28T15:52:10.866563Z",
     "start_time": "2023-01-28T15:52:10.572316Z"
    }
   },
   "outputs": [
    {
     "data": {
      "image/png": "[encoded data removed]",
      "text/plain": [
       "<Figure size 640x480 with 1 Axes>"
      ]
     },
     "metadata": {},
     "output_type": "display_data"
    }
   ],
   "source": [
    "# Results improve with more epochs!\n",
    "with torch.inference_mode():\n",
    "    y_preds_new = model_0(X_test)\n",
    "plot_predictions(predictions=y_preds_new)"
   ]
  }
 ],
 "metadata": {
  "kernelspec": {
   "display_name": "Python 3 (ipykernel)",
   "language": "python",
   "name": "python3"
  },
  "language_info": {
   "codemirror_mode": {
    "name": "ipython",
    "version": 3
   },
   "file_extension": ".py",
   "mimetype": "text/x-python",
   "name": "python",
   "nbconvert_exporter": "python",
   "pygments_lexer": "ipython3",
   "version": "3.9.13"
  }
 },
 "nbformat": 4,
 "nbformat_minor": 5
}
