{
 "cells": [
  {
   "cell_type": "markdown",
   "id": "b20389ad",
   "metadata": {},
   "source": [
    "# 01. PyTorch Workflow"
   ]
  },
  {
   "cell_type": "markdown",
   "id": "2cc21b1b",
   "metadata": {},
   "source": [
    "## Table of Contents"
   ]
  },
  {
   "cell_type": "markdown",
   "id": "4ebf86df",
   "metadata": {},
   "source": [
    "- [All Links in Document](#links)"
   ]
  },
  {
   "cell_type": "markdown",
   "id": "cfe42e38",
   "metadata": {},
   "source": [
    "## All Links in Document <a name=\"links\"></a>"
   ]
  },
  {
   "cell_type": "markdown",
   "id": "825ca8c4",
   "metadata": {},
   "source": [
    "- Stuff"
   ]
  },
  {
   "cell_type": "code",
   "execution_count": null,
   "id": "b2a46b4b",
   "metadata": {},
   "outputs": [],
   "source": []
  }
 ],
 "metadata": {
  "kernelspec": {
   "display_name": "Python 3 (ipykernel)",
   "language": "python",
   "name": "python3"
  },
  "language_info": {
   "codemirror_mode": {
    "name": "ipython",
    "version": 3
   },
   "file_extension": ".py",
   "mimetype": "text/x-python",
   "name": "python",
   "nbconvert_exporter": "python",
   "pygments_lexer": "ipython3",
   "version": "3.9.13"
  }
 },
 "nbformat": 4,
 "nbformat_minor": 5
}
