{
 "cells": [
  {
   "cell_type": "markdown",
   "id": "b20389ad",
   "metadata": {},
   "source": [
    "# 01. PyTorch Workflow"
   ]
  },
  {
   "cell_type": "markdown",
   "id": "2cc21b1b",
   "metadata": {},
   "source": [
    "## Table of Contents"
   ]
  },
  {
   "cell_type": "markdown",
   "id": "4ebf86df",
   "metadata": {},
   "source": [
    "- [All Links in Document](#links)\n",
    "- [PyTorch Workflow](#workflow)\n",
    "- [Loading and Preparing Data](#loadprep)\n",
    "- [Building a Model](#buildmodel)\n",
    "- [Training a Model](#trainmodel)\n",
    "- [Saving and Loading](#saveload)\n",
    "- [Everything Combined](#everything)"
   ]
  },
  {
   "cell_type": "markdown",
   "id": "cfe42e38",
   "metadata": {},
   "source": [
    "## All Links in Document <a name=\"links\"></a>"
   ]
  },
  {
   "cell_type": "markdown",
   "id": "825ca8c4",
   "metadata": {},
   "source": [
    "- https://pytorch.org/docs/stable/nn.html\n",
    "- https://realpython.com/python3-object-oriented-programming/\n",
    "- https://pytorch.org/docs/stable/generated/torch.nn.Module.html\n",
    "- What is a Neural Network?: https://www.youtube.com/watch?v=aircAruvnKk\n",
    "- Gradient Descent: https://www.youtube.com/watch?v=IHZwWFHWa-w\n",
    "- Backpropagation: https://www.youtube.com/watch?v=Ilg3gGewQ5U\n",
    "- https://pytorch.org/tutorials/beginner/ptcheat.html\n",
    "- https://twitter.com/pytorch/status/1437838231505096708\n",
    "- https://pytorch.org/docs/stable/nn.html#loss-functions\n",
    "- https://pytorch.org/docs/stable/generated/torch.nn.L1Loss.html\n",
    "- https://pytorch.org/docs/stable/optim.html\n",
    "- https://pytorch.org/tutorials/beginner/saving_loading_models.html"
   ]
  },
  {
   "cell_type": "markdown",
   "id": "baa9380d",
   "metadata": {},
   "source": [
    "## PyTorch Workflow <a name=\"workflow\"></a>"
   ]
  },
  {
   "cell_type": "markdown",
   "id": "0390b885",
   "metadata": {},
   "source": [
    "There are many different workflows to follow for a project. This section of the document will explore one example workflow. The workflow changes depending on which steps are necessary. The below image shows a typical workflow with example steps."
   ]
  },
  {
   "cell_type": "markdown",
   "id": "5756fdf5",
   "metadata": {},
   "source": [
    "<img src=\"images/01_workflow.png\" width=\"750\" />"
   ]
  },
  {
   "cell_type": "code",
   "execution_count": 1,
   "id": "fc8bc5cd",
   "metadata": {
    "ExecuteTime": {
     "end_time": "2023-02-01T15:01:02.269619Z",
     "start_time": "2023-02-01T15:00:59.404258Z"
    }
   },
   "outputs": [],
   "source": [
    "import torch\n",
    "from torch import nn\n",
    "import matplotlib.pyplot as plt\n",
    "from sklearn.model_selection import train_test_split"
   ]
  },
  {
   "cell_type": "code",
   "execution_count": 2,
   "id": "000f40d6",
   "metadata": {
    "ExecuteTime": {
     "end_time": "2023-02-01T15:01:02.285611Z",
     "start_time": "2023-02-01T15:01:02.273617Z"
    }
   },
   "outputs": [
    {
     "data": {
      "text/plain": [
       "'1.13.1+cu117'"
      ]
     },
     "execution_count": 2,
     "metadata": {},
     "output_type": "execute_result"
    }
   ],
   "source": [
    "torch.__version__"
   ]
  },
  {
   "cell_type": "markdown",
   "id": "06dc28f6",
   "metadata": {},
   "source": [
    "torch.nn houses all the necessary tools and building blocks for working with neural networks. The docs are found at https://pytorch.org/docs/stable/nn.html"
   ]
  },
  {
   "cell_type": "markdown",
   "id": "88e97cfa",
   "metadata": {},
   "source": [
    "## Loading and Preparing Data  <a name=\"loadprep\"></a>"
   ]
  },
  {
   "cell_type": "markdown",
   "id": "d3c3b7dc",
   "metadata": {},
   "source": [
    "Data can be almost anything in machine learning. Example data formats are:\n",
    "- Excel spreadsheet\n",
    "- An image\n",
    "- Videos\n",
    "- Audio\n",
    "- DNA\n",
    "- Textual sequences\n",
    "\n",
    "Machine learning is a game of 2 steps:\n",
    "- Convert data into numerical representation\n",
    "- Find patterns in the numerical data with a model"
   ]
  },
  {
   "cell_type": "markdown",
   "id": "bac6e2a8",
   "metadata": {},
   "source": [
    "Example linear regression formula: $Y_i=f(X_i,\\beta)+\\epsilon_i$"
   ]
  },
  {
   "cell_type": "code",
   "execution_count": 3,
   "id": "4e30c0ce",
   "metadata": {
    "ExecuteTime": {
     "end_time": "2023-02-01T15:01:02.301610Z",
     "start_time": "2023-02-01T15:01:02.289615Z"
    }
   },
   "outputs": [],
   "source": [
    "# Manually creating some data using a linear regression\n",
    "# Known parameters\n",
    "weight = 0.7\n",
    "bias = 0.3\n",
    "\n",
    "X = torch.arange(0, 1, 0.02).unsqueeze(dim=1)\n",
    "y = weight * X + bias"
   ]
  },
  {
   "cell_type": "markdown",
   "id": "e889ca99",
   "metadata": {},
   "source": [
    "Bias = intercept, weight = slope"
   ]
  },
  {
   "cell_type": "code",
   "execution_count": 4,
   "id": "ff13c26f",
   "metadata": {
    "ExecuteTime": {
     "end_time": "2023-02-01T15:01:02.317602Z",
     "start_time": "2023-02-01T15:01:02.305600Z"
    },
    "scrolled": true
   },
   "outputs": [
    {
     "data": {
      "text/plain": [
       "(torch.Size([50, 1]), torch.Size([50, 1]))"
      ]
     },
     "execution_count": 4,
     "metadata": {},
     "output_type": "execute_result"
    }
   ],
   "source": [
    "X.shape, y.shape"
   ]
  },
  {
   "cell_type": "markdown",
   "id": "f763a614",
   "metadata": {},
   "source": [
    "It's also necessary to split the dataset into various smaller datasets. This is always a split between a training and testing dataset, and occasionally a validation dataset as well. The splitting is done according to a test design, which determines the percentage of data to use for each split. Common ratios between training, validation, and testing datasets are:\n",
    "- 80:10:10\n",
    "- 70:15:15\n",
    "- 60:20:20"
   ]
  },
  {
   "cell_type": "markdown",
   "id": "07f813c0",
   "metadata": {},
   "source": [
    "In a school analogy, the training set equates to the course materials to study on, the validation set equates to a practice exam (which is optional), and the testing set equates to the final exam."
   ]
  },
  {
   "cell_type": "markdown",
   "id": "f9b85925",
   "metadata": {
    "ExecuteTime": {
     "end_time": "2023-01-16T13:32:31.335314Z",
     "start_time": "2023-01-16T13:32:31.318324Z"
    }
   },
   "source": [
    "<img src=\"images/01_traintestsplit.png\" />"
   ]
  },
  {
   "cell_type": "code",
   "execution_count": 5,
   "id": "97efb399",
   "metadata": {
    "ExecuteTime": {
     "end_time": "2023-02-01T15:01:02.332584Z",
     "start_time": "2023-02-01T15:01:02.320592Z"
    }
   },
   "outputs": [
    {
     "data": {
      "text/plain": [
       "(40, 40, 10, 10)"
      ]
     },
     "execution_count": 5,
     "metadata": {},
     "output_type": "execute_result"
    }
   ],
   "source": [
    "# Manually creating a simple train/test split with an 80:20 ratio\n",
    "split = int(0.8 * len(X))\n",
    "X_train, y_train = X[:split], y[:split]\n",
    "X_test, y_test = X[split:], y[split:]\n",
    "len(X_train), len(y_train), len(X_test), len(y_test)"
   ]
  },
  {
   "cell_type": "code",
   "execution_count": 6,
   "id": "11ef5932",
   "metadata": {
    "ExecuteTime": {
     "end_time": "2023-02-01T15:01:02.348576Z",
     "start_time": "2023-02-01T15:01:02.336583Z"
    }
   },
   "outputs": [],
   "source": [
    "# Simple visualization function\n",
    "def plot_predictions(train_data=X_train, train_labels=y_train, test_data=X_test, test_labels=y_test, predictions=None):\n",
    "    plt.scatter(train_data, train_labels, c=\"b\", s=4, label=\"Training Data\")\n",
    "    plt.scatter(test_data, test_labels, c=\"g\", s=4, label=\"Testing Data\")\n",
    "    \n",
    "    if predictions != None:\n",
    "        plt.scatter(test_data, predictions, c=\"r\", s=4, label=\"Predictions\")\n",
    "        \n",
    "    plt.legend()"
   ]
  },
  {
   "cell_type": "code",
   "execution_count": 7,
   "id": "a0ccbe7b",
   "metadata": {
    "ExecuteTime": {
     "end_time": "2023-02-01T15:01:02.705371Z",
     "start_time": "2023-02-01T15:01:02.352574Z"
    }
   },
   "outputs": [
    {
     "data": {
      "image/png": "[encoded data removed]",
      "text/plain": [
       "<Figure size 640x480 with 1 Axes>"
      ]
     },
     "metadata": {},
     "output_type": "display_data"
    }
   ],
   "source": [
    "plot_predictions()"
   ]
  },
  {
   "cell_type": "markdown",
   "id": "57a9755d",
   "metadata": {},
   "source": [
    "## Building a Model <a name=\"buildmodel\"></a>"
   ]
  },
  {
   "cell_type": "markdown",
   "id": "3be5c4d8",
   "metadata": {},
   "source": [
    "What is a Neural Network?: https://www.youtube.com/watch?v=aircAruvnKk"
   ]
  },
  {
   "cell_type": "markdown",
   "id": "53696102",
   "metadata": {},
   "source": [
    "A neuron is essentially \"a thing that holds a number\", specifically a number between 0 and 1. Using a neural network that uses images containing handwritten numbers between 0 and 9 as input as an example, a neuron here would correspond to a pixel. If an image of size 28x28 is used, that totals to 784 pixels and thus 784 neurons. Each neuron has an \"activation\", which refers to the numerical value of the neuron. As mentioned, this ranges from 0 to 1. In an example greyscale image, this could refer to the shade of the pixel, with 0 being black and 1 being white. A 28x28 image thus has 784 pixels, meaning 784 neurons, and 784 activations. This is what the input layer will consist of. Each neuron will also have a weight associated with it, which is a random number representing the importance of said for another neuron in the next layer. This gets adjusted over time as the neural networks learns."
   ]
  },
  {
   "cell_type": "markdown",
   "id": "4735b5c2",
   "metadata": {},
   "source": [
    "What happens inside the hidden layers is explained later. For each of the neurons inside the next hidden layer, a calculation is made based on the weights, activations, and optional bias of neurons in the previous layer. At the beginning of the neural network, this calculation is logically made on the input layer. Assume the following structure:"
   ]
  },
  {
   "cell_type": "markdown",
   "id": "8ba3b9ad",
   "metadata": {},
   "source": [
    "<img src=\"images/01_nnexample.png\" />"
   ]
  },
  {
   "cell_type": "markdown",
   "id": "0ae2ad74",
   "metadata": {},
   "source": [
    "An example formula of the calculation made for the first neuron of layer on the right (the first hidden layer) would be:\n",
    "\n",
    "$a_1=\\sigma(w_1x_1 + w_2x_2 + ... + w_nx_n + b_0)$\n",
    "\n",
    "where; $a_1$ is the first neuron of the hidden layer, $\\sigma$ is the sigmoid function, $w$ is the weight of a specific activation, $x$ is a specific activation, and $b$ is the bias."
   ]
  },
  {
   "cell_type": "markdown",
   "id": "238ef3bb",
   "metadata": {},
   "source": [
    "The output of such a formula is a totally random number as the weights are random, the activations are random, and the bias is any arbitrary number as well. The result of this weighted sum can be squished into a number between 0 and 1 to make its output legible. This is done with the sigmoid function in the formula. The end result is then fed to the neuron of the input layer. This process is repeated for all neurons of the input layer for every neuron of the next hidden layer."
   ]
  },
  {
   "cell_type": "markdown",
   "id": "5d9d21ed",
   "metadata": {},
   "source": [
    "The formula can also be displayed in matrix multiplication form:"
   ]
  },
  {
   "cell_type": "markdown",
   "id": "138dc9ba",
   "metadata": {},
   "source": [
    "<img src=\"images/01_nnmatmul.png\" />"
   ]
  },
  {
   "cell_type": "markdown",
   "id": "0bc6d6b5",
   "metadata": {},
   "source": [
    "The entire transition of activations from one layer to the next can be summarized to a small expression:\n",
    "\n",
    "$a^\\text{(1)} = \\sigma(Wa^\\text{(0)}+b)$\n",
    "\n",
    "where; $a^\\text{(1)}$ is the first hidden layer, $W$ represents the weights, $a^\\text{(0)}$ is the input layer, $b$ are all the biases, and $\\sigma$ is again the sigmoid function. How the hidden layers work and how the neural network learns is mainly done through two main algorithms, which are:\n",
    "- Gradient Descent: https://www.youtube.com/watch?v=IHZwWFHWa-w\n",
    "- Backpropagation: https://www.youtube.com/watch?v=Ilg3gGewQ5U"
   ]
  },
  {
   "cell_type": "markdown",
   "id": "c55d9793",
   "metadata": {},
   "source": [
    "Gradient Descent: https://www.youtube.com/watch?v=IHZwWFHWa-w"
   ]
  },
  {
   "cell_type": "markdown",
   "id": "e3411702",
   "metadata": {},
   "source": [
    "How the neural network \"learns\" is by feeding it lots of data to train on, and then testing the neural network on new, testing data that it has never seen before. Then, it's possible to see how accurately the neural network overall comes to the right conclusion. But how does the neural network actually learn and improve? Theoretically, it's very similar to calculus and finding the minimum of a certain function. \n",
    "\n",
    "Recall that for each neuron in a layer, it is connected to all the neurons of the previous layer. The weights are like the strength of those connections and the bias is some indication of whether the neuron tends to be active or inactive. Starting off, all these weights and biases are initialized randomly. At the beginning, the network will naturally perform really badly. But it's necessary to be able to tell the network if it's doing its job poorly or not. This is where a \"cost function\" comes into play."
   ]
  },
  {
   "cell_type": "markdown",
   "id": "b308a1fd",
   "metadata": {},
   "source": [
    "A cost function calculates a number by taking the squared differences between the resulting activations and expected activations of the output layer. The resulting number is the cost of a single training example. This sum is very small when the network classifies the image correctly, and high when it seems like the neural network doesn't know what it is doing."
   ]
  },
  {
   "cell_type": "markdown",
   "id": "6f7412fb",
   "metadata": {},
   "source": [
    "<img src=\"images/01_costfunction.png\" />"
   ]
  },
  {
   "cell_type": "markdown",
   "id": "19ad5063",
   "metadata": {},
   "source": [
    "Then it's possible to take the average cost of all training examples, which serves as a measure for how good or bad the neural network is performing. This adds another layer of complexity to the model. Recall that in this example, the input consists of 784 neurons (pixels), the output consists of 10 neurons (numbers 0 to 9), and overall there are about 13,002 parameters (weight & biases). The number of parameters is arbitrary and in this case originates from a calculation that includes the number of neurons in two hidden layers from the original 3blue1brown YouTube video, not shown here."
   ]
  },
  {
   "cell_type": "markdown",
   "id": "4202f7f2",
   "metadata": {},
   "source": [
    "The cost function takes those 13,002 parameters as input, the output is a single number (describing how good or bad the weights & biases are), and the parameters are the many, many thousands of pieces of training data."
   ]
  },
  {
   "cell_type": "markdown",
   "id": "55f24622",
   "metadata": {},
   "source": [
    "View the cost function not as a huge function with many parameters, but as a simple function with one number as input and one as output instead: $C(w)$. How do you find the input that minimizes the value of the function? The flexible tactic is to start at a random input and in which direction you should step to make that output lower. Specifically, this means that if you can figure out the slope of the function, shift to the left if it's positibe, and shift to the right if it's negative. Repeating this process makes you approach a local minimum of the function."
   ]
  },
  {
   "cell_type": "markdown",
   "id": "29e748b3",
   "metadata": {},
   "source": [
    "<img src=\"images/01_localminima.png\" />"
   ]
  },
  {
   "cell_type": "markdown",
   "id": "736a291e",
   "metadata": {},
   "source": [
    "Note that these are local minima, and visually it's possible to get stuck in a valley that contains a minimum for that region of the graphed function, which is not the global minimum. Thus, there is no guarantee that the found local minimum is the smallest possible value of the cost function. It's also important to keep in mind that the cost function is an average representation of the results of all training data. A lower cost function is thus an improvement on all samples (numbers 0 to 9 in this example)."
   ]
  },
  {
   "cell_type": "markdown",
   "id": "81e33107",
   "metadata": {},
   "source": [
    "For visualization purposes, it's possible to organize the 13,002 weights and biases into a giant column vector. The negative gradient of the cost function is just another vector of positive and negative nudges to augment the weight/bias vector with to cause the most rapid decrease to the cost function. And of course, making the weights and biases decrease the cost functon means that the output looks less random and more accurate. This process of continuously nudging the input of a function by some multiple of a negative gradient is called gradient descent."
   ]
  },
  {
   "cell_type": "markdown",
   "id": "3e0a0101",
   "metadata": {},
   "source": [
    "<img src=\"images/01_gradientdescent.png\" />"
   ]
  },
  {
   "cell_type": "markdown",
   "id": "9ad8fc7d",
   "metadata": {},
   "source": [
    "Each component of the negative gradient tells two things:\n",
    "- The sign of the number states whether the corresponding component of the input vector should be nudged up or down\n",
    "- The relative magnitude of the number also tells you which changes matter more"
   ]
  },
  {
   "cell_type": "markdown",
   "id": "53c4cdea",
   "metadata": {},
   "source": [
    "<img src=\"images/01_gradientmeaning.png\" />"
   ]
  },
  {
   "cell_type": "markdown",
   "id": "124ceba3",
   "metadata": {},
   "source": [
    "Thus, the gradient of the cost function tells you what nudges to all of the weights and biases cause the fastest change to the value of the cost function. This can also be interpreted as which changes to which weights matter the most. This information pertains to very basic neural networks and more complicated ones build on top of these fundamentals."
   ]
  },
  {
   "cell_type": "markdown",
   "id": "cd712596",
   "metadata": {},
   "source": [
    "Backpropagation: https://www.youtube.com/watch?v=Ilg3gGewQ5U"
   ]
  },
  {
   "cell_type": "markdown",
   "id": "bfeb4165",
   "metadata": {},
   "source": [
    "Backpropagation is the algorithm for how a single training example would like to influence the weights and biases. Not only in terms of up and down, but also in terms of which changes proportionally cause the most rapid decrease to the cost."
   ]
  },
  {
   "cell_type": "markdown",
   "id": "831b063f",
   "metadata": {},
   "source": [
    "Assume that you're at the start of using the neural network, at which point it's not properly trained and only returns bad results. It's only possible to influence the weights and biases. However, it's useful to keep track of which changes you wish to take place. For example, when classifying an image of the number 2, you want the activation value of the number 2 neuron in the output layer to increase, and for the others to decrease. Moreover, the magnitude of those changes should be proportional to how far away each current value is away from its target value. An increase to the number 2 neuron is more important than a decrease to the other neurons. In the same vein, if a certain output neuron already has a low activation, a decrease to it is less important than a decrease to another output neuron which doesn't represent number 2."
   ]
  },
  {
   "cell_type": "markdown",
   "id": "175eb74f",
   "metadata": {},
   "source": [
    "However, this is only what the output digit 2 neuron would want. In this case, all the other neurons (representing the number 0 to 1, and 3 to 9) should become less active. The other output neurons also have their own ideas of how the previous layers should be influenced."
   ]
  },
  {
   "cell_type": "markdown",
   "id": "0300751c",
   "metadata": {},
   "source": [
    "<img src=\"images/01_backprop.png\" />"
   ]
  },
  {
   "cell_type": "markdown",
   "id": "d05c7176",
   "metadata": {},
   "source": [
    "This is where the backpropagation term comes in. By adding together all these desired effects, you end up with a combined list of nudges that you wish to happen to the second to last layer. Then it's possible to apply the same process for the weights and biases of the previous layer before that one as well. also, this is all how only a single training example (classifying 2) works. If this is all the neural network would listen to, it would classify every image as a 2. This makes it necessary to apply the same process for all training examples. Then you can average together the changes in weights and biases that the model wishes to happen."
   ]
  },
  {
   "cell_type": "markdown",
   "id": "6afffb87",
   "metadata": {},
   "source": [
    "<img src=\"images/01_backpropaverage.png\" />"
   ]
  },
  {
   "cell_type": "markdown",
   "id": "c274243a",
   "metadata": {},
   "source": [
    "Realistically, it takes computers an extremely long time to add up all the influences of every single training step for every gradient descent step. Instead, it's possible to randomly shuffle the data and to then divide it into small batches. Then you can compute a gradient descent step according to the batches, instead of individual images. This is not the most efficient step downhill, but each small batch will give a good approximation. More importantly, it gives a significant computational speedup. This is called stochastic gradient descent."
   ]
  },
  {
   "cell_type": "markdown",
   "id": "69b29f95",
   "metadata": {},
   "source": [
    "Thus, backpropagation is the algorithm for determining how a single training example should nudge the weights and biases. Not only up or down, but also in terms of the relative proportion of change that would cause the most rapid decrease in cost. A true gradient descent step would involve performing this for all training images, but this is computationally expensive and slow. Instead, batches are made to perform the operations on."
   ]
  },
  {
   "cell_type": "markdown",
   "id": "98f34216",
   "metadata": {},
   "source": [
    "Extra OOP for classes help if necessary: https://realpython.com/python3-object-oriented-programming/"
   ]
  },
  {
   "cell_type": "code",
   "execution_count": 8,
   "id": "005348f6",
   "metadata": {
    "ExecuteTime": {
     "end_time": "2023-02-01T15:01:02.721379Z",
     "start_time": "2023-02-01T15:01:02.709368Z"
    }
   },
   "outputs": [],
   "source": [
    "# Create linear regression model class from scratch\n",
    "# Almost everything in PyTorch inherits from nn.Module\n",
    "# requires_grad often defaults to True, and dtype defaults to torch.float32\n",
    "class LinearRegressionModel(nn.Module):\n",
    "    def __init__(self):\n",
    "        super().__init__()\n",
    "        self.weights = nn.Parameter(torch.randn(1, requires_grad=True, dtype=torch.float32))\n",
    "        self.bias = nn.Parameter(torch.randn(1, requires_grad=True, dtype=torch.float32))\n",
    "        \n",
    "    def forward(self, x: torch.Tensor) -> torch.Tensor:\n",
    "        return self.weights * x + self.bias"
   ]
  },
  {
   "cell_type": "markdown",
   "id": "2630204e",
   "metadata": {},
   "source": [
    "What this model does:\n",
    "- Start with random values (weight & bias)\n",
    "- Look at training data and adjust the random values to better represent (or get closer to) the ideal values"
   ]
  },
  {
   "cell_type": "markdown",
   "id": "9e5fb730",
   "metadata": {},
   "source": [
    "The documentation at https://pytorch.org/docs/stable/generated/torch.nn.Module.html states:\n",
    "- Base class for all neural network modules.\n",
    "- Your models should also subclass this class."
   ]
  },
  {
   "cell_type": "markdown",
   "id": "ca9c8711",
   "metadata": {},
   "source": [
    "<img src=\"images/01_linear_model.png\" />"
   ]
  },
  {
   "cell_type": "markdown",
   "id": "00cc441b",
   "metadata": {},
   "source": [
    "Model building essentials:\n",
    "\n",
    "- `torch.nn`: Contains all of the building blocks for computational graphs (a neural network can be considered a computational graph)\n",
    "- `torch.nn.Parameter`: What parameters should the model try and learn, often a PyTorch layer from torch.nn will set these up\n",
    "- `torch.nn.Module`: The base class for all neural network modules, if you subclass it, you should overwrite forward()\n",
    "- `torch.optim`: This where the optimizers in PyTorch live, they will help with gradient descent\n",
    "- `def forward()`: All nn.Module subclasses require forward() to be overwritten, this method defines what happens in the forward computation"
   ]
  },
  {
   "cell_type": "markdown",
   "id": "0e67953a",
   "metadata": {},
   "source": [
    "PyTorch cheat sheet: https://pytorch.org/tutorials/beginner/ptcheat.html"
   ]
  },
  {
   "cell_type": "code",
   "execution_count": 9,
   "id": "8aa5c030",
   "metadata": {
    "ExecuteTime": {
     "end_time": "2023-02-01T15:01:02.737351Z",
     "start_time": "2023-02-01T15:01:02.725361Z"
    }
   },
   "outputs": [],
   "source": [
    "# Manually setting seed to reproduce RNG + creating an instance of the LinearRegressionModel class\n",
    "torch.manual_seed(42)\n",
    "model_0 = LinearRegressionModel()"
   ]
  },
  {
   "cell_type": "code",
   "execution_count": 10,
   "id": "3a3e3c65",
   "metadata": {
    "ExecuteTime": {
     "end_time": "2023-02-01T15:01:02.768334Z",
     "start_time": "2023-02-01T15:01:02.744350Z"
    }
   },
   "outputs": [
    {
     "data": {
      "text/plain": [
       "[Parameter containing:\n",
       " tensor([0.3367], requires_grad=True),\n",
       " Parameter containing:\n",
       " tensor([0.1288], requires_grad=True)]"
      ]
     },
     "execution_count": 10,
     "metadata": {},
     "output_type": "execute_result"
    }
   ],
   "source": [
    "# Check parameters of model\n",
    "list(model_0.parameters())"
   ]
  },
  {
   "cell_type": "code",
   "execution_count": 11,
   "id": "3ef65ab3",
   "metadata": {
    "ExecuteTime": {
     "end_time": "2023-02-01T15:01:02.784328Z",
     "start_time": "2023-02-01T15:01:02.771332Z"
    }
   },
   "outputs": [
    {
     "data": {
      "text/plain": [
       "OrderedDict([('weights', tensor([0.3367])), ('bias', tensor([0.1288]))])"
      ]
     },
     "execution_count": 11,
     "metadata": {},
     "output_type": "execute_result"
    }
   ],
   "source": [
    "# Check parameters of model as a dictionary\n",
    "model_0.state_dict()"
   ]
  },
  {
   "cell_type": "code",
   "execution_count": 12,
   "id": "0b463fae",
   "metadata": {
    "ExecuteTime": {
     "end_time": "2023-02-01T15:01:02.800315Z",
     "start_time": "2023-02-01T15:01:02.787324Z"
    }
   },
   "outputs": [
    {
     "data": {
      "text/plain": [
       "(0.7, 0.3)"
      ]
     },
     "execution_count": 12,
     "metadata": {},
     "output_type": "execute_result"
    }
   ],
   "source": [
    "# The ideal weight & bias to strive for\n",
    "weight, bias"
   ]
  },
  {
   "cell_type": "code",
   "execution_count": 13,
   "id": "3e5935a7",
   "metadata": {
    "ExecuteTime": {
     "end_time": "2023-02-01T15:01:02.815308Z",
     "start_time": "2023-02-01T15:01:02.803314Z"
    }
   },
   "outputs": [
    {
     "data": {
      "text/plain": [
       "tensor([[0.8600],\n",
       "        [0.8740],\n",
       "        [0.8880],\n",
       "        [0.9020],\n",
       "        [0.9160],\n",
       "        [0.9300],\n",
       "        [0.9440],\n",
       "        [0.9580],\n",
       "        [0.9720],\n",
       "        [0.9860]])"
      ]
     },
     "execution_count": 13,
     "metadata": {},
     "output_type": "execute_result"
    }
   ],
   "source": [
    "y_test"
   ]
  },
  {
   "cell_type": "markdown",
   "id": "df2bf6dc",
   "metadata": {},
   "source": [
    "Inference mode: https://twitter.com/pytorch/status/1437838231505096708"
   ]
  },
  {
   "cell_type": "code",
   "execution_count": 14,
   "id": "7157535a",
   "metadata": {
    "ExecuteTime": {
     "end_time": "2023-02-01T15:01:02.831299Z",
     "start_time": "2023-02-01T15:01:02.820304Z"
    }
   },
   "outputs": [
    {
     "data": {
      "text/plain": [
       "tensor([[0.3982],\n",
       "        [0.4049],\n",
       "        [0.4116],\n",
       "        [0.4184],\n",
       "        [0.4251],\n",
       "        [0.4318],\n",
       "        [0.4386],\n",
       "        [0.4453],\n",
       "        [0.4520],\n",
       "        [0.4588]])"
      ]
     },
     "execution_count": 14,
     "metadata": {},
     "output_type": "execute_result"
    }
   ],
   "source": [
    "# Making predictions with torch.inference_mode()\n",
    "# When passing data, automatically uses the forward method\n",
    "# Inference mode gets rid of the gradient tracking as it's unnecessary for this example\n",
    "# Keeps track of less data, could be useful for larger datasets\n",
    "with torch.inference_mode():\n",
    "    y_preds = model_0(X_test)\n",
    "    \n",
    "y_preds"
   ]
  },
  {
   "cell_type": "code",
   "execution_count": 15,
   "id": "8abca3c2",
   "metadata": {
    "ExecuteTime": {
     "end_time": "2023-02-01T15:01:03.146118Z",
     "start_time": "2023-02-01T15:01:02.835296Z"
    }
   },
   "outputs": [
    {
     "data": {
      "image/png": "[encoded data removed]",
      "text/plain": [
       "<Figure size 640x480 with 1 Axes>"
      ]
     },
     "metadata": {},
     "output_type": "display_data"
    }
   ],
   "source": [
    "# Predicted values are naturally bad at first\n",
    "plot_predictions(predictions=y_preds)"
   ]
  },
  {
   "cell_type": "code",
   "execution_count": 16,
   "id": "b82d769d",
   "metadata": {
    "ExecuteTime": {
     "end_time": "2023-02-01T15:01:03.162110Z",
     "start_time": "2023-02-01T15:01:03.150116Z"
    }
   },
   "outputs": [
    {
     "data": {
      "text/plain": [
       "tensor([[0.3982],\n",
       "        [0.4049],\n",
       "        [0.4116],\n",
       "        [0.4184],\n",
       "        [0.4251],\n",
       "        [0.4318],\n",
       "        [0.4386],\n",
       "        [0.4453],\n",
       "        [0.4520],\n",
       "        [0.4588]], grad_fn=<AddBackward0>)"
      ]
     },
     "execution_count": 16,
     "metadata": {},
     "output_type": "execute_result"
    }
   ],
   "source": [
    "# Gradient tracking is performed now\n",
    "y_preds = model_0(X_test)\n",
    "y_preds"
   ]
  },
  {
   "cell_type": "markdown",
   "id": "b2788666",
   "metadata": {},
   "source": [
    "## Training a Model <a name=\"trainmodel\"></a>"
   ]
  },
  {
   "cell_type": "markdown",
   "id": "8cf2ec67",
   "metadata": {},
   "source": [
    "The whole idea of training is for a model to move from some *unknown* parameters (these may be random) to some *known* parameters. Or in other words from a poor representation of the data to a better representation of the data. One way to measure how poor or how wrong your models predictions are is to use a loss function. This loss function is also referred to as criterion or cost function (explained during gradient descent).\n",
    "\n",
    "Things necessary to train:\n",
    "- Loss function: The function to measure how wrong the model's predictions are, a lower number means higher performance\n",
    "- Optimizer: Takes into account the model's loss and adjusts the model's parameters (e.g., weights and bias) to improve the loss function\n",
    "\n",
    "Specifically for PyTorch, also needed are:\n",
    "- A training loop\n",
    "- A testing loop"
   ]
  },
  {
   "cell_type": "markdown",
   "id": "3526d8a7",
   "metadata": {},
   "source": [
    "Loss function docs: https://pytorch.org/docs/stable/nn.html#loss-functions<br>\n",
    "L1Loss (MAE): https://pytorch.org/docs/stable/generated/torch.nn.L1Loss.html<br>\n",
    "Optimizers: https://pytorch.org/docs/stable/optim.html"
   ]
  },
  {
   "cell_type": "code",
   "execution_count": 17,
   "id": "9612c381",
   "metadata": {
    "ExecuteTime": {
     "end_time": "2023-02-01T15:01:03.178100Z",
     "start_time": "2023-02-01T15:01:03.167106Z"
    }
   },
   "outputs": [
    {
     "data": {
      "text/plain": [
       "[Parameter containing:\n",
       " tensor([0.3367], requires_grad=True),\n",
       " Parameter containing:\n",
       " tensor([0.1288], requires_grad=True)]"
      ]
     },
     "execution_count": 17,
     "metadata": {},
     "output_type": "execute_result"
    }
   ],
   "source": [
    "list(model_0.parameters())"
   ]
  },
  {
   "cell_type": "code",
   "execution_count": 18,
   "id": "935decf2",
   "metadata": {
    "ExecuteTime": {
     "end_time": "2023-02-01T15:01:03.194092Z",
     "start_time": "2023-02-01T15:01:03.182098Z"
    }
   },
   "outputs": [],
   "source": [
    "# Loss function\n",
    "loss_fn = nn.L1Loss()\n",
    "\n",
    "# Optimizer (Stochastic Gradient Descent)\n",
    "# A larger learning rate means larger adjustments to the parameters (decimal sensitive)\n",
    "# The parameters are set by the model, the hyperparameters (lr) are set by us\n",
    "optimizer = torch.optim.SGD(params=model_0.parameters(), lr=0.01)"
   ]
  },
  {
   "cell_type": "markdown",
   "id": "f62ee47a",
   "metadata": {},
   "source": [
    "But which loss function and optimizer to use depends on the specific use case. This information is gained as experience and knowledge grows. For a regression problem like this example, `nn.L1Loss()` (Mean Absolute Error) and `torch.optim.SGD()` (Stochastic Gradient Descent) suffice. But for a classification problem, a loss function like `nn.BCELoss()` (Binary Cross Entropy Loss) would be more useful."
   ]
  },
  {
   "cell_type": "markdown",
   "id": "a6c2bd9c",
   "metadata": {},
   "source": [
    "A couple of things are needed in a training loop:\n",
    "- Loop through the data\n",
    "- Perform a forward pass (applying the model's forward function(s) to the data), also referred to as forward propagation\n",
    "- Calculate the loss (compare forward pass to actual data)\n",
    "- Optimize zero grad\n",
    "- Loss backwards (move backwards through the network to calculate the gradient of each of the parameters of the model with respect to the loss), also referred to as backpropagation\n",
    "- Optimizer step (use the optimizer to adjust the model's parameters to try and improve loss), also referred to as gradient descent"
   ]
  },
  {
   "cell_type": "markdown",
   "id": "2f016e92",
   "metadata": {},
   "source": [
    "<img src=\"images/01_trainloop.png\" />"
   ]
  },
  {
   "cell_type": "code",
   "execution_count": 19,
   "id": "900efe84",
   "metadata": {
    "ExecuteTime": {
     "end_time": "2023-02-01T15:01:03.352018Z",
     "start_time": "2023-02-01T15:01:03.197089Z"
    }
   },
   "outputs": [
    {
     "name": "stdout",
     "output_type": "stream",
     "text": [
      "Epoch: 0 | Loss: 0.31288138031959534 | Test Loss: 0.48106518387794495\n",
      "OrderedDict([('weights', tensor([0.3406])), ('bias', tensor([0.1388]))])\n",
      "Epoch: 10 | Loss: 0.1976713240146637 | Test Loss: 0.3463551998138428\n",
      "OrderedDict([('weights', tensor([0.3796])), ('bias', tensor([0.2388]))])\n",
      "Epoch: 20 | Loss: 0.08908725529909134 | Test Loss: 0.21729660034179688\n",
      "OrderedDict([('weights', tensor([0.4184])), ('bias', tensor([0.3333]))])\n",
      "Epoch: 30 | Loss: 0.053148526698350906 | Test Loss: 0.14464017748832703\n",
      "OrderedDict([('weights', tensor([0.4512])), ('bias', tensor([0.3768]))])\n",
      "Epoch: 40 | Loss: 0.04543796554207802 | Test Loss: 0.11360953003168106\n",
      "OrderedDict([('weights', tensor([0.4748])), ('bias', tensor([0.3868]))])\n",
      "Epoch: 50 | Loss: 0.04167863354086876 | Test Loss: 0.09919948130846024\n",
      "OrderedDict([('weights', tensor([0.4938])), ('bias', tensor([0.3843]))])\n",
      "Epoch: 60 | Loss: 0.03818932920694351 | Test Loss: 0.08886633068323135\n",
      "OrderedDict([('weights', tensor([0.5116])), ('bias', tensor([0.3788]))])\n",
      "Epoch: 70 | Loss: 0.03476089984178543 | Test Loss: 0.0805937647819519\n",
      "OrderedDict([('weights', tensor([0.5288])), ('bias', tensor([0.3718]))])\n",
      "Epoch: 80 | Loss: 0.03132382780313492 | Test Loss: 0.07232122868299484\n",
      "OrderedDict([('weights', tensor([0.5459])), ('bias', tensor([0.3648]))])\n",
      "Epoch: 90 | Loss: 0.02788739837706089 | Test Loss: 0.06473556160926819\n",
      "OrderedDict([('weights', tensor([0.5629])), ('bias', tensor([0.3573]))])\n",
      "Epoch: 100 | Loss: 0.024458957836031914 | Test Loss: 0.05646304413676262\n",
      "OrderedDict([('weights', tensor([0.5800])), ('bias', tensor([0.3503]))])\n",
      "Epoch: 110 | Loss: 0.021020207554101944 | Test Loss: 0.04819049686193466\n",
      "OrderedDict([('weights', tensor([0.5972])), ('bias', tensor([0.3433]))])\n",
      "Epoch: 120 | Loss: 0.01758546568453312 | Test Loss: 0.04060482233762741\n",
      "OrderedDict([('weights', tensor([0.6141])), ('bias', tensor([0.3358]))])\n",
      "Epoch: 130 | Loss: 0.014155393466353416 | Test Loss: 0.03233227878808975\n",
      "OrderedDict([('weights', tensor([0.6313])), ('bias', tensor([0.3288]))])\n",
      "Epoch: 140 | Loss: 0.010716589167714119 | Test Loss: 0.024059748277068138\n",
      "OrderedDict([('weights', tensor([0.6485])), ('bias', tensor([0.3218]))])\n",
      "Epoch: 150 | Loss: 0.0072835334576666355 | Test Loss: 0.016474086791276932\n",
      "OrderedDict([('weights', tensor([0.6654])), ('bias', tensor([0.3143]))])\n"
     ]
    }
   ],
   "source": [
    "# Manually setting the seed\n",
    "torch.manual_seed(42)\n",
    "# An epoch is one loop through the entire data\n",
    "epochs = 151\n",
    "\n",
    "# Track different values\n",
    "epoch_count = []\n",
    "loss_values = []\n",
    "test_loss_values = []\n",
    "\n",
    "for epoch in range(epochs):\n",
    "    # Setting the model to training mode sets all parameters that require gradients to require gradients\n",
    "    model_0.train()\n",
    "    # Perform forward pass\n",
    "    y_pred = model_0(X_train)\n",
    "    # Calculate loss\n",
    "    loss = loss_fn(y_pred, y_train)\n",
    "    # Set gradients to 0\n",
    "    optimizer.zero_grad()\n",
    "    # Perform backwards propagation\n",
    "    loss.backward()\n",
    "    # Perform gradient descent\n",
    "    optimizer.step()\n",
    "    # Turn off several settings not needed for testing and evaluation\n",
    "    model_0.eval()\n",
    "    # Turn off gradient tracking and a few more things...\n",
    "    with torch.inference_mode():\n",
    "        # Forward pass\n",
    "        test_pred = model_0(X_test)\n",
    "        # Calculate loss\n",
    "        test_loss = loss_fn(test_pred, y_test)\n",
    "        if epoch % 10 == 0:\n",
    "            # Add tracked values to their respective lists\n",
    "            epoch_count.append(epoch)\n",
    "            loss_values.append(loss)\n",
    "            test_loss_values.append(test_loss)\n",
    "            # Print results\n",
    "            print(f\"Epoch: {epoch} | Loss: {loss} | Test Loss: {test_loss}\")\n",
    "            print(model_0.state_dict())"
   ]
  },
  {
   "cell_type": "code",
   "execution_count": 20,
   "id": "1a2ce3dc",
   "metadata": {
    "ExecuteTime": {
     "end_time": "2023-02-01T15:01:03.697814Z",
     "start_time": "2023-02-01T15:01:03.355998Z"
    }
   },
   "outputs": [
    {
     "data": {
      "image/png": "[encoded data removed]",
      "text/plain": [
       "<Figure size 640x480 with 1 Axes>"
      ]
     },
     "metadata": {},
     "output_type": "display_data"
    }
   ],
   "source": [
    "# Results improve with more epochs!\n",
    "with torch.inference_mode():\n",
    "    y_preds_new = model_0(X_test)\n",
    "plot_predictions(predictions=y_preds_new)"
   ]
  },
  {
   "cell_type": "code",
   "execution_count": 21,
   "id": "67259b3c",
   "metadata": {
    "ExecuteTime": {
     "end_time": "2023-02-01T15:01:03.979642Z",
     "start_time": "2023-02-01T15:01:03.701800Z"
    }
   },
   "outputs": [
    {
     "data": {
      "image/png": "[encoded data removed]",
      "text/plain": [
       "<Figure size 640x480 with 1 Axes>"
      ]
     },
     "metadata": {},
     "output_type": "display_data"
    }
   ],
   "source": [
    "# Plot the loss curves\n",
    "plt.plot(epoch_count, torch.tensor(loss_values), label=\"Train Loss\")\n",
    "plt.plot(epoch_count, test_loss_values, label=\"Test Loss\")\n",
    "plt.title(\"Training and Test Loss Curves\")\n",
    "plt.xlabel(\"Epochs\")\n",
    "plt.ylabel(\"Loss\")\n",
    "plt.legend()\n",
    "plt.show()"
   ]
  },
  {
   "cell_type": "markdown",
   "id": "9264a407",
   "metadata": {},
   "source": [
    "##  Saving and Loading <a name=\"saveload\"></a>"
   ]
  },
  {
   "cell_type": "markdown",
   "id": "f562b220",
   "metadata": {},
   "source": [
    "There are 3 main methods to understand when it comes to saving and loading models:\n",
    "- `torch.save()`: Save a PyTorch object in Python's pickle format\n",
    "- `torch.load()`: Load a saved PyTorch object\n",
    "- `torch.nn.Module.load_state_dict()`: Load a model's saved state dictionary\n",
    "\n",
    "https://pytorch.org/tutorials/beginner/saving_loading_models.html"
   ]
  },
  {
   "cell_type": "code",
   "execution_count": 22,
   "id": "15ff047f",
   "metadata": {
    "ExecuteTime": {
     "end_time": "2023-02-01T15:01:03.995633Z",
     "start_time": "2023-02-01T15:01:03.985638Z"
    }
   },
   "outputs": [
    {
     "data": {
      "text/plain": [
       "OrderedDict([('weights', tensor([0.6654])), ('bias', tensor([0.3143]))])"
      ]
     },
     "execution_count": 22,
     "metadata": {},
     "output_type": "execute_result"
    }
   ],
   "source": [
    "model_0.state_dict()"
   ]
  },
  {
   "cell_type": "code",
   "execution_count": 23,
   "id": "89624c41",
   "metadata": {
    "ExecuteTime": {
     "end_time": "2023-02-01T15:01:04.011701Z",
     "start_time": "2023-02-01T15:01:04.000630Z"
    }
   },
   "outputs": [],
   "source": [
    "# Saving the model in the local /models folder\n",
    "MODEL_PATH = \"models\"\n",
    "MODEL_NAME = \"01_pytorch_workflow_model.pth\"\n",
    "MODEL_SAVE_PATH = f\"{MODEL_PATH}/{MODEL_NAME}\"\n",
    "#torch.save(obj=model_0.state_dict(), f=MODEL_SAVE_PATH)"
   ]
  },
  {
   "cell_type": "code",
   "execution_count": 24,
   "id": "c6708b67",
   "metadata": {
    "ExecuteTime": {
     "end_time": "2023-02-01T15:01:04.042607Z",
     "start_time": "2023-02-01T15:01:04.015620Z"
    }
   },
   "outputs": [
    {
     "data": {
      "text/plain": [
       "<All keys matched successfully>"
      ]
     },
     "execution_count": 24,
     "metadata": {},
     "output_type": "execute_result"
    }
   ],
   "source": [
    "# Instantiate new instance of the LinearRegressionModel() class\n",
    "# Load the state_dict of the saved model into the new instance\n",
    "loaded_model_0 = LinearRegressionModel()\n",
    "loaded_model_0.load_state_dict(torch.load(f=MODEL_SAVE_PATH))"
   ]
  },
  {
   "cell_type": "code",
   "execution_count": 25,
   "id": "dbd114d7",
   "metadata": {
    "ExecuteTime": {
     "end_time": "2023-02-01T15:01:04.058598Z",
     "start_time": "2023-02-01T15:01:04.047602Z"
    }
   },
   "outputs": [
    {
     "data": {
      "text/plain": [
       "OrderedDict([('weights', tensor([0.6654])), ('bias', tensor([0.3143]))])"
      ]
     },
     "execution_count": 25,
     "metadata": {},
     "output_type": "execute_result"
    }
   ],
   "source": [
    "# Values match the model_0's state_dict\n",
    "loaded_model_0.state_dict()"
   ]
  },
  {
   "cell_type": "code",
   "execution_count": 26,
   "id": "8b9e33a0",
   "metadata": {
    "ExecuteTime": {
     "end_time": "2023-02-01T15:01:04.074588Z",
     "start_time": "2023-02-01T15:01:04.062594Z"
    }
   },
   "outputs": [
    {
     "data": {
      "text/plain": [
       "(tensor([0.8466, 0.8599, 0.8733, 0.8866, 0.8999, 0.9132, 0.9265, 0.9398, 0.9531,\n",
       "         0.9664]),\n",
       " tensor([0.8466, 0.8599, 0.8733, 0.8866, 0.8999, 0.9132, 0.9265, 0.9398, 0.9531,\n",
       "         0.9664]))"
      ]
     },
     "execution_count": 26,
     "metadata": {},
     "output_type": "execute_result"
    }
   ],
   "source": [
    "# Comparison to check results are the same\n",
    "loaded_model_0.eval()\n",
    "with torch.inference_mode():\n",
    "    loaded_model_preds = loaded_model_0(X_test)\n",
    "\n",
    "loaded_model_preds.squeeze(), y_preds_new.squeeze()"
   ]
  },
  {
   "cell_type": "markdown",
   "id": "7d1074c7",
   "metadata": {},
   "source": [
    "## Everything Combined <a name=\"everything\"> <a/>"
   ]
  },
  {
   "cell_type": "code",
   "execution_count": 27,
   "id": "929913cc",
   "metadata": {
    "ExecuteTime": {
     "end_time": "2023-02-01T15:01:04.089578Z",
     "start_time": "2023-02-01T15:01:04.078585Z"
    }
   },
   "outputs": [],
   "source": [
    "weight, bias = 0.7, 0.3\n",
    "X = torch.arange(0, 1, 0.02).unsqueeze(dim=1)\n",
    "y = weight * X + bias"
   ]
  },
  {
   "cell_type": "code",
   "execution_count": 28,
   "id": "dfc5ce33",
   "metadata": {
    "ExecuteTime": {
     "end_time": "2023-02-01T15:01:04.121561Z",
     "start_time": "2023-02-01T15:01:04.099573Z"
    }
   },
   "outputs": [
    {
     "data": {
      "text/plain": [
       "(40, 10, 40, 10)"
      ]
     },
     "execution_count": 28,
     "metadata": {},
     "output_type": "execute_result"
    }
   ],
   "source": [
    "# Using sklearn's train_test_split this time\n",
    "X_train, X_test, y_train, y_test = train_test_split(X, y, train_size=0.8, shuffle=False)\n",
    "len(X_train), len(X_test), len(y_train), len(y_test)"
   ]
  },
  {
   "cell_type": "code",
   "execution_count": 29,
   "id": "6906e456",
   "metadata": {
    "ExecuteTime": {
     "end_time": "2023-02-01T15:01:04.436383Z",
     "start_time": "2023-02-01T15:01:04.124560Z"
    }
   },
   "outputs": [
    {
     "data": {
      "image/png": "[encoded data removed]",
      "text/plain": [
       "<Figure size 640x480 with 1 Axes>"
      ]
     },
     "metadata": {},
     "output_type": "display_data"
    }
   ],
   "source": [
    "plot_predictions()"
   ]
  },
  {
   "cell_type": "markdown",
   "id": "b635e041",
   "metadata": {},
   "source": [
    "Using https://pytorch.org/docs/stable/generated/torch.nn.Linear.html this time as neural networks usually utilize these layers, instead of building everything from scratch."
   ]
  },
  {
   "cell_type": "code",
   "execution_count": 30,
   "id": "23ac664c",
   "metadata": {
    "ExecuteTime": {
     "end_time": "2023-02-01T15:01:04.451371Z",
     "start_time": "2023-02-01T15:01:04.442378Z"
    }
   },
   "outputs": [],
   "source": [
    "class LinearRegressionModelV2(nn.Module):\n",
    "    def __init__(self):\n",
    "        super().__init__()\n",
    "        # Using nn.linear_layer for the parameters this time\n",
    "        self.linear_layer = nn.Linear(in_features=1, out_features=1)\n",
    "        \n",
    "    def forward(self, x: torch.tensor) -> torch.tensor:\n",
    "        return self.linear_layer(x)"
   ]
  },
  {
   "cell_type": "code",
   "execution_count": 31,
   "id": "7570dac5",
   "metadata": {
    "ExecuteTime": {
     "end_time": "2023-02-01T15:01:04.482356Z",
     "start_time": "2023-02-01T15:01:04.456369Z"
    }
   },
   "outputs": [
    {
     "data": {
      "text/plain": [
       "(LinearRegressionModelV2(\n",
       "   (linear_layer): Linear(in_features=1, out_features=1, bias=True)\n",
       " ),\n",
       " OrderedDict([('linear_layer.weight', tensor([[0.7645]])),\n",
       "              ('linear_layer.bias', tensor([0.8300]))]))"
      ]
     },
     "execution_count": 31,
     "metadata": {},
     "output_type": "execute_result"
    }
   ],
   "source": [
    "torch.manual_seed(42)\n",
    "model_1 = LinearRegressionModelV2()\n",
    "model_1, model_1.state_dict()"
   ]
  },
  {
   "cell_type": "code",
   "execution_count": 32,
   "id": "f860ae3e",
   "metadata": {
    "ExecuteTime": {
     "end_time": "2023-02-01T15:01:04.498345Z",
     "start_time": "2023-02-01T15:01:04.486352Z"
    }
   },
   "outputs": [],
   "source": [
    "loss_fn = nn.L1Loss() #MAE\n",
    "optimizer = torch.optim.SGD(params=model_1.parameters(), lr=0.01)"
   ]
  },
  {
   "cell_type": "code",
   "execution_count": 33,
   "id": "7cb4e925",
   "metadata": {
    "ExecuteTime": {
     "end_time": "2023-02-01T15:01:04.654255Z",
     "start_time": "2023-02-01T15:01:04.502343Z"
    }
   },
   "outputs": [
    {
     "name": "stdout",
     "output_type": "stream",
     "text": [
      "Epoch: 0 | Loss: 0.5551779866218567 | Test Loss: 0.5739762187004089\n",
      "OrderedDict([('linear_layer.weight', tensor([[0.7606]])), ('linear_layer.bias', tensor([0.8200]))])\n",
      "Epoch: 10 | Loss: 0.4399680495262146 | Test Loss: 0.4392663538455963\n",
      "OrderedDict([('linear_layer.weight', tensor([[0.7216]])), ('linear_layer.bias', tensor([0.7200]))])\n",
      "Epoch: 20 | Loss: 0.3247582018375397 | Test Loss: 0.30455657839775085\n",
      "OrderedDict([('linear_layer.weight', tensor([[0.6826]])), ('linear_layer.bias', tensor([0.6200]))])\n",
      "Epoch: 30 | Loss: 0.20954827964305878 | Test Loss: 0.16984674334526062\n",
      "OrderedDict([('linear_layer.weight', tensor([[0.6436]])), ('linear_layer.bias', tensor([0.5200]))])\n",
      "Epoch: 40 | Loss: 0.09433844685554504 | Test Loss: 0.03513689711689949\n",
      "OrderedDict([('linear_layer.weight', tensor([[0.6046]])), ('linear_layer.bias', tensor([0.4200]))])\n",
      "Epoch: 50 | Loss: 0.023886386305093765 | Test Loss: 0.04784906655550003\n",
      "OrderedDict([('linear_layer.weight', tensor([[0.5872]])), ('linear_layer.bias', tensor([0.3525]))])\n",
      "Epoch: 60 | Loss: 0.0199567973613739 | Test Loss: 0.04580312222242355\n",
      "OrderedDict([('linear_layer.weight', tensor([[0.6025]])), ('linear_layer.bias', tensor([0.3410]))])\n",
      "Epoch: 70 | Loss: 0.016517987474799156 | Test Loss: 0.0375305712223053\n",
      "OrderedDict([('linear_layer.weight', tensor([[0.6196]])), ('linear_layer.bias', tensor([0.3340]))])\n",
      "Epoch: 80 | Loss: 0.013089170679450035 | Test Loss: 0.029944902285933495\n",
      "OrderedDict([('linear_layer.weight', tensor([[0.6366]])), ('linear_layer.bias', tensor([0.3265]))])\n",
      "Epoch: 90 | Loss: 0.009653178043663502 | Test Loss: 0.02167237363755703\n",
      "OrderedDict([('linear_layer.weight', tensor([[0.6537]])), ('linear_layer.bias', tensor([0.3195]))])\n",
      "Epoch: 100 | Loss: 0.006215679459273815 | Test Loss: 0.014086711220443249\n",
      "OrderedDict([('linear_layer.weight', tensor([[0.6707]])), ('linear_layer.bias', tensor([0.3120]))])\n",
      "Epoch: 110 | Loss: 0.002787243574857712 | Test Loss: 0.005814164876937866\n",
      "OrderedDict([('linear_layer.weight', tensor([[0.6878]])), ('linear_layer.bias', tensor([0.3050]))])\n",
      "Epoch: 120 | Loss: 0.0012645035749301314 | Test Loss: 0.013801807537674904\n",
      "OrderedDict([('linear_layer.weight', tensor([[0.6929]])), ('linear_layer.bias', tensor([0.2925]))])\n",
      "Epoch: 130 | Loss: 0.0012645035749301314 | Test Loss: 0.013801807537674904\n",
      "OrderedDict([('linear_layer.weight', tensor([[0.6929]])), ('linear_layer.bias', tensor([0.2925]))])\n",
      "Epoch: 140 | Loss: 0.0012645035749301314 | Test Loss: 0.013801807537674904\n",
      "OrderedDict([('linear_layer.weight', tensor([[0.6929]])), ('linear_layer.bias', tensor([0.2925]))])\n",
      "Epoch: 150 | Loss: 0.0012645035749301314 | Test Loss: 0.013801807537674904\n",
      "OrderedDict([('linear_layer.weight', tensor([[0.6929]])), ('linear_layer.bias', tensor([0.2925]))])\n"
     ]
    }
   ],
   "source": [
    "torch.manual_seed(42)\n",
    "epochs = 151\n",
    "for epoch in range(epochs):\n",
    "    model_1.train()\n",
    "    y_pred = model_1(X_train)\n",
    "    loss = loss_fn(y_pred, y_train)\n",
    "    optimizer.zero_grad()\n",
    "    loss.backward()\n",
    "    optimizer.step()\n",
    "    model_1.eval()\n",
    "    with torch.inference_mode():\n",
    "        test_pred = model_1(X_test)\n",
    "        test_loss = loss_fn(test_pred, y_test)\n",
    "        if epoch % 10 == 0:\n",
    "            print(f\"Epoch: {epoch} | Loss: {loss} | Test Loss: {test_loss}\")\n",
    "            print(model_1.state_dict())"
   ]
  },
  {
   "cell_type": "code",
   "execution_count": 34,
   "id": "c9f11bf5",
   "metadata": {
    "ExecuteTime": {
     "end_time": "2023-02-01T15:01:04.670247Z",
     "start_time": "2023-02-01T15:01:04.658254Z"
    }
   },
   "outputs": [],
   "source": [
    "MODEL_PATH = \"models\"\n",
    "MODEL_NAME = \"01_pytorch_workflow_modelv2.pth\"\n",
    "MODEL_SAVE_PATH = f\"{MODEL_PATH}/{MODEL_NAME}\"\n",
    "#torch.save(obj=model_1.state_dict(), f=MODEL_SAVE_PATH)"
   ]
  },
  {
   "cell_type": "code",
   "execution_count": 35,
   "id": "a119cf13",
   "metadata": {
    "ExecuteTime": {
     "end_time": "2023-02-01T15:01:04.685238Z",
     "start_time": "2023-02-01T15:01:04.673246Z"
    }
   },
   "outputs": [
    {
     "data": {
      "text/plain": [
       "<All keys matched successfully>"
      ]
     },
     "execution_count": 35,
     "metadata": {},
     "output_type": "execute_result"
    }
   ],
   "source": [
    "loaded_model_1 = LinearRegressionModelV2()\n",
    "loaded_model_1.load_state_dict(torch.load(MODEL_SAVE_PATH))"
   ]
  },
  {
   "cell_type": "code",
   "execution_count": 36,
   "id": "7e39c44c",
   "metadata": {
    "ExecuteTime": {
     "end_time": "2023-02-01T15:01:05.016051Z",
     "start_time": "2023-02-01T15:01:04.690234Z"
    }
   },
   "outputs": [
    {
     "data": {
      "image/png": "[encoded data removed]",
      "text/plain": [
       "<Figure size 640x480 with 1 Axes>"
      ]
     },
     "metadata": {},
     "output_type": "display_data"
    }
   ],
   "source": [
    "loaded_model_0.eval()\n",
    "with torch.inference_mode():\n",
    "    y_preds_new = loaded_model_1(X_test)\n",
    "plot_predictions(predictions=y_preds_new)"
   ]
  }
 ],
 "metadata": {
  "kernelspec": {
   "display_name": "Python 3 (ipykernel)",
   "language": "python",
   "name": "python3"
  },
  "language_info": {
   "codemirror_mode": {
    "name": "ipython",
    "version": 3
   },
   "file_extension": ".py",
   "mimetype": "text/x-python",
   "name": "python",
   "nbconvert_exporter": "python",
   "pygments_lexer": "ipython3",
   "version": "3.9.13"
  }
 },
 "nbformat": 4,
 "nbformat_minor": 5
}
