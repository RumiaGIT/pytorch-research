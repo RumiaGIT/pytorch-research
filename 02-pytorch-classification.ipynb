{
 "cells": [
  {
   "cell_type": "markdown",
   "id": "37a7da8f",
   "metadata": {},
   "source": [
    "# 02. PyTorch Classification"
   ]
  },
  {
   "cell_type": "markdown",
   "id": "1a98bc4d",
   "metadata": {},
   "source": [
    "https://www.learnpytorch.io/02_pytorch_classification/"
   ]
  },
  {
   "cell_type": "markdown",
   "id": "c3dd9917",
   "metadata": {
    "ExecuteTime": {
     "end_time": "2023-02-01T15:13:31.252532Z",
     "start_time": "2023-02-01T15:13:31.237543Z"
    }
   },
   "source": [
    "## Table of Contents"
   ]
  },
  {
   "cell_type": "markdown",
   "id": "ed0c5f0c",
   "metadata": {},
   "source": [
    "- [All Links in Document](#links)\n",
    "- [PyTorch Classification](#class)"
   ]
  },
  {
   "cell_type": "markdown",
   "id": "c11bb1a3",
   "metadata": {},
   "source": [
    "## All Links in Document <a name=\"links\"></a>"
   ]
  },
  {
   "cell_type": "markdown",
   "id": "72a14484",
   "metadata": {},
   "source": [
    "- https://www.learnpytorch.io/02_pytorch_classification/\n",
    "- 2\n",
    "- 3"
   ]
  },
  {
   "cell_type": "markdown",
   "id": "1c5e2493",
   "metadata": {},
   "source": [
    "## PyTorch Classification <a name=\"workflow\"></a>"
   ]
  },
  {
   "cell_type": "code",
   "execution_count": 2,
   "id": "7af64b81",
   "metadata": {
    "ExecuteTime": {
     "end_time": "2023-02-01T15:14:38.252397Z",
     "start_time": "2023-02-01T15:14:38.223406Z"
    }
   },
   "outputs": [
    {
     "name": "stdout",
     "output_type": "stream",
     "text": [
      "hi\n"
     ]
    }
   ],
   "source": [
    "import torch\n",
    "import numpy as np\n",
    "import matplotlib.pyplot as plt"
   ]
  }
 ],
 "metadata": {
  "kernelspec": {
   "display_name": "Python 3 (ipykernel)",
   "language": "python",
   "name": "python3"
  },
  "language_info": {
   "codemirror_mode": {
    "name": "ipython",
    "version": 3
   },
   "file_extension": ".py",
   "mimetype": "text/x-python",
   "name": "python",
   "nbconvert_exporter": "python",
   "pygments_lexer": "ipython3",
   "version": "3.9.13"
  }
 },
 "nbformat": 4,
 "nbformat_minor": 5
}
